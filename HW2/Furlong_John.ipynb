{
 "cells": [
  {
   "cell_type": "markdown",
   "metadata": {},
   "source": [
    "<a id='top'></a>\n",
    "\n",
    "# Homework 2: Introduction to Probability and Simulation \n",
    "***\n",
    "\n",
    "**Name**: \n",
    "\n",
    "***\n",
    "\n",
    "This assignment is due on Canvas by **5 PM on Friday February 15**. Your solutions to theoretical questions should be done in Markdown directly below the associated question.  Your solutions to computational questions should include any specified Python code and results as well as written commentary on your conclusions.  Remember that you are encouraged to discuss the problems with your classmates, but **you must write all code and solutions on your own**.\n",
    "\n",
    "**NOTES**: \n",
    "\n",
    "- Any relevant data sets should be available under the **Data** module on Canvas, as well as in the zipped folder in which you obtained this assignment. To make life easier on the graders if they need to run your code, do not change the relative path names here. Instead, move the files around on your computer.\n",
    "- If you're not familiar with typesetting math directly into Markdown then by all means, do your work on paper first and then typeset it later.  Remember that there is a [reference guide](https://math.meta.stackexchange.com/questions/5020/mathjax-basic-tutorial-and-quick-reference) linked on Canvas on writing math in Markdown. **All** of your written commentary, justifications and mathematical work should be in Markdown.\n",
    "- Because you can technically evaluate notebook cells in a non-linear order, it's a good idea to do Kernel $\\rightarrow$ Restart & Run All as a check before submitting your solutions.  That way if we need to run your code you will know that it will work as expected. \n",
    "- It is **bad form** to make your reader interpret numerical output from your code.  If a question asks you to compute some value from the data you should show your code output **AND** write a summary of the results in Markdown directly below your code. \n",
    "- This probably goes without saying, but... For any question that asks you to calculate something, you **must show all work and justify your answers to receive credit**. Sparse or nonexistent work will receive sparse or nonexistent credit. \n",
    "\n",
    "---\n",
    "**Shortcuts:**  [Problem 1](#p1) | [Problem 2](#p2) | [Problem 3](#p3) | [Problem 4](#p4)\n",
    "\n",
    "---"
   ]
  },
  {
   "cell_type": "code",
   "execution_count": 9,
   "metadata": {
    "collapsed": true,
    "scrolled": true
   },
   "outputs": [],
   "source": [
    "import pandas as pd\n",
    "import numpy as np\n",
    "import matplotlib.pylab as plt\n",
    "%matplotlib inline"
   ]
  },
  {
   "cell_type": "markdown",
   "metadata": {},
   "source": [
    "***\n",
    "<a/ id='p1'></a>\n",
    "[Back to top](#top)\n",
    "\n",
    "### [30 points] Problem 1\n",
    "\n",
    "Courtney, Nick and Jarrod are playing special version of <a href=\"https://en.wikipedia.org/wiki/Monopoly_(game)\">Monopoly</a>. Because the three of them are all scoundrels, they are all currently in Jail. In Monopoly, players roll two 6-sided dice on their turn. In their version of Monopoly, however, to get out of Jail, a player must roll *doubles* (the two dice have the same outcome) and must keep re-rolling the dice until they get doubles during their first turn in Jail. As soon as a player rolls doubles, they are let out of Jail and their turn ends. Let $D$ represent the event that a player rolls doubles.\n",
    "\n",
    "Work the following problems by hand unless otherwise stated (but don't be afraid to simulate to check your result!). It is okay to use Python as a calculator, of course."
   ]
  },
  {
   "cell_type": "markdown",
   "metadata": {},
   "source": [
    "**Part A**: What is the probability that a player will roll doubles on their first, second, or third roll while in jail? Note that if a player rolls doubles on their third roll, for example, then they must *not* have rolled doubles on either of the first two rolls. Keep 4 decimal places in your answer."
   ]
  },
  {
   "cell_type": "markdown",
   "metadata": {},
   "source": [
    "**Solution:**\n",
    "\n",
    "A player can rolls doubles on the first, second or third roll, and these events are disjoint. So $P(D) = P(\\text{first roll}) + P(\\text{second roll}) + P(\\text{third roll})$\n",
    "\n",
    "The probability of rolling doubles on any given roll is $P(D) = 6/36 = \\dfrac{1}{6}$\n",
    "\n",
    "$P(\\text{first roll}) = \\dfrac{1}{6}$\n",
    "\n",
    "$P(\\text{second roll}) = P(\\text{doubles on second roll}) \\times P(\\text{not doubles on first roll}) = \\dfrac{1}{6} \\cdot \\dfrac{5}{6}$\n",
    "\n",
    "$P(\\text{third roll}) = P(\\text{doubles on third roll}) \\times P(\\text{not doubles on first or second roll}) = \\dfrac{1}{6} \\cdot \\left(\\dfrac{5}{6}\\right)^2$\n",
    "\n",
    "$\\longrightarrow P(D) = \\dfrac{1}{6} + \\dfrac{1}{6}\\cdot \\dfrac{5}{6} + \\dfrac{1}{6}\\cdot \\left(\\dfrac{5}{6}\\right)^2 = \\fbox{$0.4213$}$"
   ]
  },
  {
   "cell_type": "code",
   "execution_count": 10,
   "metadata": {},
   "outputs": [
    {
     "name": "stdout",
     "output_type": "stream",
     "text": [
      "P(D)=0.4213\n"
     ]
    }
   ],
   "source": [
    "pD = 1/6\n",
    "print(\"P(D)={:0.4f}\".format(pD*(1+(1-pD)+(1-pD)**2)))"
   ]
  },
  {
   "cell_type": "markdown",
   "metadata": {},
   "source": [
    "**Part B:** *The plot thickens!* Darth Ketelsen is well-known to meddle in Jedi affairs. Did I mention that Courtney, Nick and Jarrod are all in Computer Science Jedi training? That's not important for this problem, but it is interesting. \n",
    "\n",
    "Turns out, Darth Ketelsen will occasionally secretly swap out the dice in the Jedi's Monopoly game for a pair of dice that have been weighted. Each of Darth Ketelsen's two dice is weighted such that a 6 is rolled with probability $1/2$, and all the other numbers are equally likely to be rolled. If Darth Ketelsen switches the dice for her weighted ones, she does so before the game begins, and the entire game of Monopoly is played with the same pair of dice, whether they are fair or weighted.\n",
    "\n",
    "What is the probability of rolling doubles on the first, second or third roll while in jail, using Darth Ketelsen's weighted dice? Again, keep 4 decimal places in your answer."
   ]
  },
  {
   "cell_type": "markdown",
   "metadata": {},
   "source": [
    "**Solution:**\n",
    "\n",
    "Again, $P(D) = P(\\text{first roll}) + P(\\text{second roll}) + P(\\text{third roll})$\n",
    "\n",
    "The probability of rolling a 6 is $0.5$, so the probability of obtaining doubles via 6s is $1/2 \\times 1/2 = \\dfrac{1}{4}$.\n",
    "\n",
    "The probability of rolling a 1-5 is $\\dfrac{1/2}{5} = \\dfrac{1}{10}$\n",
    "\n",
    "So, the probability of rolling doubles via a pair of 1s, 2s, 3s, 4s or 5s is $(1/10)^2 = \\dfrac{1}{100}$ each.\n",
    "\n",
    "Thus, now the probability of rolling doubles on any given roll is $P(D) = 1/4 + 5\\times 1/100 = \\dfrac{1}{4} + \\dfrac{1}{20} = \\dfrac{6}{20} = \\dfrac{3}{10}$\n",
    "\n",
    "$P(\\text{first roll}) = \\dfrac{3}{10}$\n",
    "\n",
    "$P(\\text{second roll}) = P(\\text{doubles on second roll}) \\times P(\\text{not doubles on first roll}) = \\dfrac{3}{10} \\cdot \\dfrac{7}{10}$\n",
    "\n",
    "$P(\\text{third roll}) = P(\\text{doubles on third roll}) \\times P(\\text{not doubles on first or second roll}) = \\dfrac{3}{10} \\cdot \\left(\\dfrac{7}{10}\\right)^2$\n",
    "\n",
    "$\\longrightarrow P(D) = \\dfrac{3}{10} + \\dfrac{3}{10}\\cdot \\dfrac{7}{10} + \\dfrac{3}{10}\\cdot \\left(\\dfrac{7}{10}\\right)^2 = \\fbox{$0.6570$}$"
   ]
  },
  {
   "cell_type": "code",
   "execution_count": 11,
   "metadata": {},
   "outputs": [
    {
     "name": "stdout",
     "output_type": "stream",
     "text": [
      "P(D)=0.6570\n"
     ]
    }
   ],
   "source": [
    "pD = 3/10\n",
    "print(\"P(D)={:0.4f}\".format(pD*(1+(1-pD)+(1-pD)**2)))"
   ]
  },
  {
   "cell_type": "markdown",
   "metadata": {},
   "source": [
    "**Part C:** Suppose that before any given game of Monopoly, Darth Ketelsen replaces the normal six-sided dice with her loaded dice with probability $0.25$. Then the players proceed to play their entire game using either the loaded dice, or the fair dice.  It is unknown to the player who is rolling, however, whether they are using the unfair or fair dice. What is the probability that a player gets doubles within three rolls? Keep 4 decimal places in your answer."
   ]
  },
  {
   "cell_type": "markdown",
   "metadata": {},
   "source": [
    "**Solution**:\n",
    "\n",
    "Let $D$ represent the event that a player rolls doubles within three turns, let $F$ represent the event that the padawans are playing with fair dice, and let $U$ represent the event that they are playing with unfair dice.\n",
    "\n",
    "$\\begin{align*}\n",
    "P(D) &= P(D \\mid F)P(F) + P(D \\mid U) P(U) \\\\\n",
    "&= 0.4213 \\cdot 0.75 + 0.6570 \\cdot 0.25 \\\\\n",
    "&\\approx \\fbox{$0.4802$}\n",
    "\\end{align*}$"
   ]
  },
  {
   "cell_type": "code",
   "execution_count": 12,
   "metadata": {},
   "outputs": [
    {
     "name": "stdout",
     "output_type": "stream",
     "text": [
      "pD_total=0.4802\n"
     ]
    }
   ],
   "source": [
    "pD = 1/6\n",
    "pD_fair = pD*(1+(1-pD)+(1-pD)**2)\n",
    "\n",
    "pD = 3/10\n",
    "pD_unfair = pD*(1+(1-pD)+(1-pD)**2)\n",
    "\n",
    "p_unfair = 0.25\n",
    "pD_total = pD_fair*(1-p_unfair) + pD_unfair*p_unfair\n",
    "print(\"pD_total={:0.4f}\".format(pD_total))"
   ]
  },
  {
   "cell_type": "code",
   "execution_count": 13,
   "metadata": {},
   "outputs": [
    {
     "data": {
      "text/plain": [
       "0.480225"
      ]
     },
     "execution_count": 13,
     "metadata": {},
     "output_type": "execute_result"
    }
   ],
   "source": [
    "# Check that answer with rounded-off values is consistent:\n",
    ".4213*.75 + .6570*.25"
   ]
  },
  {
   "cell_type": "markdown",
   "metadata": {},
   "source": [
    "**Part D:** While it is unknown whether they are playing with Darth Ketelsen's unfair dice, or with fair dice, Courtney, Jarrod and Nick are armed and dangerous... with *probability theory*, that is! Well, probability theory and lightsabers.\n",
    "\n",
    "Suppose that starting from jail, all three of Courtney, Jarrod and Nick have taken one turn, and all three of them have managed to roll doubles within 3 rolls. If you were not given this information, you would assume that there is a probability of $0.25$ that they are playing with Darth Ketelsen's unfair dice. But now, given this information, what is the probability that they are playing with the unfair dice?"
   ]
  },
  {
   "cell_type": "markdown",
   "metadata": {},
   "source": [
    "**Solution:**\n",
    "\n",
    "We want to find the probability that they are playing with the unfair dice, given that 3 out of 3 players have all rolled doubles within 3 rounds. Call this event $D_3$, and call the event that they are playing with the unfair dice $U$. So we are tasked with finding $P(U \\mid D_3)$.\n",
    "\n",
    "Note that the event \"Jarrod rolls doubles within 3 rounds\" is independent of the event \"Courtney rolls doubles within 3 rounds\" (for example). So $P(D_3 \\mid U) = P(D_1 \\mid U)^3$, where $P(D_1 \\mid U)$ is the probability that just one player rolls doubles within 3 rounds (the answer from Part B).\n",
    "\n",
    "We use Bayes' Theorem and the Law of Total Probability:\n",
    "\n",
    "$\\begin{align*}\n",
    "  p(U \\mid D_3) &= \\dfrac{p(D_3 \\mid U)p(U)}{p(D_3)} \\\\\n",
    "                &= \\dfrac{p(D_1 \\mid U)^3 p(U)}{p(D_1 \\mid U)^3p(U) + p(D_1 \\mid F)^3p(F)} \\\\\n",
    "                &= \\dfrac{0.6570^3 \\cdot 0.25}{0.6570^3 \\cdot 0.25 + .4213^3 \\cdot .75} \\\\\n",
    "                &\\approx \\fbox{$0.5583$}\n",
    " \\end{align*}$"
   ]
  },
  {
   "cell_type": "code",
   "execution_count": 14,
   "metadata": {},
   "outputs": [
    {
     "name": "stdout",
     "output_type": "stream",
     "text": [
      "P(Unfair|D3)=0.5583\n"
     ]
    }
   ],
   "source": [
    "pD = 1/6\n",
    "pD_fair = pD*(1+(1-pD)+(1-pD)**2)\n",
    "\n",
    "pD = 3/10\n",
    "pD_unfair = pD*(1+(1-pD)+(1-pD)**2)\n",
    "\n",
    "p_unfair = 0.25\n",
    "n = 3\n",
    "\n",
    "p_unfair_D3 = (pD_unfair**n)*p_unfair/((pD_fair**n)*(1-p_unfair) + (pD_unfair**n)*p_unfair)\n",
    "\n",
    "print(\"P(Unfair|D3)={:0.4f}\".format(p_unfair_D3))"
   ]
  },
  {
   "cell_type": "code",
   "execution_count": 15,
   "metadata": {},
   "outputs": [
    {
     "data": {
      "text/plain": [
       "0.558334209737698"
      ]
     },
     "execution_count": 15,
     "metadata": {},
     "output_type": "execute_result"
    }
   ],
   "source": [
    "# Check that answer with rounded-off values is consistent:\n",
    "(.6570**3)*.25 / ((.6570**3)*.25 + (.4213**3)*.75)"
   ]
  },
  {
   "cell_type": "markdown",
   "metadata": {},
   "source": [
    "**Part E**:  First, work out **by hand** a formula for the probability in general that Courtney, Jarrod and Nick are playing with Darth Ketelsen's unfair dice, given that $n$ players in a row have gotten out of jail by rolling doubles within 3 rounds. That is, you want to find a formula for $P(U \\mid D_n)$ in terms of $n$.\n",
    "\n",
    "Then, define a function `prob_unfair` to calculate $P(U \\mid D_n)$.  This function should only take one positive integer argument, $n$.\n",
    "\n",
    "Verify that your function is performing as expected by checking your answer to **Part D** by plugging in $n=3$."
   ]
  },
  {
   "cell_type": "markdown",
   "metadata": {},
   "source": [
    "**Solution**:\n",
    "\n",
    "We can generalize our answer by simply replacing the $3$ in Part D's answer formula with $n$:\n",
    "\n",
    "$\\begin{align*}\n",
    "  p(U \\mid D_n) &= \\dfrac{0.6570^n \\cdot 0.25}{0.6570^n \\cdot 0.25 + .4213^n \\cdot .75} \\\\\n",
    " \\end{align*}$"
   ]
  },
  {
   "cell_type": "code",
   "execution_count": 16,
   "metadata": {},
   "outputs": [
    {
     "data": {
      "text/plain": [
       "0.5583407133594115"
      ]
     },
     "execution_count": 16,
     "metadata": {},
     "output_type": "execute_result"
    }
   ],
   "source": [
    "def prob_unfair(n):\n",
    "    return (pD_unfair**n)*p_unfair/((pD_fair**n)*(1-p_unfair) + (pD_unfair**n)*p_unfair)\n",
    "\n",
    "# Verification of Part D answer:\n",
    "prob_unfair(3)"
   ]
  },
  {
   "cell_type": "markdown",
   "metadata": {},
   "source": [
    "**Part F:**  What is the smallest value of $n$ players in a row rolling doubles within 3 rounds that would lead to a higher-than-90% probability that the dice are unfair?  Plugging larger and larger values for $n$ into your `prob_unfair` function is a very reasonable way to check this."
   ]
  },
  {
   "cell_type": "code",
   "execution_count": 17,
   "metadata": {},
   "outputs": [
    {
     "data": {
      "text/plain": [
       "[(1, 0.34202915316982874),\n",
       " (2, 0.4477126116049228),\n",
       " (3, 0.5583407133594115),\n",
       " (4, 0.6634659662977048),\n",
       " (5, 0.7545680810684907),\n",
       " (6, 0.8274231452894563),\n",
       " (7, 0.8820326514381407),\n",
       " (8, 0.9210113971568145),\n",
       " (9, 0.9478719623361006),\n",
       " (10, 0.965936251605081),\n",
       " (11, 0.9778866390520378)]"
      ]
     },
     "execution_count": 17,
     "metadata": {},
     "output_type": "execute_result"
    }
   ],
   "source": [
    "[(n,prob_unfair(n)) for n in range(1,12)]"
   ]
  },
  {
   "cell_type": "markdown",
   "metadata": {},
   "source": [
    "**Solution:** $n=8$ is large enough for us to say there's at least a 90% probability they are playing with unfair dice."
   ]
  },
  {
   "cell_type": "markdown",
   "metadata": {},
   "source": [
    "**Part G:** Jarrod, Courtney and Nick are becoming suspicious that the dice they are playing with are unfair. They decide to keep track of how frequently each player rolls doubles. They will roll the dice `n_trials` number of times, and make a plot of their running estimate of the probability of rolling doubles, from the moment they start rolling until they finally finish all `n_trials` rolls. So, the x-axis of their plot will be the number of rolls, and the y-axis will be the running estimate of the probability of rolling doubles with the given dice, with the number of trials given by the x-axis.\n",
    "\n",
    "Write code to run 4 independent simulations of 1,000 trials each to estimate the probability of rolling doubles using the fair dice, and another 4 independent simulations to estimate the probability of rolling doubles using Darth Ketelsen's loaded dice, and plot their running estimate curves on the same set of axes. \n",
    "\n",
    "In order to more easily distinguish between the loaded dice estimates and the fair dice estimates, plot the loaded dice estimates as lines using the color `tomato` and plot the fair dice estimates using the color `seagreen`. Be sure to label your axes and include a legend.\n",
    "\n",
    "Finally, comment on how many flips appear to be necessary before Jarrod, Courtney and Nick might become convinced of what type of dice they are playing with (fair or unfair). Justify your answer fully using your figure."
   ]
  },
  {
   "cell_type": "code",
   "execution_count": 18,
   "metadata": {
    "collapsed": true
   },
   "outputs": [],
   "source": [
    "die_fair = {1 : 1/6, 2 : 1/6, 3 : 1/6, 4 : 1/6, 5 : 1/6, 6 : 1/6}\n",
    "die_unfair = {1 : 1/10, 2 : 1/10, 3 : 1/10, 4 : 1/10, 5 : 1/10, 6 : 1/2}\n",
    "\n",
    "n_trials = 1000\n",
    "n_sim = 4"
   ]
  },
  {
   "cell_type": "code",
   "execution_count": 19,
   "metadata": {
    "collapsed": true
   },
   "outputs": [],
   "source": [
    "def doubles_sim(die, n_trials):\n",
    "    roll1 = np.random.choice(list(die.keys()), p=list(die.values()), size=n_trials)\n",
    "    roll2 = np.random.choice(list(die.keys()), p=list(die.values()), size=n_trials)\n",
    "    doubles = roll1==roll2\n",
    "    return doubles.cumsum()/np.arange(1,n_trials+1)"
   ]
  },
  {
   "cell_type": "code",
   "execution_count": 20,
   "metadata": {
    "collapsed": true
   },
   "outputs": [],
   "source": [
    "p_running_fair, p_running_unfair = [], []\n",
    "for _ in range(n_sim):\n",
    "    p_running_fair.append(doubles_sim(die_fair, n_trials))\n",
    "    p_running_unfair.append(doubles_sim(die_unfair, n_trials))"
   ]
  },
  {
   "cell_type": "code",
   "execution_count": 25,
   "metadata": {},
   "outputs": [
    {
     "ename": "IndexError",
     "evalue": "list index out of range",
     "output_type": "error",
     "traceback": [
      "\u001b[0;31m---------------------------------------------------------------------------\u001b[0m",
      "\u001b[0;31mIndexError\u001b[0m                                Traceback (most recent call last)",
      "\u001b[0;32m<ipython-input-25-da1f8899b86e>\u001b[0m in \u001b[0;36m<module>\u001b[0;34m\u001b[0m\n\u001b[1;32m      5\u001b[0m         \u001b[0mplt\u001b[0m\u001b[0;34m.\u001b[0m\u001b[0mplot\u001b[0m\u001b[0;34m(\u001b[0m\u001b[0mp_running_fair\u001b[0m\u001b[0;34m[\u001b[0m\u001b[0mk\u001b[0m\u001b[0;34m]\u001b[0m\u001b[0;34m,\u001b[0m \u001b[0mcolor\u001b[0m\u001b[0;34m=\u001b[0m\u001b[0;34m'seagreen'\u001b[0m\u001b[0;34m,\u001b[0m \u001b[0mlabel\u001b[0m\u001b[0;34m=\u001b[0m\u001b[0;34m'fair dice'\u001b[0m\u001b[0;34m)\u001b[0m\u001b[0;34m\u001b[0m\u001b[0;34m\u001b[0m\u001b[0m\n\u001b[1;32m      6\u001b[0m     \u001b[0;32melse\u001b[0m\u001b[0;34m:\u001b[0m\u001b[0;34m\u001b[0m\u001b[0;34m\u001b[0m\u001b[0m\n\u001b[0;32m----> 7\u001b[0;31m         \u001b[0mplt\u001b[0m\u001b[0;34m.\u001b[0m\u001b[0mplot\u001b[0m\u001b[0;34m(\u001b[0m\u001b[0mp_running_unfair\u001b[0m\u001b[0;34m[\u001b[0m\u001b[0mk\u001b[0m\u001b[0;34m]\u001b[0m\u001b[0;34m,\u001b[0m \u001b[0mcolor\u001b[0m\u001b[0;34m=\u001b[0m\u001b[0;34m'tomato'\u001b[0m\u001b[0;34m)\u001b[0m\u001b[0;34m\u001b[0m\u001b[0;34m\u001b[0m\u001b[0m\n\u001b[0m\u001b[1;32m      8\u001b[0m         \u001b[0mplt\u001b[0m\u001b[0;34m.\u001b[0m\u001b[0mplot\u001b[0m\u001b[0;34m(\u001b[0m\u001b[0mp_running_fair\u001b[0m\u001b[0;34m[\u001b[0m\u001b[0mk\u001b[0m\u001b[0;34m]\u001b[0m\u001b[0;34m,\u001b[0m \u001b[0mcolor\u001b[0m\u001b[0;34m=\u001b[0m\u001b[0;34m'seagreen'\u001b[0m\u001b[0;34m)\u001b[0m\u001b[0;34m\u001b[0m\u001b[0;34m\u001b[0m\u001b[0m\n\u001b[1;32m      9\u001b[0m \u001b[0max\u001b[0m\u001b[0;34m.\u001b[0m\u001b[0mset_xlim\u001b[0m\u001b[0;34m(\u001b[0m\u001b[0;34m[\u001b[0m\u001b[0;36m0\u001b[0m\u001b[0;34m,\u001b[0m\u001b[0;36m1000\u001b[0m\u001b[0;34m]\u001b[0m\u001b[0;34m)\u001b[0m\u001b[0;34m\u001b[0m\u001b[0;34m\u001b[0m\u001b[0m\n",
      "\u001b[0;31mIndexError\u001b[0m: list index out of range"
     ]
    },
    {
     "data": {
      "image/png": "[encoded data removed]",
      "text/plain": [
       "<Figure size 432x288 with 1 Axes>"
      ]
     },
     "metadata": {
      "needs_background": "light"
     },
     "output_type": "display_data"
    }
   ],
   "source": [
    "fig, ax = plt.subplots(nrows=1, ncols=1, figsize=(7,5))\n",
    "for k in range(n_sim):\n",
    "    if k==1:\n",
    "        plt.plot(p_running_unfair[k], color='tomato', label='unfair dice')\n",
    "        plt.plot(p_running_fair[k], color='seagreen', label='fair dice')\n",
    "    else:\n",
    "        plt.plot(p_running_unfair[k], color='tomato')\n",
    "        plt.plot(p_running_fair[k], color='seagreen')\n",
    "ax.set_xlim([0,1000])\n",
    "ax.set_ylim([0,1])\n",
    "ax.set_xlabel('Number of rolls')\n",
    "ax.set_ylabel('Estimate of probability of doubles')\n",
    "ax.legend();"
   ]
  },
  {
   "cell_type": "markdown",
   "metadata": {},
   "source": [
    "It appears to take about 100 flips for the two sets of simulations to clearly separate. So, after about 100 flips, the young Jedi are probably ready to make some conclusion about their type of dice."
   ]
  },
  {
   "cell_type": "markdown",
   "metadata": {},
   "source": [
    "***\n",
    "<a/ id='p2'></a>\n",
    "[Back to top](#top)\n",
    "\n",
    "### [25 points] Problem 2\n",
    "\n",
    "Sonic and Amy are two average hedgehogs who have to run around campus every day for classes and hobbies. When they leave the Engineering Center (E) from their Data Science class, they like to go to 5 other places on campus: the Gym ($G~$) to exercise, the Library ($L~$) to learn, the Hill ($H~$) to grab a sandwich, Weathertech Cafe ($W~$) for a pizza, and the mountains ($M~$) to frolic with their marmot friends.\n",
    "\n",
    "Here are some rules governing their movements throughout the fair city of Boulder:\n",
    "* When Sonic and/or Amy is leaving one location, they randomly select one of the available adjacent locations, with equal probability.\n",
    "* This includes back-tracking, but note that to return to their original location would require 2 moves.\n",
    "* Assume that all moves require the same amount of time.\n",
    "* They are also not allowed to stay put; they always must move to some *other* adjacent location.\n",
    "* Sonic and Amy also act **independently** of one another. That is, the probability that Sonic goes from one place to another is independent of Amy's movements.\n",
    "\n",
    "<img src=\"http://www.cs.colorado.edu/~tonyewong/home/resources/sonic_and_amy_statespace.png\" style=\"width: 300px;\"/>"
   ]
  },
  {
   "cell_type": "markdown",
   "metadata": {},
   "source": [
    "**Part A**: Amy is currently at the Gym and she has worked up quite an appetite! She wants to go to either the Hill or the Weathertech Cafe, and is soooooooo hungry that she must land on exactly the $H$ or $W$ node in exactly one or two moves. Compute (by hand) the probability that Amy ends up at the the Hill ($H$) or the Weathertech Cafe ($W$) in exactly one or two moves, given that she is starting from the Gym ($G$). "
   ]
  },
  {
   "cell_type": "markdown",
   "metadata": {},
   "source": [
    "**Solution**:\n",
    "\n",
    "Let $H_1$ and $H_2$ be the events that Amy goes to the Hill $H$ as her first or second location. Similarly, let $W_1$ and $W_2$ be the events that Amy goes to the Weathertech Cafe as her first or second location, respectively, and let\n",
    "$E_1$, $L_1$, $G_1$ and $M_1$ be the events that Amy goes to the Engineering Center, Library, Gym and Mountains as her first location.  Yes, Amy cannot actually go to some of these places in 1 step, and cannot get to the Hill or Weathertech Cafe from some of them in 1 step either, so a bunch of probabilities we write down are going to end up being 0.\n",
    "\n",
    "We want to calculate the probability $P(H_1 \\cup H_2 \\cup W_1 \\cup W_2)$, and these events are all disjoint, so we can break this up as $P(H_1) + P(H_2) + P(W_1) + P(W_2)$\n",
    "\n",
    "On Amy's first step from the Gym, she can go to any of the Hill, Library or Engineering Center with equal probability, so $P(H_1) = 1/3$ and $P(W_1) = 0$.\n",
    "\n",
    "Now for Amy's second step. We can use the Law of Total Probability (LTP) to map out all the possible ways she can arrive at the Hill in 2 steps:\n",
    "$\\begin{align*}\n",
    "P(H_2) &= P(H_2 \\mid G_1)P(G_1) &&+ P(H_2\\mid W_1)P(W_1) &&+ P(H_2\\mid M_1)P(M_1) &&+ P(H_2\\mid L_1)P(L_1) &&+ P(H_2\\mid H_1)P(H_1) &&+ P(H_2\\mid E_1)P(E_1) \\\\\n",
    "       &= (1/3) \\cdot 0 &&+ 0 \\cdot 0 &&+ 1 \\cdot 0 &&+ (1/4) \\cdot (1/3) &&+ 0\\cdot (1/3) &&+ 0 \\cdot (1/3) \\\\\n",
    "       &= 1/12 \\approx 0.08333\n",
    " \\end{align*}$\n",
    "\n",
    "Similarly, we can use the Law of Total Probability (LTP) to map out all the possible ways she can arrive at the Weathertech Cafe in 2 steps:\n",
    "$\\begin{align*}\n",
    "P(W_2) &= P(W_2 \\mid G_1)P(G_1) &&+ P(W_2\\mid W_1)P(W_1) &&+ P(W_2\\mid M_1)P(M_1) &&+ P(W_2\\mid L_1)P(L_1) &&+ P(W_2\\mid H_1)P(H_1) &&+ P(W_2\\mid E_1)P(E_1) \\\\\n",
    "       &= 0 \\cdot 0 &&+ 0 \\cdot 0 &&+ 0 \\cdot 0 &&+ (1/4) \\cdot (1/3) &&+ 0\\cdot (1/3) &&+ (1/3) \\cdot (1/3) \\\\\n",
    "       &= 1/12 + 1/9 &&= 3/36 + 4/36 &&= 7/36 \\approx 0.1944\n",
    " \\end{align*}$\n",
    "\n",
    "Now we add these all up:\n",
    "\n",
    "$\\begin{align*}\n",
    "  P(H_1 \\cup H_2 \\cup W_1 \\cup W_2) &= 1/3 + 0 + 1/12 + 7/36 \\\\\n",
    "                                    &= 12/36 + 3/36 + 7/36 \\\\\n",
    "                                    &=  \\fbox{$22/36 = 11/18 = 0.6111$}\n",
    " \\end{align*}$"
   ]
  },
  {
   "cell_type": "markdown",
   "metadata": {},
   "source": [
    "**Part B**: Suppose that Amy is at the Gym and Sonic is working late at the Engineering Center. Later, they both leave and wander around, randomly and independently of one another, as described above.\n",
    "1. What is the probability that they run into each other in the same location on the first location visited?  \n",
    "2. Given their two initial locations, what is the probability that they meet at the Hill after 2 moves?"
   ]
  },
  {
   "cell_type": "markdown",
   "metadata": {},
   "source": [
    "**Solution:**\n",
    "\n",
    "**[1]**\n",
    "\n",
    "They could run into each other at the first location visited in exactly one way:  at the Library. Let's use the same variable naming convention as in Parts A and B, but use capital letters for Amy's stops and lowercase letters for Sonic's stops.\n",
    "\n",
    "So we want:\n",
    "$$P(\\text{meet at first stop}) = P(L_1 \\cap l_1) $$\n",
    "\n",
    "and since the two move independently of one another, this is\n",
    "$$\\begin{align*}\n",
    "P(\\text{meet at first stop}) &= P(L_1)P(l_1) \\\\\n",
    " &= \\frac{1}{3} \\cdot \\frac{1}{3} \\\\\n",
    " &= \\frac{1}{9} \\approx 0.1111\n",
    " \\end{align*}$$\n",
    " \n",
    "**[2]**\n",
    "\n",
    "For the two of them to both end up at the Hill after 2 moves, from independence, we have:\n",
    "$$P(H_2 \\cap h_2) = P(H_2)P(h_2)$$\n",
    "\n",
    "So let's calculate $P(H_2)$ and $P(h_2)$, then multiply them together.\n",
    "\n",
    "From the LTP, and leaving off terms we know will have 0 probability associated with them, for Amy we have:\n",
    "\n",
    "$\\begin{align*}\n",
    "P(H_2) &= P(H_2 \\mid L_1)P(L_1) \\\\\n",
    "       &= \\frac{1}{4} \\cdot \\frac{1}{3} \\\\\n",
    "       &= \\frac{1}{12} \\approx 0.08333\n",
    "\\end{align*}$\n",
    "\n",
    "And we do a similar calculation for Sonic:\n",
    "\n",
    "$\\begin{align*}\n",
    "P(h_2) &= P(h_2 \\mid g_1) P(g_1) + P(h_2 \\mid l_1) P(l_1) \\\\\n",
    "       &= \\frac{1}{3} \\cdot \\frac{1}{3} + \\frac{1}{4} \\cdot \\frac{1}{3} \\\\\n",
    "       &= \\frac{1}{9} + \\frac{1}{12} \\\\ %4/36 + 3/36\n",
    "       &= \\frac{7}{36} \\approx 0.1944\n",
    "\\end{align*}$\n",
    "\n",
    "So, multiply these together to find:\n",
    "\n",
    "$P(H_2 \\cap h_2) = P(H_2) P(h_2) = \\dfrac{1}{12} \\cdot \\dfrac{7}{36} = \\fbox{$\\dfrac{7}{432} \\approx 0.01620$}$"
   ]
  },
  {
   "cell_type": "markdown",
   "metadata": {},
   "source": [
    "**Part C**: Write a simulation to confirm that your by-hand calculations in **Parts A** and **B** are correct. Make sure you run your simulations for enough trials that your estimates are reasonably close to your analytic results. In addition to showing your code, you should explain in Markdown (not just in code comments) what your code is doing and why it is a reasonable approximation of the probabilities in **Parts A** and **B**."
   ]
  },
  {
   "cell_type": "markdown",
   "metadata": {},
   "source": [
    "**Solution:**\n",
    "\n",
    "The `sim_walk` function takes the initial location of Amy or Sonic, the number of steps the hedgehog will take, and the adjacency graph for the states accessible from each state location, and will return a random location for the person to be in after `n_steps` steps.\n",
    "\n",
    "Then, we can simulate a whole bunch of 1- or 2-step walks for Amy, starting from the Gym, and see what proportion of the time she ends up at either the Hill or the Weathertech Cafe (for Part A for example)."
   ]
  },
  {
   "cell_type": "code",
   "execution_count": 22,
   "metadata": {
    "collapsed": true
   },
   "outputs": [],
   "source": [
    "# Let's make a dictionary of the neighbors of each location \n",
    "graph = {\"H\":[\"G\",\"L\",\"M\"],      # neighbors of H\n",
    "         \"G\":[\"H\",\"L\",\"E\"],      # neighbors of G\n",
    "         \"M\":[\"H\"],              # neighbors of M\n",
    "         \"L\":[\"H\",\"G\",\"E\",\"W\"],  # neighbors of L\n",
    "         \"E\":[\"W\",\"L\",\"G\"],      # neighbors of E\n",
    "         \"W\":[\"L\",\"E\"]}          # neighbors of W\n",
    "\n",
    "def sim_walk(initial_location, n_steps, neighbors):\n",
    "    location = initial_location\n",
    "    for step in range(n_steps):\n",
    "        # Choose a random location by using the neighbors graph!\n",
    "        location = np.random.choice(neighbors[location])\n",
    "    return location"
   ]
  },
  {
   "cell_type": "markdown",
   "metadata": {},
   "source": [
    "So to verify our solution to **Part A**, we need to start Amy off at the Gym (G) and see how frequently the Hill (H) or the Weathertech Cafe (W) results after 1 or 2 steps."
   ]
  },
  {
   "cell_type": "code",
   "execution_count": 23,
   "metadata": {},
   "outputs": [
    {
     "name": "stdout",
     "output_type": "stream",
     "text": [
      "0.60921\n"
     ]
    }
   ],
   "source": [
    "n_sim = 100000\n",
    "pr_H1 = np.array([sim_walk(\"G\",1,graph)==\"H\" for kk in range(n_sim)]).sum()/n_sim\n",
    "pr_H2 = np.array([sim_walk(\"G\",2,graph)==\"H\" for kk in range(n_sim)]).sum()/n_sim\n",
    "pr_W1 = np.array([sim_walk(\"G\",1,graph)==\"W\" for kk in range(n_sim)]).sum()/n_sim\n",
    "pr_W2 = np.array([sim_walk(\"G\",2,graph)==\"W\" for kk in range(n_sim)]).sum()/n_sim\n",
    "print(pr_H1 + pr_H2 + pr_W1 + pr_W2)"
   ]
  },
  {
   "cell_type": "markdown",
   "metadata": {},
   "source": [
    "That's pretty close to our analytical result of about 0.6111. Woohoo!\n",
    "\n",
    "For the 1-step meeting probability for **Part B**, let's start Sonic off at the Engineering Center and start Amy off at the Gym, move them each 1 step, and see how frequently they end up in the same place."
   ]
  },
  {
   "cell_type": "code",
   "execution_count": 24,
   "metadata": {},
   "outputs": [
    {
     "name": "stdout",
     "output_type": "stream",
     "text": [
      "0.111248\n"
     ]
    }
   ],
   "source": [
    "n_sim = 1000000\n",
    "sonic  = np.array([sim_walk(\"E\",1,graph) for kk in range(n_sim)])\n",
    "amy = np.array([sim_walk(\"G\",1,graph) for kk in range(n_sim)])\n",
    "print(np.sum(sonic==amy)/n_sim)"
   ]
  },
  {
   "cell_type": "markdown",
   "metadata": {},
   "source": [
    "That's pretty close to our analytical result of $1/9$ ($0.1111$).  Yippee-dippee!\n",
    "\n",
    "Finally, for the 2-step meeting probability at the Hill of **Part B**, we do a similar thing but with 2 steps."
   ]
  },
  {
   "cell_type": "code",
   "execution_count": 25,
   "metadata": {},
   "outputs": [
    {
     "name": "stdout",
     "output_type": "stream",
     "text": [
      "0.016133091134\n"
     ]
    }
   ],
   "source": [
    "n_sim = 1000000\n",
    "sonic   = np.array([sim_walk(\"E\",2,graph) for kk in range(n_sim)])\n",
    "p_sonic = np.sum(sonic==\"H\")/n_sim\n",
    "amy     = np.array([sim_walk(\"G\",2,graph) for kk in range(n_sim)])\n",
    "p_amy   = np.sum(amy==\"H\")/n_sim\n",
    "print(p_sonic*p_amy)"
   ]
  },
  {
   "cell_type": "markdown",
   "metadata": {},
   "source": [
    "That's pretty darn close the our analytical result of about 0.01620. Yehoot!"
   ]
  },
  {
   "cell_type": "markdown",
   "metadata": {},
   "source": [
    "**Part D:** Use your simulation from Part C, possibly with some modification, to estimate the **long-run proportion of time that the hedgehogs spend in the mountains**. You can estimate this using the following technique:\n",
    "* walk a hedgehog around the graph for a very large number of steps (at least 100,000 steps), \n",
    "* keep track of which location the hedgehog is at, at each step, then\n",
    "* the proportion of their time spent at any given location may be estimated as the number of times they are at the Mountains node ($M$), divided by the total number of steps.\n",
    "\n",
    "You may be left wondering: Where should I start my hedgehog? That is very weird question, but totally valid here! It turns out that **it should not matter** where you start the hedgehog. Verify this by making your estimate from three different starting locations. Be sure to include some commentary in Markdown to state your answer for the long-run proportion of time that the hedgehogs spend in the mountains, and comment on whether it appears to depend on the initial location."
   ]
  },
  {
   "cell_type": "code",
   "execution_count": 26,
   "metadata": {
    "collapsed": true
   },
   "outputs": [],
   "source": [
    "def long_walk(init_loc, n_steps, graph):\n",
    "    # initialize a list of all the hedgehog's stops\n",
    "    stops = [init_loc]\n",
    "    for _ in range(n_steps):\n",
    "        # step the hedgehog forward 1 step and append new location to end of `stops`\n",
    "        stops.append(sim_walk(stops[-1],1,graph))\n",
    "    return np.array(stops)"
   ]
  },
  {
   "cell_type": "code",
   "execution_count": 27,
   "metadata": {},
   "outputs": [
    {
     "name": "stdout",
     "output_type": "stream",
     "text": [
      "Mountain time starting from E is 0.0635\n",
      "Mountain time starting from L is 0.0627\n",
      "Mountain time starting from W is 0.0595\n"
     ]
    }
   ],
   "source": [
    "n_steps = 100000\n",
    "\n",
    "initial = \"E\"\n",
    "stops = long_walk(initial, n_steps, graph)\n",
    "pM = np.sum(stops==\"M\")/n_steps\n",
    "print(\"Mountain time starting from {} is {:0.4f}\".format(initial,pM))\n",
    "\n",
    "initial = \"L\"\n",
    "stops = long_walk(initial, n_steps, graph)\n",
    "pM = np.sum(stops==\"M\")/n_steps\n",
    "print(\"Mountain time starting from {} is {:0.4f}\".format(initial,pM))\n",
    "\n",
    "initial = \"W\"\n",
    "stops = long_walk(initial, n_steps, graph)\n",
    "pM = np.sum(stops==\"M\")/n_steps\n",
    "print(\"Mountain time starting from {} is {:0.4f}\".format(initial,pM))"
   ]
  },
  {
   "cell_type": "markdown",
   "metadata": {},
   "source": [
    "The hedgehogs spend about 6.2% of their time in the mountains. I verified this by starting from the Engineering Center, the Library and the WeatherTech Cafe, and got about the same answer. Yahoo!"
   ]
  },
  {
   "cell_type": "markdown",
   "metadata": {},
   "source": [
    "***\n",
    "<a/ id='p3'></a>\n",
    "[Back to top](#top)\n",
    "\n",
    "### [20 points] Problem 3  \n",
    "\n",
    "After years of Computer Science Jedi training, Tony has attained the rank of Master is training two aspiring young apprentices: Nick and Courtney. For their training and Tony’s amusement, Nick and Courtney are having a lightsaber duel with the following rules:\n",
    "* The duel is composed of a number of rounds.\n",
    "* Each round consists of Nick trying to strike Courtney with his lightsaber, then Courtney trying to strike Nick with her lightsaber.\n",
    "* If Nick strikes Courtney, then he is awarded a point. Similarly, if Courtney strikes Nick, then she is also awarded a point.\n",
    "* If a round ends in a tie (i.e., either both strike each other or both miss), then Nick and Courtney proceed to another round. If a round ends with one apprentice scoring a point but the other does not, then the apprentice who scored a point wins the duel.\n",
    "\n",
    "Let $C$ be the event that \"Courtney wins the duel\", $E$ be the event that \"the duel ends after the first round of lightsaber strikes\", and $R$ be the event that \"the duel continues after the first round of lightsaber strikes\".  Suppose that the result of any given lightsaber strike is independent of the other strikes, Courtney successfully lands her lightsaber strikes with probability $p$, and Nick lands his strikes with probability $q$.\n",
    "\n",
    "**Part A**: The duel will continue until Courtney or Nick wins.  What is the sample space $\\Omega$ for this \"experiment\"?  Represent the outcomes of individual lightsaber strikes by $H$ for a hit and $M$ for a miss, and assume that Courtney has the first strike in each round. At the very least, your answer should include all of the events in $\\Omega$ that include one or two rounds, followed by \"...\" to show that you have established a pattern."
   ]
  },
  {
   "cell_type": "markdown",
   "metadata": {},
   "source": [
    "**Solution**: \n",
    "\n",
    "$$\n",
    "\\Omega = \\{HM, MH, HHHM, HHMH, MMHM, MMMH, \\ldots \\}\n",
    "$$"
   ]
  },
  {
   "cell_type": "markdown",
   "metadata": {},
   "source": [
    "**Part B**: Determine $P(C \\mid E)$ in terms of $p$ and $q$."
   ]
  },
  {
   "cell_type": "markdown",
   "metadata": {},
   "source": [
    "**Solution**:\n",
    "\n",
    "We have \n",
    "\n",
    "$$\n",
    "P(C \\mid E) = \\frac{P(C \\cap E)}{P(E)} = \\frac{P(\\{HM\\})}{P(\\{HM, MH\\})} = \\frac{p(1-q)}{p(1-q) + (1-p)q} = \\frac{p(1-q)}{p + q -2pq}\n",
    "$$"
   ]
  },
  {
   "cell_type": "markdown",
   "metadata": {},
   "source": [
    "**Part C**: Explain in words why events $C$ and $R$ should be independent. "
   ]
  },
  {
   "cell_type": "markdown",
   "metadata": {},
   "source": [
    "**Solution**:\n",
    "\n",
    "We have many tests for independence that we could employ, mathematically. In words, however, the probability that Courtney wins and the probability that the duel is continues after the first round *must* be independent. Each round of the duel begins with the two Jedi tied, and takes place identically, regardless of what score Courtney and Nick are tied at. (5 to 5 is the same as 10 to 10). So Courtney's probability of winning beginning on round 1 versus her probability of winning beginning on round 5 (after 4 tied rounds) must be the same. In symbols, that means\n",
    "$$P(C \\mid R) = P(C)$$\n",
    "which means they are independent."
   ]
  },
  {
   "cell_type": "markdown",
   "metadata": {},
   "source": [
    "**Part D**: Use the Law of Total Probability to show that $P(C) = p(1-q) + (2pq - p - q +1) P(C \\mid R)$. "
   ]
  },
  {
   "cell_type": "markdown",
   "metadata": {},
   "source": [
    "**Solution**: \n",
    "\n",
    "We'll use the Law of Total Probability and condition on the events that the duel ends and that the duel remains tied after the first round. \n",
    "\n",
    "\\begin{eqnarray}\n",
    "\\nonumber P(C) &=& P(C \\mid E)P(E) + P(C \\mid R)P(R)  \\\\\n",
    "\\\\\n",
    "\\nonumber  &=& P(C \\mid E)P(\\{HM, MH\\}) + P(C \\mid R)P(\\{HH, MM\\})  \\\\\n",
    "\\\\\n",
    "\\nonumber  &=& \\frac{p(1-q)}{p + q -2pq} P(\\{HM, MH\\}) + P(C \\mid R)P(\\{HH, MM\\})  \\quad \\left[\\textrm{From }\\textbf{Part A}\\right] \\\\\n",
    "\\\\\n",
    "\\nonumber  &=& \\frac{p(1-q)}{p + q -2pq} \\left[P(HM)+ P(MH))\\right] + P(C \\mid R)\\left[P(HH) + P(MM)   \\right] \\\\\n",
    "\\\\\n",
    "\\nonumber  &=& \\frac{p(1-q)}{p + q -2pq} \\left[p(1-q)+ (1-p)q\\right] + P(C \\mid R)\\left[pq + (1-p)(1-q)   \\right] \\\\\n",
    "\\\\\n",
    "\\nonumber  &=& \\frac{p(1-q)}{p + q -2pq} \\left[p + q - 2pq\\right] + P(C \\mid R)\\left(2pq - p - q +1 \\right) \\\\\n",
    "\\\\\n",
    "\\nonumber  &=& p(1-q) + P(C \\mid R)\\left(2pq - p - q +1 \\right) \\quad \\checkmark \\\\\n",
    "\\end{eqnarray}\n"
   ]
  },
  {
   "cell_type": "markdown",
   "metadata": {},
   "source": [
    "**Part E**: Use **Part D** and the fact from **Part C** that events $C$ and $R$ are independent to determine $P(C)$ in terms of $p$ and $q$. "
   ]
  },
  {
   "cell_type": "markdown",
   "metadata": {},
   "source": [
    "**Solution**: \n",
    "\n",
    "We'll use the Law of Total Probability and condition on the events that the duel ends and that the duel remains tied after the first round. \n",
    "\n",
    "Part D tells us:\n",
    "$$P(C) = p(1-q) + P(C \\mid R)\\left(2pq - p - q +1 \\right)$$\n",
    "\n",
    "And Part C (independence of $C$ and $R$) tells us:\n",
    "$$P(C \\mid R) = P(C)$$\n",
    "\n",
    "Put them together.\n",
    "$$P(C) = p(1-q) + P(C)\\left(2pq - p - q +1 \\right)$$\n",
    "\n",
    "Solve algebraically for $P(C)$.\n",
    "$$P(C) \\left [1- \\left(2pq - p - q +1 \\right) \\right ]= p(1-q)$$\n",
    "\n",
    "Cancel the 1 and -1, and solve.\n",
    "$$P(C) = \\frac{p(1-q)}{-2pq + p + q }$$\n"
   ]
  },
  {
   "cell_type": "markdown",
   "metadata": {},
   "source": [
    "**Part F**: Explain why the answers to **Part B** and **Part E** are the same. "
   ]
  },
  {
   "cell_type": "markdown",
   "metadata": {},
   "source": [
    "**Solution**:\n",
    "\n",
    "If there is no winner, it is as if the whole dueling process restarts anew. The duel has  no memory of previous rounds. Thus, the total probability that Courtney wins must be the same as the probability that Courtney wins in just one round, including in the first one.\n",
    "\n",
    "Therefore, $P(C) = P(C \\mid R)$."
   ]
  },
  {
   "cell_type": "markdown",
   "metadata": {},
   "source": [
    "**Part G**: Explain the significance of the solution technique for $P(C)$ outlined in **Part D** and **Part E**.  Why did we go this route instead of computing $P(C)$ directly?  Can we always use such techniques?  What assumption did we need to make in order to use this solution approach?"
   ]
  },
  {
   "cell_type": "markdown",
   "metadata": {},
   "source": [
    "**Solution**:\n",
    "\n",
    "We can only use this sort of technique if $C$ is indeed independent of $R$. In a different problem, where these two events were not independent, this solution approach would not work."
   ]
  },
  {
   "cell_type": "markdown",
   "metadata": {},
   "source": [
    "***\n",
    "<a/ id='p4'></a>\n",
    "[Back to top](#top)\n",
    "\n",
    "### [25 points] Problem 4\n",
    "\n",
    "In this problem you will write some code to simulate the game of **Miniopoly** (a very rough approximation of <a href=\"https://en.wikipedia.org/wiki/Monopoly_(game)\">Monopoly</a>).  The game consists of a round board with 40 \"squares\" numbered from $0$ to $39$, where squares $0$ and would-be $40$ are [coincident](https://en.wikipedia.org/wiki/Coincident) and called **GO**.  A player starts on **GO** with \\$200 in their pocket.  On each turn the player rolls a pair of dice and then moves a number of spaces equal to the sum of the dice.  Landing on different squares have different results: \n",
    "\n",
    "- Squares 2, 7, 17, 22, 33, and 36 cause you to draw a card.  The cards tell you to collect \\$50 or \\$100, or pay the bank \\$25 or \\$100.  There is always an equal probability associated with each of these possible cards.\n",
    "\n",
    "<p> </p>\n",
    "\n",
    "- Square 20 is **Free Parking**. If a player lands on Square 20, then they are awarded a Free Parking Bonus of \\$500. This should be a generic input variable to your `miniopoly_turn` function called `bonus`, so you can modify it later. But, the default value for `bonus` should be \\$500.\n",
    "\n",
    "<p> </p>\n",
    "\n",
    "- Square 30 is **Go To Jail**. (So if a player has landed on Square 30, then you know they have been to jail.)\n",
    "\n",
    "<p> </p>\n",
    "\n",
    "- If a player starts a turn from **Jail** she rolls two dice: \n",
    "\n",
    "    - If the player rolls doubles (i.e. the dice have equal values), then the player moves from Square 10 a number of squares equal to the sum of the dice\n",
    "    \n",
    "    - If the player rolls anything other than doubles, then she pays the bank \\$20 and remains in **Jail** \n",
    "    \n",
    "<p> </p>\n",
    "\n",
    "- If the player passes or lands on **GO** (square 0) she collects \\$200. \n",
    "\n",
    "<p> </p>\n",
    "\n",
    "- If the player lands on any other square not mentioned above, she pays the bank an amount equal to the square's number (e.g. if she lands on Square 29 she pays the bank \\$29). \n",
    "\n",
    "<p> </p>\n",
    "\n",
    "If at any point the player has \\$0 or less they go bankrupt and the game ends.\n",
    "\n",
    "See [here](http://www.cs.colorado.edu/~tonyewong/home/resources/miniopoly_example.png) for an example of the Miniopoly board layout.\n",
    "\n",
    "<br>\n",
    "\n",
    "**Part A**: Complete the function `miniopoly_turn` below. The function should simulate one turn of Miniopoly.  It should take as arguments the player's current location on the board as well as the player's current cash reserves and the amount of the Free Parking (Square 20) bonus, and return the player's new location and cash reserves after the turn has completed. Note that if a player goes bankrupt during the game you should return their cash as 0 instead of a negative value.\n",
    "\n",
    "**Warning:** This function will be auto-graded, so do **not** change the form of the function inputs/outputs (API)."
   ]
  },
  {
   "cell_type": "code",
   "execution_count": 28,
   "metadata": {
    "collapsed": true
   },
   "outputs": [],
   "source": [
    "# GIVEN code - do not change the inputs/outputs!\n",
    "def miniopoly_turn(state, cash, bonus=500):\n",
    "    # your code goes here!\n",
    "    #   should update `state` and `cash`\n",
    "    #   according to rules of the game\n",
    "    return state, cash"
   ]
  },
  {
   "cell_type": "code",
   "execution_count": 29,
   "metadata": {
    "collapsed": true,
    "scrolled": true
   },
   "outputs": [],
   "source": [
    "# SOLUTION:\n",
    "\n",
    "def miniopoly_turn(state, cash, bonus=500):\n",
    "    # bankrupt!\n",
    "    if cash==0:\n",
    "        return state, cash\n",
    "    # roll two dice\n",
    "    a = np.random.choice(6)+1\n",
    "    b = np.random.choice(6)+1\n",
    "    \n",
    "    # if in jail\n",
    "    if state==30:\n",
    "        # did we roll doubles?\n",
    "        if a==b:\n",
    "            # move from state 10\n",
    "            state = 10+a+b\n",
    "        else:\n",
    "            cash += -20\n",
    "            return state, cash\n",
    "    # and if not in jail\n",
    "    else:\n",
    "        state = state + a + b    \n",
    "\n",
    "    # Free parking\n",
    "    if state==20:\n",
    "        cash += bonus\n",
    "        \n",
    "    # pass or land on GO\n",
    "    if state >= 40:\n",
    "        cash += 200\n",
    "        state = state-40\n",
    "        \n",
    "    # draw cards\n",
    "    if state in [2,7,17,22,33,36]:\n",
    "        cash += np.random.choice([50,100,-25,-100])\n",
    "        return state, cash \n",
    "    \n",
    "    # Jail\n",
    "    if state==30:\n",
    "        return state, cash \n",
    "    if state in list([0,10,20]):\n",
    "        return state, cash\n",
    "    else:\n",
    "        # otherwise, pay up.\n",
    "        cash += -state\n",
    "        return state, cash"
   ]
  },
  {
   "cell_type": "code",
   "execution_count": 30,
   "metadata": {},
   "outputs": [
    {
     "ename": "NameError",
     "evalue": "name 'scipy' is not defined",
     "output_type": "error",
     "traceback": [
      "\u001b[0;31m---------------------------------------------------------------------------\u001b[0m",
      "\u001b[0;31mNameError\u001b[0m                                 Traceback (most recent call last)",
      "\u001b[0;32m<ipython-input-30-f6de323a5145>\u001b[0m in \u001b[0;36m<module>\u001b[0;34m\u001b[0m\n\u001b[1;32m      1\u001b[0m \u001b[0;31m# %load '../../homework_grades/HW02/unit_tests'\u001b[0m\u001b[0;34m\u001b[0m\u001b[0;34m\u001b[0m\u001b[0;34m\u001b[0m\u001b[0m\n\u001b[1;32m      2\u001b[0m \u001b[0mconfidence\u001b[0m \u001b[0;34m=\u001b[0m \u001b[0;36m.99\u001b[0m\u001b[0;34m\u001b[0m\u001b[0;34m\u001b[0m\u001b[0m\n\u001b[0;32m----> 3\u001b[0;31m \u001b[0mz_alp2\u001b[0m \u001b[0;34m=\u001b[0m \u001b[0mscipy\u001b[0m\u001b[0;34m.\u001b[0m\u001b[0mstats\u001b[0m\u001b[0;34m.\u001b[0m\u001b[0mnorm\u001b[0m\u001b[0;34m.\u001b[0m\u001b[0mppf\u001b[0m\u001b[0;34m(\u001b[0m\u001b[0;36m.995\u001b[0m\u001b[0;34m)\u001b[0m\u001b[0;34m\u001b[0m\u001b[0;34m\u001b[0m\u001b[0m\n\u001b[0m\u001b[1;32m      4\u001b[0m \u001b[0;34m\u001b[0m\u001b[0m\n\u001b[1;32m      5\u001b[0m \u001b[0;32mdef\u001b[0m \u001b[0mtest_miniopoly_turn\u001b[0m\u001b[0;34m(\u001b[0m\u001b[0;34m)\u001b[0m\u001b[0;34m:\u001b[0m\u001b[0;34m\u001b[0m\u001b[0;34m\u001b[0m\u001b[0m\n",
      "\u001b[0;31mNameError\u001b[0m: name 'scipy' is not defined"
     ]
    }
   ],
   "source": [
    "# %load '../../homework_grades/HW02/unit_tests'\n",
    "confidence = .99\n",
    "z_alp2 = scipy.stats.norm.ppf(.995)\n",
    "\n",
    "def test_miniopoly_turn():\n",
    "\n",
    "    total = 0\n",
    "\n",
    "    # --------------------------------------------------------------\n",
    "    # Jail behavior\n",
    "    # --------------------------------------------------------------\n",
    "    num_jtests = int(1e4)\n",
    "    print(\"Testing Go-to-Jail:    \", end=\"\")\n",
    "    state, fortune = 30, 200\n",
    "    pairs = [miniopoly_turn(state, fortune) for ii in range(num_jtests)]\n",
    "    states = np.array([pair[0] for pair in pairs])\n",
    "    cashes = np.array([pair[1] for pair in pairs])\n",
    "    out_prob = np.sum(states != 30) / num_jtests\n",
    "    deduct_prob = np.sum(cashes == 180) / num_jtests\n",
    "    SEO = np.sqrt(out_prob*(1-out_prob)/num_jtests)\n",
    "    SED = np.sqrt(out_prob*(1-out_prob)/num_jtests)\n",
    "    if out_prob - z_alp2*SEO <= 1/6 <= out_prob + z_alp2*SEO:\n",
    "        print(\"Passed Jail Get-Out test, \", end=\"\")\n",
    "        total += 1\n",
    "    else:\n",
    "        print(\"Failed Jail Get-Out test, \", end=\"\")\n",
    "    if deduct_prob - z_alp2*SED <= 5/6 <= deduct_prob + z_alp2*SED:\n",
    "        print(\"Passed Jail Payment test\")\n",
    "        total += 1\n",
    "    else:\n",
    "        print(\"Failed Jail Payment test\")\n",
    "\n",
    "    # --------------------------------------------------------------\n",
    "    # Pass Go behavior\n",
    "    # --------------------------------------------------------------\n",
    "    num_gtests = int(1e2)\n",
    "    print(\"Testing Passed Go:     \", end=\"\")\n",
    "    pass_go = True\n",
    "    for ii in range(num_gtests):\n",
    "        old_state, old_fortune = 39, 1000\n",
    "        state, fortune = miniopoly_turn(old_state, old_fortune)\n",
    "        pass_go = 0\n",
    "        xpass_go = 0\n",
    "        if not state in [2, 7, 17, 22, 33, 36, 0, 10, 20, 30]:\n",
    "            xpass_go += 1\n",
    "            if ((fortune == (old_fortune + 200-state)) or (fortune == (old_fortune + 200-state + 10*(state+1)/2))):\n",
    "                pass_go += 1\n",
    "    if pass_go==xpass_go:\n",
    "        print(\"Passed Pass-Go test\")\n",
    "        total += 2\n",
    "    else:\n",
    "        print(\"Failed Pass-Go test\")\n",
    "\n",
    "    # --------------------------------------------------------------\n",
    "    # Free parking behavior\n",
    "    # --------------------------------------------------------------\n",
    "    num_ftests = int(1e2)\n",
    "    print(\"Testing Free Parking:  \", end=\"\")\n",
    "    n_fp = 0\n",
    "    n_correct = 0\n",
    "    for ii in range(num_ftests):\n",
    "        old_state, old_fortune = 13, 10000\n",
    "        bonus = 3022 # testing if code can handle an arbitrary bonus -- lose points if not\n",
    "        state, fortune = miniopoly_turn(old_state, old_fortune, bonus=bonus)\n",
    "        if (state==20 and fortune-old_fortune==bonus):\n",
    "            n_fp += 1\n",
    "            n_correct += 1\n",
    "    for ii in range(num_ftests):\n",
    "        old_state, old_fortune = 13, 10000\n",
    "        bonus = 0\n",
    "        state, fortune = miniopoly_turn(old_state, old_fortune, bonus=bonus)\n",
    "        if (state==20 and fortune-old_fortune==bonus):\n",
    "            n_fp += 1\n",
    "            n_correct += 1\n",
    "\n",
    "    if n_fp==n_correct:\n",
    "        print(\"Passed Free Parking test\")\n",
    "        total += 2\n",
    "    else:\n",
    "        print(\"Failed Free Parking test\")\n",
    "\n",
    "    # --------------------------------------------------------------\n",
    "    # Card behavior\n",
    "    # --------------------------------------------------------------\n",
    "    print(\"Testing Cards:         \", end=\"\")\n",
    "    state, fortune = 0, 200\n",
    "    num_ctests = int(1e5)\n",
    "    pairs = [miniopoly_turn(state, fortune) for ii in range(num_ctests)]\n",
    "    states = np.array([pair[0] for pair in pairs])\n",
    "    cashes = np.array([pair[1] for pair in pairs])\n",
    "    card_squares = np.where([state in [2, 7, 17, 22, 33, 36] for state in states])[0]\n",
    "    card_gains = cashes[card_squares]-200\n",
    "    mean_card = np.mean([50,100,-25,-100])#+10/7 # +10/7 for doubles on the 2\n",
    "    mean_gain = np.mean(card_gains)\n",
    "    SE = np.std(card_gains)/np.sqrt(len(card_gains))\n",
    "    if mean_gain - z_alp2*SE <= mean_card <= mean_gain + z_alp2*SE:\n",
    "        print(\"Passed Card test\")\n",
    "        total += 1\n",
    "    else:\n",
    "        print(\"Failed Card test\")\n",
    "        # print(\"mean_card = {:.3f}, CI = [{:.3f}, {:.3f}]\".format(\n",
    "            # mean_card, mean_gain - z_alp2*SE, mean_gain + z_alp2*SE\n",
    "        # ))\n",
    "\n",
    "    # --------------------------------------------------------------\n",
    "    # Test Bankrupcy\n",
    "    # --------------------------------------------------------------\n",
    "    print(\"Testing Bankruptcy:    \", end=\"\")\n",
    "\n",
    "    for ii in range(1000):\n",
    "        old_state, old_fortune = 0, 1\n",
    "        state, fortune = miniopoly_turn(old_state, old_fortune)\n",
    "        ctr = 0\n",
    "        bkctr = 0\n",
    "        if state in [3,5,9,11]:\n",
    "            ctr+=1\n",
    "            if fortune <= 0:\n",
    "                bkctr += 1\n",
    "    if ctr==bkctr:\n",
    "        print(\"Passed Bankruptcy test\")\n",
    "        total += 1\n",
    "    else:\n",
    "        print(\"Failed Bankruptcy test\")\n",
    "\n",
    "    # --------------------------------------------------------------\n",
    "    # Test Rent\n",
    "    # --------------------------------------------------------------\n",
    "    num_rtests = int(1e3)\n",
    "    print(\"Testing Rent:          \", end=\"\")\n",
    "    state, fortune = 0, 1000000\n",
    "    rent_pass_ct = 0\n",
    "    n = 0\n",
    "    for ii in range(num_rtests):\n",
    "        old_state, old_fortune = state, fortune\n",
    "        state, fortune = miniopoly_turn(state, fortune, bonus=0)\n",
    "        if (state not in [2, 7, 17, 22, 33, 36, 0, 10, 20, 30]) and (state > old_state):\n",
    "            n += 1\n",
    "            if (fortune == (old_fortune - state)):\n",
    "                rent_pass_ct += 1\n",
    "#        if (state in [0]) and (state > old_state):\n",
    "#            n += 1\n",
    "#            if (fortune == old_fortune):\n",
    "#                rent_pass_ct += 1\n",
    "    # in expectation, the fraction should be N(5/6, 5/36n)\n",
    "    # so (rent_pass_ct/num_rtests-5/6)/(np.sqrt(5/(36*num_rtests)))\n",
    "    se = np.sqrt(5/(36*n))\n",
    "    truemean = 5/6\n",
    "    test_stat = rent_pass_ct/n\n",
    "    # print(test_stat,truemean-z_alp2*se,truemean+z_alp2*se)\n",
    "    if ((test_stat >= truemean-z_alp2*se) and (test_stat <= truemean + z_alp2*se)) or (n==rent_pass_ct):\n",
    "        print(\"Passed Rent test\")\n",
    "        total += 2\n",
    "    else:\n",
    "        print(\"Failed Rent test\")\n",
    "\n",
    "    print(\"Part A Total: {}/10\".format(total))\n",
    "\n",
    "def miniopoly_game(num_turns=20, bonus=500):\n",
    "    old_state, old_fortune = 0, 200\n",
    "    pass_go_ctr = 0\n",
    "    free_parking = False\n",
    "    for ii in range(num_turns):\n",
    "        state, fortune = miniopoly_turn(old_state, old_fortune, bonus)\n",
    "        if state==20:\n",
    "            free_parking = True\n",
    "        else:\n",
    "            pass_go_ctr += 1 if ((old_state > state) and (old_state != 30)) else 0\n",
    "        if fortune <= 0:\n",
    "            return 0, free_parking, pass_go_ctr\n",
    "        old_state, old_fortune = state, fortune\n",
    "    return fortune, free_parking, pass_go_ctr\n",
    "\n",
    "def test_problem_4():\n",
    "    '''\n",
    "    # GIVEN code - do not change the inputs/outputs!\n",
    "    def miniopoly_turn(state, cash, bonus=500):\n",
    "    # your code goes here!\n",
    "    #   should update `state` and `cash`\n",
    "    #   according to rules of the game\n",
    "        return state, cash\n",
    "    '''\n",
    "    print(\"Testing Problem 4 Part A:\")\n",
    "    test_miniopoly_turn()\n",
    "\n",
    "    print(\"\")\n",
    "\n",
    "    print(\"Testing Problem 4 Part C:\")\n",
    "    num_games = int(5e3)\n",
    "    num_turns = 40\n",
    "    broke = np.array([miniopoly_game(num_turns)[0] for ii in range(num_games)]) <= 0\n",
    "    broke_mean = np.mean(broke)\n",
    "    SE = np.std(broke)/np.sqrt(len(broke))\n",
    "    CI = [broke_mean-z_alp2*SE, broke_mean+z_alp2*SE]\n",
    "    print(\"P(Bankrupt after {} with $500 FP bonus) \\u2208 [{:.3f},{:.3f}]\".format(num_turns, CI[0], CI[1]))\n",
    "\n",
    "    broke = np.array([miniopoly_game(num_turns, bonus=0)[0] for ii in range(num_games)]) <= 0\n",
    "    broke_mean = np.mean(broke)\n",
    "    SE = np.std(broke)/np.sqrt(len(broke))\n",
    "    CI = [broke_mean-z_alp2*SE, broke_mean+z_alp2*SE]\n",
    "    print(\"P(Bankrupt after {} with no FP bonus) \\u2208 [{:.3f},{:.3f}]\".format(num_turns, CI[0], CI[1]))\n",
    "\n",
    "    print(\"\")\n",
    "\n",
    "    print(\"Testing Problem 4 Part D:\")\n",
    "    num_games = int(5e3)\n",
    "    num_turns = 40\n",
    "    trials = [miniopoly_game(num_turns) for ii in range(num_games)]\n",
    "    broke = np.array([trial[0]<=0 for trial in trials])\n",
    "    free_parking = np.array([trial[1] for trial in trials])\n",
    "    broke_fp_mean = np.mean(broke[free_parking])\n",
    "    SE = np.std(broke[free_parking])/np.sqrt(len(broke[free_parking]))\n",
    "    CI = [broke_fp_mean-z_alp2*SE, broke_fp_mean+z_alp2*SE]\n",
    "    print(\"P(Not bankrupt | Free parking) \\u2208 [{:.3f},{:.3f}]\".format(1-CI[1], 1-CI[0]))\n",
    "    print(\"... alternatively ... \")\n",
    "    print(\"P(Bankrupt | Free parking) \\u2208 [{:.3f},{:.3f}]\".format(CI[0], CI[1]))\n",
    "\n",
    "    print(\"\")\n",
    "\n",
    "    print(\"Testing Problem 4 Part E:\")\n",
    "    num_games = int(5e3)\n",
    "    num_turns = 40\n",
    "    trials = [miniopoly_game(num_turns) for ii in range(num_games)]\n",
    "    notbroke = np.array([trial[0] > 0 for trial in trials])\n",
    "    lotsfp = np.array([trial[1] >= 1 for trial in trials])\n",
    "#    notbroke_fp_mean = np.mean(notbroke[lotsfp])\n",
    "#    SE = np.std(notbroke[lotsfp])/np.sqrt(len(notbroke[lotsfp]))\n",
    "    notbroke_fp_mean = np.mean(lotsfp[notbroke])\n",
    "    SE = np.std(lotsfp[notbroke])/np.sqrt(len(lotsfp[notbroke]))\n",
    "    CI = [notbroke_fp_mean-z_alp2*SE, notbroke_fp_mean+z_alp2*SE]\n",
    "    print(\"P(FP \\u2265 1 | Not bankrupt) \\u2208 [{:.3f},{:.3f}]\".format(CI[0], CI[1]))\n",
    "\n",
    "test_problem_4()\n"
   ]
  },
  {
   "cell_type": "markdown",
   "metadata": {},
   "source": [
    "**Part B**: Use your function from **Part A** to simulate at least 5000 games of Miniopoly for 20 turns, 40 turns and 60 turns, and make a **density** histogram of the player's cash at the end of the game under all 3 scenarios for number of turns. The histogram box faces should be slightly transparent, so as to be able to tell the 3 game-length scenarios apart. For all three histograms, use bins of width \\$250, starting at 0 on the left and extending as far to the right as needed. As always, be sure to label your axes and include an informative legend.\n",
    "\n",
    "Comment on how the histogram shape changes as the game progresses. Namely, how does the length of the game affect the distribution of players' cash? How many modes are there, and why?"
   ]
  },
  {
   "cell_type": "code",
   "execution_count": null,
   "metadata": {},
   "outputs": [],
   "source": [
    "# SOLUTION:\n",
    "\n",
    "def game(n_turns, bonus=500):\n",
    "    s,c = 0,200\n",
    "    for turn in range(n_turns):\n",
    "        s,c = miniopoly_turn(s,c,bonus)\n",
    "        if c <= 0:\n",
    "            return 0\n",
    "    return c\n",
    "\n",
    "ngames = 5000\n",
    "n_turns = [20,40,60]\n",
    "final_cash = [np.zeros(ngames) for k in range(len(n_turns))]\n",
    "for k in range(len(n_turns)):\n",
    "    for g in range(ngames):\n",
    "        final_cash[k][g] = game(n_turns[k],500)"
   ]
  },
  {
   "cell_type": "code",
   "execution_count": null,
   "metadata": {},
   "outputs": [],
   "source": [
    "my_bins = range(0,5000,250)\n",
    "my_colors = ['steelblue','seagreen','coral']\n",
    "\n",
    "fig, ax = plt.subplots(nrows=1, ncols=1, figsize=(7,5))\n",
    "\n",
    "for k in range(len(n_turns)):\n",
    "    plt.hist(final_cash[k], bins=my_bins, edgecolor='white', facecolor=my_colors[k], \n",
    "             alpha=.7, density=True, label=str(n_turns[k])+' turns')\n",
    "ax.set_title('Cash at end of game')\n",
    "ax.set_xlabel('Cash [$]')\n",
    "ax.set_ylabel('Density')\n",
    "ax.set_axisbelow(True)\n",
    "ax.legend();"
   ]
  },
  {
   "cell_type": "markdown",
   "metadata": {},
   "source": [
    "As the games get longer, it becomes more likely that players have larger sums of money. The distribution becomes bimodal after 40 turns because one mode corresponds to players who have gone bankrupt and the other mode corresponds to players who are thriving."
   ]
  },
  {
   "cell_type": "markdown",
   "metadata": {},
   "source": [
    "**Part C**: Use your code from **Parts A and B** to estimate the probability that a player goes bankrupt in the first 40 turns of the game. Use at least 10,000 simulations.\n",
    "\n",
    "Then, run a set of at least 10,000 simulations to estimate the probability that a player goes bankrupt in the first 40 turns of the game if you remove the Free Parking Bonus of \\$500, so if a player lands on Square 20, nothing happens. Here, you should be able to easily adapt your calls to the `miniopoly_turn` function to remove the Free Parking Bonus.\n",
    "\n",
    "A common criticism of the Free Parking Bonus is that it makes Monopoly games take much longer to play. Do your results support this claim? How does the Free Parking rule seem to affect the Miniopoly games? Fully explain and justify your answers.\n",
    "\n",
    "Do you like the Free Parking bonus rule?"
   ]
  },
  {
   "cell_type": "code",
   "execution_count": null,
   "metadata": {},
   "outputs": [],
   "source": [
    "# SOLUTION:\n",
    "\n",
    "ngames = 10000\n",
    "\n",
    "# with free parking bonus of $500\n",
    "bankrupt = 0\n",
    "for g in range(ngames):\n",
    "    if game(40,500)==0:\n",
    "        bankrupt += 1\n",
    "pB_fp = bankrupt/ngames\n",
    "\n",
    "# with no free parking bonus ($0)\n",
    "bankrupt = 0\n",
    "for g in range(ngames):\n",
    "    if game(40,0)==0:\n",
    "        bankrupt += 1\n",
    "pB_nfp = bankrupt/ngames\n",
    "\n",
    "print(\"P(Bankrupt) with free parking bonus of $500 = {:0.4f}\".format(pB_fp))\n",
    "print(\"P(Bankrupt) with no free parking bonus = {:0.4f}\".format(pB_nfp))"
   ]
  },
  {
   "cell_type": "markdown",
   "metadata": {},
   "source": [
    "The Free Parking Bonus appears to reduce the probability that a player will go bankrupt within 40 turns. This has the effect of making games of Monopoly longer, in support of the criticism of the Free Parking Bonus. It's not a huge difference, but geez oh pete it sure would be nice to figure out some way to check if this difference is _significant_ or not...! "
   ]
  },
  {
   "cell_type": "markdown",
   "metadata": {},
   "source": [
    "**Part D**: (Note: For the rest of this problem, use a Free Parking Bonus of \\$500.)\n",
    "\n",
    "Use your code from the previous parts to estimate the probability that a player ***does not*** go bankrupt in the first 40 turns _given_ that they have landed on Free Parking at least once.  Is a player more or less likely to go bankrupt if they've landed on Free Parking? Use at least 10,000 simulations of 40-turn games, and keep at least 4 decimal places in your answer."
   ]
  },
  {
   "cell_type": "markdown",
   "metadata": {},
   "source": [
    "**Solution:**\n",
    "\n",
    "The following `parking_game` code will start a new game by calling itself if the game ended and the player did not land on Free Parking. Thus, if you run it $n$ times, then you will have $n$ games in which the player has landed on Free Parking. This means we just need to look at in how many `parking_games` the player goes bankrupt, out of the total number of `parking_games`."
   ]
  },
  {
   "cell_type": "code",
   "execution_count": null,
   "metadata": {
    "collapsed": true
   },
   "outputs": [],
   "source": [
    "# SOLUTION:\n",
    "\n",
    "def parking_game():\n",
    "    parked = False\n",
    "    s,c = 0,200\n",
    "    for turn in range(40):\n",
    "        s,c = miniopoly_turn(s,c,500)\n",
    "        if s==20:\n",
    "            parked = True\n",
    "        if c <= 0:\n",
    "            if parked:\n",
    "                return 0\n",
    "            else:\n",
    "                return parking_game()\n",
    "    if parked:\n",
    "        return c\n",
    "    else:\n",
    "        return parking_game()"
   ]
  },
  {
   "cell_type": "markdown",
   "metadata": {},
   "source": [
    "Now, note that the probability of *not* going bankrupt, given that a player has landed on Free Parking, is equal to one minus the probability that they *do* go bankrupt, given that they have landed on Free Parking."
   ]
  },
  {
   "cell_type": "code",
   "execution_count": null,
   "metadata": {},
   "outputs": [],
   "source": [
    "ngames = 10000\n",
    "bankrupt = 0\n",
    "for g in range(ngames):\n",
    "    if parking_game()==0:\n",
    "        bankrupt += 1\n",
    "pB_given_P = bankrupt/ngames\n",
    "print(\"P(not-Bankrupt | landed on Free Parking) = {}\".format(1-pB_given_P))"
   ]
  },
  {
   "cell_type": "markdown",
   "metadata": {},
   "source": [
    "It appears that landing on Free Parking makes it pretty much guaranteed that the player will ***not*** go bankrupt."
   ]
  },
  {
   "cell_type": "markdown",
   "metadata": {},
   "source": [
    "**Part E**: Use your code from the previous parts to estimate the probability (either directly or using Bayes' Rule) that a player has landed on Free Parking at least once, given that the player did not go bankrupt in the first 40 turns."
   ]
  },
  {
   "cell_type": "code",
   "execution_count": null,
   "metadata": {
    "collapsed": true
   },
   "outputs": [],
   "source": [
    "# SOLUTION:\n",
    "\n",
    "def is_parking_game():\n",
    "    parked = False\n",
    "    s,c = 0,200\n",
    "    for turn in range(40):\n",
    "        s,c = miniopoly_turn(s,c,500)\n",
    "        if s==20:\n",
    "            return 1\n",
    "        if c <= 0:\n",
    "            return 0\n",
    "    return 0"
   ]
  },
  {
   "cell_type": "code",
   "execution_count": null,
   "metadata": {},
   "outputs": [],
   "source": [
    "ngames = 10000\n",
    "park = 0\n",
    "for g in range(ngames):\n",
    "    if is_parking_game()==1:\n",
    "        park += 1\n",
    "park/ngames"
   ]
  },
  {
   "cell_type": "markdown",
   "metadata": {},
   "source": [
    "Let $F$ be the event that a player has visitied Free Parking, and let $B$ be the event that the player goes bankrupt within the first 40 turns.\n",
    "\n",
    "By Bayes, \n",
    "$$P(F \\mid B^C) = \\frac{P(B^C \\mid F)P(F)}{P(B^C)}$$\n",
    "\n",
    "And our ingredients are:\n",
    "$$P(B^C) = 1-0.1345 = 0.8655$$\n",
    "$$P(B^C \\mid F) = 0.9996$$\n",
    "$$P(F)=0.6067$$\n",
    "\n",
    "Note that your values for those three may differ, but should be consistent with your answers to Parts C, D and E.\n",
    "\n",
    "Plugging in:\n",
    "$$P(F \\mid B^C)=\\frac{0.9996 \\times 0.6067}{0.8655}$$\n",
    "\n",
    "$$P(F \\mid B^C)=0.7007$$"
   ]
  },
  {
   "cell_type": "code",
   "execution_count": null,
   "metadata": {},
   "outputs": [],
   "source": [
    ".9996 * .6067 / .8655"
   ]
  },
  {
   "cell_type": "code",
   "execution_count": null,
   "metadata": {},
   "outputs": [],
   "source": []
  },
  {
   "cell_type": "code",
   "execution_count": null,
   "metadata": {},
   "outputs": [],
   "source": []
  },
  {
   "cell_type": "code",
   "execution_count": null,
   "metadata": {},
   "outputs": [],
   "source": []
  },
  {
   "cell_type": "code",
   "execution_count": null,
   "metadata": {},
   "outputs": [],
   "source": []
  }
 ],
 "metadata": {
  "kernelspec": {
   "display_name": "Python 3",
   "language": "python",
   "name": "python3"
  },
  "language_info": {
   "codemirror_mode": {
    "name": "ipython",
    "version": 3
   },
   "file_extension": ".py",
   "mimetype": "text/x-python",
   "name": "python",
   "nbconvert_exporter": "python",
   "pygments_lexer": "ipython3",
   "version": "3.7.3"
  }
 },
 "nbformat": 4,
 "nbformat_minor": 2
}
