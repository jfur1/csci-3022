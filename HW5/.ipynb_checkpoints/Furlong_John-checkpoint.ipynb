{
 "cells": [
  {
   "cell_type": "markdown",
   "metadata": {},
   "source": [
    "<a id='top'></a>\n",
    "\n",
    "# Homework 5: Bootstrap, Hypothesis Testing and Regression\n",
    "***\n",
    "\n",
    "**Name**: John Furlong\n",
    "\n",
    "***\n",
    "\n",
    "This assignment is due on Moodle by **5 PM on Friday April 19**. Your solutions to theoretical questions should be done in Markdown/MathJax directly below the associated question.  Your solutions to computational questions should include any specified Python code and results as well as written commentary on your conclusions.  Remember that you are encouraged to discuss the problems with your instructors and classmates, but **you must write all code and solutions on your own**. \n",
    "\n",
    "**NOTES**: \n",
    "\n",
    "- Any relevant data sets should be available under the **Data** module on Canvas, as well as in the zipped folder in which you obtained this assignment. \n",
    "- Do **NOT** load or use any Python packages that are not available in Anaconda 3.6. \n",
    "- Because you can technically evaluate notebook cells in a non-linear order, it's a good idea to do Kernel $\\rightarrow$ Restart & Run All as a check before submitting your solutions.  That way if we need to run your code you will know that it will work as expected. \n",
    "- It is **bad form** to make your reader interpret numerical output from your code.  If a question asks you to compute some value from the data you should show your code output **AND** write a summary of the results in Markdown directly below your code. \n",
    "- You **MUST** leave all of your notebook cells **evaluated** so the graders do not need to re-evaluate them. For 100+ students, this extra time adds up, and makes the graders' lives unnecessarily more difficult.\n",
    "- This probably goes without saying, but... For any question that asks you to calculate something, you **must show all work and justify your answers to receive credit**. Sparse or nonexistent work will receive sparse or nonexistent credit. \n",
    "- Submit only this Jupyter notebook to Canvas.  Do not compress it using tar, rar, zip, etc. \n",
    "\n",
    "---\n",
    "**Shortcuts:**  [Problem 1](#p1) | [Problem 2](#p2) | [Problem 3](#p3) | [Problem 4](#p4) \n",
    "\n",
    "---"
   ]
  },
  {
   "cell_type": "code",
   "execution_count": 1,
   "metadata": {
    "collapsed": true,
    "scrolled": true
   },
   "outputs": [],
   "source": [
    "import numpy as np\n",
    "import matplotlib.pyplot as plt\n",
    "import pandas as pd\n",
    "from scipy import stats \n",
    "%matplotlib inline"
   ]
  },
  {
   "cell_type": "markdown",
   "metadata": {},
   "source": [
    "<br>\n",
    "\n",
    "---\n",
    "[Back to top](#top)\n",
    "<a id='p1'></a>\n",
    "\n",
    "### [15 points] Problem 1 - Hypothesis Testing Whether your Co-worker is a Doofus \n",
    "\n",
    "You are working as a Data Scientist for an internet-based hedgehog deliver company. Your co-worker, Daley Jennanigans, is a lovable scamp! Unfortunately, Daley also makes a lot of mistakes throughout the day as the two of you team up to tackle some inference work regarding your company's hedgehog-loving customers. In each case, clearly explain why Daley's hypothesis testing setup or conclusion is incorrect."
   ]
  },
  {
   "cell_type": "markdown",
   "metadata": {},
   "source": [
    "**Part A**: Daley has some data on the characteristics of customers that visited the company's website over the previous month.  He wants to perform an analysis on the proportion of last month's website visitors that bought a hedgehog. Let $X$ be the random variable describing the number of website visitors who bought a hedgehog in the previous month, and suppose that the population proportion of visitors who bought a hedgehog is $p$. Daley is interested to see if the data suggests that more than 20% of website visitors actually buy a hedgehog.  He decides to perform the test with a null hypothesis of $H_0: \\hat{p} = 0.20$. "
   ]
  },
  {
   "cell_type": "markdown",
   "metadata": {},
   "source": [
    "This is an example of an invalid null hypothesis, because all statistical hypotheses are defined as a claim about the value of a parameter of a population statistic. However, Daley's null hypothesis is attempting to perform a hypothesis test using the $\\textit{estimate}$ for the population proportion $\\hat{p}$, but instead he needs to use the $\\textit{true}$ population proportion $p$."
   ]
  },
  {
   "cell_type": "markdown",
   "metadata": {},
   "source": [
    "**Part B**: Daley decides instead to do his hypothesis test with a null hypothesis of $H_0: p < 0.20$.  "
   ]
  },
  {
   "cell_type": "markdown",
   "metadata": {},
   "source": [
    "This is an invalid null hypothesis, because the null hypothesis **always** uses an equals sign. Other inequalities are used in the alternative hypothesis, which is always what we want to find evidence in favor of. An appropriate problem formulation for hypothesis testing would be: \n",
    "- The conclusion that action is justified is identified with the alternative hypothesis, and it would take conslusive evidence to justify rejecting $H_{0}$, which should be $p = 0.20$ in this case."
   ]
  },
  {
   "cell_type": "markdown",
   "metadata": {},
   "source": [
    "**Part C**: Now Daley is finally on track with reasonable hypotheses of $H_0: p = 0.20$ and $H_1: p > 0.20$. Daley computes for the sample proportion a normalized test-statistic of $z = 2.4$ and states that since $z = 2.4 > 0.01$ there is insufficient statistical evidence at the $\\alpha = 0.01$ significance level to conclude that the proportion of customers who buy a hedgehog is greater than 20%."
   ]
  },
  {
   "cell_type": "markdown",
   "metadata": {},
   "source": [
    "Daley's conclusion is incorrect in this example because we do not compare our $Z_{TS}$ test statistic to $\\alpha$, but instead use $\\alpha$ to calculate our $Z_{crit}$ critical values and compare that to $Z_{TS}$. The critical values are determined by what $Z$ puts $\\alpha$ probability in the tails. The significance level $\\alpha$ indicates the largest probability of the test statistic occurring under the null hypothesis that would lead you to reject the null hypothesis"
   ]
  },
  {
   "cell_type": "markdown",
   "metadata": {},
   "source": [
    "**Part D**: Daley is again conducting the hypothesis test of $H_0: p = 0.20$ and $H_1: p > 0.20$, and found the test-statistic $z=2.4$. Daley computes his p-value as:\n",
    "$$\\text{p-value} = \\texttt{stats.norm.cdf(2.4)} = 0.9918$$\n",
    "\n",
    "Since his p-value (0.9918) is greater than the significance level (0.01), Daley again claims that there is insufficient evidence at the 1% significance level to conclude that the proportion of customers who buy a hedgehog is greater than 20%."
   ]
  },
  {
   "cell_type": "markdown",
   "metadata": {},
   "source": [
    "In this example, Daley's logic is correct in that, we fail to reject the null hypothesis if the p-value is greater than the signifcance level; however, his conclusion is invalid because he failed to use the proper p-value cooresponding to his alternative hypothesis. Davey's alternative hypothesis is $H_{1} : \\theta > \\theta_{0}$ which cooresponds to p-value = $1 - \\phi(Z)$ rather than p-value $\\phi(Z)$ like Davey used.\n",
    "The calculation would instead be p-value = $1 - \\texttt{stats.norm.cdf(2.4)}$ = 0.008197535924596155 which is in fact $\\le$ 0.01 = $\\alpha$, so we would reject the null hypothesis."
   ]
  },
  {
   "cell_type": "markdown",
   "metadata": {},
   "source": [
    "**Part E**: Daley is again conducting the hypothesis test of $H_0: p = 0.20$ and $H_1: p > 0.20$. Suppose he computes a p-value of $0.03$, and then concludes that there is only a 3% probability that the null hypothesis is true. "
   ]
  },
  {
   "cell_type": "markdown",
   "metadata": {},
   "source": [
    "This is an incorrect interpretation of what a p-value is. The p-value says nothing about the probability that a null hypothesis is true, but rather, is calculated under the assumption that the null hypothesis is true. The p-value is the probability -- under the null hypothesis -- that we would get a test statistic at least as extreme as the one we calculated; the p-value assesses the extremeness of a test statisitc. The smaller the p-value, the more evidence we have against the null hypothesis. "
   ]
  },
  {
   "cell_type": "markdown",
   "metadata": {},
   "source": [
    "<br>\n",
    "\n",
    "---\n",
    "[Back to top](#top)\n",
    "<a id='p2'></a>\n",
    "\n",
    "### [25 points] Problem 2 - Naps vs Coffee for Memory? \n",
    "\n",
    "It is estimated that [about 75% of adults](https://www.ncbi.nlm.nih.gov/pmc/articles/PMC4997286/) in the United States drink coffee. Often, coffee is used to replace the need for sleep. It works alright, or so we think. Let's find out, in this exciting homework problem!\n",
    "\n",
    "[One recent study](https://www.sciencedirect.com/science/article/pii/S1388245703002554) investigated the effects of drinking coffee, taking a nap, and having a [\"coffee-nap\"](https://lifehacker.com/naps-vs-coffee-which-is-better-when-youre-exhausted-1730643671) - the practice of drinking some coffee *and then* having a short nap. The study broke participants up into three groups of 10 participants each, where the groups would have a nap, or have a coffee, or have a coffee-nap, then perform a task where their reaction time was measured. In previous experiments the mean reaction time measurement was found to be approximately normally distributed. The mean reaction times (milliseconds, ms) and standard deviations for the three groups of participants are given in the table below.\n",
    "\n",
    "$$\n",
    "\\begin{array}{c|c|c|c}\n",
    "\\textrm{Group} & \\textrm{Sample Size} & \\textrm{Mean} & \\textrm{Standard Deviation} \\\\\n",
    "\\hline \n",
    "\\textrm{Coffee+Nap} & 10 & 451.3 & 31.9 \\\\ \n",
    "\\textrm{Coffee} & 10 & 494.2 & 39.6 \\\\ \n",
    "\\textrm{Nap} & 10 & 492.8 & 45.2 \\\\ \n",
    "\\end{array}\n",
    "$$\n",
    "\n",
    "**Part A**: Compute a 95% t-confidence interval for the mean reaction time measurement for participants in each of these three groups. (You should find three separate confidence intervals.) Set up your calculations by hand, and report the results in Markdown/MathJax. Of course, you can and should use Python as a calculator.\n",
    "\n",
    "1. Can you make any conclusions regarding whether coffee, naps or both (coffee-naps) are better for faster reaction times?\n",
    "2. Why did we use a t-distribution?"
   ]
  },
  {
   "cell_type": "code",
   "execution_count": 2,
   "metadata": {},
   "outputs": [
    {
     "data": {
      "text/plain": [
       "2.2621571627409915"
      ]
     },
     "execution_count": 2,
     "metadata": {},
     "output_type": "execute_result"
    }
   ],
   "source": [
    "stats.t.ppf(0.975, 9)"
   ]
  },
  {
   "cell_type": "markdown",
   "metadata": {},
   "source": [
    "Let $\\bar{x}$ and $s$ be the sample mean and sample standard deviation computed from a random sample of size n, from a normal population with mean $\\mu$.\n",
    "\n",
    "Then a 100(1-$\\alpha$)% confidence interval for the mean $\\mu$ is given by:\n",
    "- t-CI : $\\bar{x} \\pm t_{\\frac{\\alpha}{2},n-1}\\frac{s}{\\sqrt{n}}$\n",
    "\n",
    "- Where $t_{\\frac{\\alpha}{2},n-1} = $stats.t.ppf$((1-\\frac{\\alpha}{2}, df=n-1)$ and significance level $\\alpha$ = 1 - (confidence)\n",
    "\n",
    "- $t_{0.025,10-1} = $stats.t.ppf$((0.975, df=9) = 2.2621571627409915$ for every sample because $n = 10$ and $(1-\\frac{\\alpha}{2}) = 0.975$\n",
    "\n",
    "Calculating a 95% t-Confidence interval for our three sample groups:\n",
    "1. **Coffee+Naps**\n",
    " - $\\bar{x} = 451.3$,  $n = 10$, and  $s = 31.9$\n",
    " - 95% t-CI : $\\bar{x} \\pm t_{\\frac{\\alpha}{2},n-1}\\frac{s}{\\sqrt{n}}$\n",
    " - 95% t-CI : $451.3 \\pm (2.2621571627409915)\\frac{31.9}{\\sqrt{10}}$\n",
    " - **95% t-CI (Coffee+Nap):** $\\big[428.48 , 474.1199 \\big] $\n",
    " \n",
    "2. **Coffee**\n",
    " - $\\bar{x} = 494.2$,  $n = 10$, and  $s = 39.6$\n",
    " - 95% t-CI : $\\bar{x} \\pm t_{\\frac{\\alpha}{2},n-1}\\frac{s}{\\sqrt{n}}$\n",
    " - 95% t-CI : $494.2 \\pm (2.2621571627409915)\\frac{39.6}{\\sqrt{10}}$\n",
    " - **95% t-CI (Coffee):** $\\big[465.872 , 522.528 \\big] $\n",
    " \n",
    "3. **Naps**\n",
    " - $\\bar{x} = 492.8$,  $n = 10$, and  $s = 45.2$\n",
    " - 95% t-CI : $\\bar{x} \\pm t_{\\frac{\\alpha}{2},n-1}\\frac{s}{\\sqrt{n}}$\n",
    " - 95% t-CI : $492.8 \\pm (2.2621571627409915)\\frac{45.2}{\\sqrt{10}}$\n",
    " - **95% t-CI (Naps):** $\\big[460.466 , 525.134 \\big] $"
   ]
  },
  {
   "cell_type": "markdown",
   "metadata": {},
   "source": [
    "1. We cannot make any conclusions regarding whether coffee, naps or both are better for faster reaction times. This is because we made our calculations using a confidence interval, which simply ensures that we are $100(1-\\alpha)$% confident that the value of a parameter from a sample (in this case, sample mean $\\bar{x}$) lies within a certain interval. A single confidence interval test tells us nothing about compairsons between two samples, meaning we cannot make any direct comparisons between the samples without using some kind of two sample inference/prediction test. \n",
    "\n",
    "2. We used a t-distribution in this example because we know that sample sizes less than 30 are considered \"small samples\". We were also given that the mean reaction time measurements to be approximately normally distributed, which eliminates the bootstrap method. While we are given sample standard deviations $s_{i}$, the population standard deviation $\\sigma$ is unknown; therefore, we cannot perform a z-test and by process of elimination are forced to use a t-distribution. "
   ]
  },
  {
   "cell_type": "markdown",
   "metadata": {},
   "source": [
    "**Part B**: Use a **rejection region hypothesis test** to determine if there sufficient evidence, at the $\\alpha = 0.05$ significance level, to conclude that taking a nap promotes faster reaction time than drinking coffee.  Be sure to clearly explain the test that you're doing and state all hypotheses. Do all computations in Python, and report results.\n",
    "\n",
    "**Note** that the number of degrees of freedom for a two-sample t-test is $df_1 + df_2 = (n_1-1) + (n_2-1) = n_1 + n_2 - 2$ (where $n_1$ and $n_2$ are the number of data points from each of the two samples). All other mechanics are the same as the two-sample z-tests we know and love."
   ]
  },
  {
   "cell_type": "markdown",
   "metadata": {},
   "source": [
    "To formulate our rejection region hypothesis for the 2-sample t-test, we must first develop a null and alternative hypothesis. We are trying to determine if taking a nap promotes faster reaction time than drinking coffee. \n",
    "\n",
    "Let $\\mu_{1}$ be the sample mean for the \"Nap\" group.\n",
    "Let $\\mu_{2}$ be the sample mean for the \"Coffee\" group.\n",
    "\n",
    "$H_{0}: \\mu_{1} - \\mu_{2} = 0$\n",
    "\n",
    "$H_{1}: \\mu_{1} - \\mu_{2} < 0$\n",
    "\n",
    "Using our alternative analysis and our knowledge of critical region tests, we have alternative hypothesis $H_{1}: \\mu_{1} - \\mu_{2} < 0$ which cooresponds to the rejection region of $t \\le -t_{\\alpha, v}$.\n",
    "\n",
    "First we must calculate our rejection region critical value $t$: \n",
    "\n",
    "$t = \\frac{\\mu_1 - \\mu_2}{\\sqrt{\\frac{s_1^2}{n_1}\\frac{s_2^2}{n_2}}} \\sim N(0,1)$ (Use $s$ to approximate for unknown value of $\\sigma$)\n",
    "\n",
    "$t = \\frac{492.8 - 494.2}{\\sqrt{\\frac{45.2^2}{10}\\frac{39.6^2}{10}}} \\sim N(0,1)$ \n",
    "\n",
    "$t = \\pm 0.73672$, but since our alternative hypothesis is $H_1: \\theta < \\theta_0$, our critical region level $\\alpha$ test is: $t \\le -t_{\\alpha, v}$ and thus, we are only concerned about the negative value of the test statistic.\n",
    "\n",
    "Next, we must must find the value of $-t_{\\alpha, v}$. We are using a 2-sample t-test so $v= degrees of freedom = n_1 + n_2 - 2 = 10 + 10 - 2 = 18$. \n",
    "\n",
    "So, $t_{\\alpha, v} = t_{0.05, 18} = \\texttt{stats.t.ppf(0.05, df = 18)}$\n",
    "\n",
    "$t_{\\alpha, v} = -1.7340636066175354$\n",
    "\n",
    "Finally, we determine whether $t \\le t_{\\alpha, v}$ :\n",
    "\n",
    "$ t = -0.73672 $ NOT $\\le -1.7340636066175354 = t_{\\alpha, v}$\n",
    "\n",
    "Our test statistic of $t = -0.73672$ is not less than or equal to our rejection region and thus, **We fail to reject the null hypothesis** because the test does not provide statistical evidence that, at the $\\alpha = 0.05$ significance level, the mean reaction time of the \"Nap\" group is less than the mean reaction time of the \"Coffee\" group.\n"
   ]
  },
  {
   "cell_type": "code",
   "execution_count": 3,
   "metadata": {},
   "outputs": [
    {
     "data": {
      "text/plain": [
       "-1.734063606617536"
      ]
     },
     "execution_count": 3,
     "metadata": {},
     "output_type": "execute_result"
    }
   ],
   "source": [
    "stats.t.ppf(.05, 18)"
   ]
  },
  {
   "cell_type": "markdown",
   "metadata": {},
   "source": [
    "**Part C**: Perform an appropriate hypothesis test (you may use either p-values or rejection region) to determine if there is sufficient evidence, at the $\\alpha = 0.05$ significance level, to conclude that taking a coffee-nap promotes faster reaction time than only drinking coffee, or only having a nap. So, there should be two separate hypothesis tests, but they are seeking to show similar results (one for coffee-nap versus coffee-only, and one for coffee-nap versus nap-only). Be sure to clearly explain the test that you're doing and state all hypotheses. Do all computations in Python, and report results."
   ]
  },
  {
   "cell_type": "markdown",
   "metadata": {},
   "source": [
    "For this problem, I will be using the same process as the previous example. Here, we must perform 2 two-sample t-tests for the difference between means. One of the two-sample tests will look at the difference between the mean reaction times of the \"Coffee-Nap\" group vs. the \"Nap\" group, while the other two-sample test will be conducted on the \"Coffee-Nap\" group vs. the \"Coffee\" group. \n",
    "\n",
    "- \"Coffee-Nap\" vs. \"Coffee\" difference in mean sample reaction times:\n",
    "Let $\\mu_1$ be the sample mean reaction time of the \"Coffee-Nap\" group.\n",
    "Let $\\mu_2$ be the sample mean reaction time of the \"Coffee\" group.\n",
    "$H_0 : \\mu_1 - \\mu_2 = 0$\n",
    "$H_1 : \\mu_1 - \\mu_2 < 0$\n",
    "\n",
    "Again, our alternative hypothesis is:\n",
    "$H_1: \\theta < \\theta_0$\n",
    "So, our critical region level $\\alpha$ test is $t \\le t_{\\alpha, v}$\n",
    "Where $v = degrees of freedom = n_1 + n_2 - 2 = 18$\n",
    "Thus, $t_{\\alpha, v} = t_{0.05, 18} = \\texttt{stats.t.ppf(0.05, df = 18)}$\n",
    "$t_{\\alpha, v} = -1.734063606617536$\n",
    "\n",
    "Now, we must find our test statistic $t$:\n",
    "$$t = \\frac{\\mu_1 - \\mu_2}{\\sqrt{\\frac{s_1^2}{n_1}\\frac{s_2^2}{n_2}}} \\sim N(0,1)$$\n",
    "\n",
    "$$t = \\frac{451.3 - 494.2}{\\sqrt{\\frac{31.9^2}{10}\\frac{39.6^2}{10}}} \\sim N(0,1)$$\n",
    "\n",
    "$$t = -0.165908$$\n",
    "\n",
    "$t = -0.165908$ is not less than or equal to $t_{\\alpha, v} = -1.734063606617536$, so we **Fail to reject the null hypothesis**, because at the $\\alpha = 0.05$ signficance level, there is not enough statistical evidence to conclude that the mean reaction time of the \"Coffee-Nap\" group is less than the mean reaction time of the \"Coffee\" group. \n",
    "\n",
    "\n",
    "- \"Coffee Nap\" vs. \"Nap\" difference in mean sample reaction times:\n",
    "Let $\\mu_1$ be the sample mean reaction time of the \"Coffee-Nap\" group.\n",
    "Let $\\mu_2$ be the sample mean reaction time of the \"Nap\" group.\n",
    "$H_0 : \\mu_1 - \\mu_2 = 0$\n",
    "$H_1 : \\mu_1 - \\mu_2 < 0$\n",
    "\n",
    "Again, our alternative hypothesis is:\n",
    "$H_1: \\theta < \\theta_0$\n",
    "So, our critical region level $\\alpha$ test is $t \\le t_{\\alpha, v}$\n",
    "Where $v = degrees of freedom = n_1 + n_2 - 2 = 18$\n",
    "Thus, $t_{\\alpha, v} = t_{0.05, 18} = \\texttt{stats.t.ppf(0.05, df = 18)}$\n",
    "$t_{\\alpha, v} = -1.734063606617536$\n",
    "\n",
    "Now, we must find our test statistic $t$:\n",
    "$$t = \\frac{\\mu_1 - \\mu_2}{\\sqrt{\\frac{s_1^2}{n_1}\\frac{s_2^2}{n_2}}} \\sim N(0,1)$$\n",
    "\n",
    "$$t = \\frac{451.3 - 492.8}{\\sqrt{\\frac{31.9^2}{10}\\frac{45.2^2}{10}}} \\sim N(0,1)$$\n",
    "\n",
    "$$t = -0.13559$$\n",
    "\n",
    "Again, $t = -0.13559$ is not less than or equal to $t_{\\alpha, v} = -1.734063606617536$, so we **Fail to reject the null hypothesis**, because at the $\\alpha = 0.05$ signficance level, there is not enough statistical evidence to conclude that the mean reaction time of the \"Coffee-Nap\" group is less than the mean reaction time of the \"Nap\" group. "
   ]
  },
  {
   "cell_type": "markdown",
   "metadata": {},
   "source": [
    "**Part D:** Is there sufficient evidence at the 95% confidence (5% significance) level to support claim that the reaction time after a coffee-nap is at least 20 ms faster than the reaction time after a coffee only? Fully justify your answer and show all work demonstrating this conclusion using a **p-value hypothesis test**. "
   ]
  },
  {
   "cell_type": "markdown",
   "metadata": {},
   "source": [
    "We want to show that the mean reaction after a coffee-nap is at least 20ms faster than the mean reaction time after a coffee. So, our hypotheses will be:\n",
    "\n",
    "Let $\\mu_1$ be the mean reaction time for the \"Coffee\" group.\n",
    "Let $\\mu_2$ be the mean reaction time the the \"Coffee-Nap\" group.\n",
    "\n",
    "$H_0: \\mu_1 - \\mu_2 = 20$\n",
    "$H_1: \\mu_1 - \\mu_2 < 20$\n",
    "\n",
    "Our alternative hypothesis $H_1$ is $\\theta < \\theta_0$, so the cooresponding p-value is $p-value = \\phi(test statistic)$\n",
    "\n",
    "We will then compare our p-value to our significance level $\\alpha = 0.05$ to determine whether or not to reject the null hypothesis. As we've seen in earlier two-sample t-tests, to standardize the difference in sample means, where population $\\sigma$ is unknown:\n",
    "$$t = \\frac{\\mu_1 - \\mu_2}{\\sqrt{\\frac{s_1^2}{n_1}\\frac{s_2^2}{n_2}}} \\sim N(0,1)$$\n",
    "\n",
    "$$t = \\frac{494.2 - 451.3}{\\sqrt{\\frac{39.6^2}{10}\\frac{31.9^2}{10}}} \\sim N(0,1)$$\n",
    "\n",
    "$$t = 0.164634$$\n",
    "\n",
    "$$p-value = \\phi(0.164634) =  \\texttt{stats.norm.cdf(0.164634)}$$\n",
    "\n",
    "$$p-value = 0.5653839658845139$$\n",
    "\n",
    "Since our $p-value = 0.5653839658845139 > 0.05 = \\alpha$, we **Fail to reject the null hypothesis**, as the p-value represents the smallest significance level at which the null hypothesis can be rejected."
   ]
  },
  {
   "cell_type": "code",
   "execution_count": 4,
   "metadata": {},
   "outputs": [
    {
     "data": {
      "text/plain": [
       "0.5653839658845139"
      ]
     },
     "execution_count": 4,
     "metadata": {},
     "output_type": "execute_result"
    }
   ],
   "source": [
    "stats.norm.cdf(0.164634)"
   ]
  },
  {
   "cell_type": "markdown",
   "metadata": {},
   "source": [
    "**Part E**: Compute a 95% confidence interval for the standard deviation of reaction time for coffee-nap takers. Do all computations in Python, and report the results."
   ]
  },
  {
   "cell_type": "markdown",
   "metadata": {},
   "source": [
    "$\\alpha = (1 - confidence) = 0.05$\n",
    "$\\frac{\\alpha}{2} = 0.025$\n",
    "Sample Variance: $s^2 = 31.9^2 = 1017.61$\n",
    "\n",
    "$$X_{1-\\frac{\\alpha}{2}, n-1}^2 = X_{.975, 9}^2 = \\texttt{stats.chi2.ppf(0.025, 9)} = 2.7$$\n",
    "\n",
    "$$X_{\\frac{\\alpha}{2}, n-1}^2 = X_{0.025, 9} = \\texttt{stats.chi2.ppf(0.975, 9)} = 19.02$$\n",
    "\n",
    "Using a Chi-Squared Confidence Interval, we know that:\n",
    "$$\\frac{(n-1)s^2}{X_{\\frac{\\alpha}{2}, n-1}^2} < s^2 < \\frac{(n-1)s^2}{X_{1-\\frac{\\alpha}{2}, n-1}^2}$$\n",
    "\n",
    "$$\\frac{(10-1)31.9^2}{19.02} < s^2 < \\frac{(10-1)31.9^2}{2.7}$$\n",
    "\n",
    "$$481.519 < s^2 < 3392.033$$\n",
    "\n",
    "To get standard deviation from the variance interval, simply take the square root of all terms:\n",
    "\n",
    "**95% confidence interval for the sample standard deviation of reaction time for the \"Coffee-Nap\" sample population:**\n",
    "$$21.944 < s < 58.241$$\n"
   ]
  },
  {
   "cell_type": "markdown",
   "metadata": {},
   "source": [
    "<br>\n",
    "\n",
    "---\n",
    "[Back to top](#top)\n",
    "<a id='p3'></a>\n",
    "\n",
    "### [40 points] Problem 3 - Simple Linear Regression for Science!\n",
    "\n",
    "From [Google Trends](https://trends.google.com/trends/?geo=US) data, it appears that interest in \"science\" in the United States has been waning since about 2004. Interest is measured relative to the maximum rate of Google searches for that term over the time period (so the maximum is 100). \n",
    "\n",
    "**Part A:** Load up the data in `science_interest.csv` into a Pandas DataFrame. Create two new columns:\n",
    "* `year` should be the year associated with that data point, and\n",
    "* `month` should be the month (1-12) associated with that data point.\n",
    "\n",
    "Then, make a **scatter plot** (using `pyplot.scatter`) of all of the data points, showing how interest in \"science\" has evolved over time. Label only the data point associated with January of each even year, and label with the year (and of course be sure to label your axes)."
   ]
  },
  {
   "cell_type": "code",
   "execution_count": 5,
   "metadata": {},
   "outputs": [
    {
     "data": {
      "image/png": "[encoded data removed]",
      "text/plain": [
       "<Figure size 792x432 with 1 Axes>"
      ]
     },
     "metadata": {
      "needs_background": "light"
     },
     "output_type": "display_data"
    }
   ],
   "source": [
    "import datetime as dt\n",
    "\n",
    "sci = pd.read_csv('science_interest.csv', skiprows=2)\n",
    "df = pd.DataFrame(sci, columns=['Month', 'science: (United States)'])\n",
    "\n",
    "temp_years = []\n",
    "temp_months = []\n",
    "for i in range(0, len(df['Month'])):\n",
    "    temp_years.append(dt.datetime.strptime(df['Month'][i], '%Y-%m').year)\n",
    "    temp_months.append(dt.datetime.strptime(df['Month'][i], '%Y-%m').month)\n",
    "df['year'] = temp_years\n",
    "df['month'] = temp_months\n",
    "\n",
    "fig, ax = plt.subplots(figsize=(11,6))\n",
    "\n",
    "labels=[]\n",
    "for i in range(0, len(df['month'])):\n",
    "    if(i%24 == 0):\n",
    "        plt.annotate(df['year'][i], (df['Month'][i], df['science: (United States)'][i]))\n",
    "        plt.scatter(df['Month'][i], df['science: (United States)'][i], facecolor='red')\n",
    "        labels.append(df['Month'][i])\n",
    "    else:\n",
    "        plt.scatter(df['Month'][i], df['science: (United States)'][i], facecolor='steelblue')\n",
    "        \n",
    "plt.title('Google Searches for \"science\" from 2004-2019')\n",
    "plt.xlabel('[Year , Month]')\n",
    "plt.ylabel('Rate of searches for \"science\"')\n",
    "plt.xticks(np.arange(3, 185, 24), labels)\n",
    "plt.show()"
   ]
  },
  {
   "cell_type": "markdown",
   "metadata": {},
   "source": [
    "**Part B:** These data (and the sea-level data from Homework 4) are a **time series**, where the independent variable is *time* and the dependent quantity is interest in science. One of the central assumptions of linear regression is that the data are observations generated by some process, independently of one another. With time series data, we need to be careful because there could be some other process affecting the output data. In particular, **annual cycles** are patterns that reoccur each year and are frequently present in time series data. For example, seasonal patterns of weather are annual cycles.\n",
    "\n",
    "To see what kind of effect time has, make a **line plot** (using `pyplot.plot`) of the interest in science, as a function of time. Again, include all of the data points and, for the x-axis, label only the tick marks associated with January of even years, and be sure to label your axes."
   ]
  },
  {
   "cell_type": "code",
   "execution_count": 6,
   "metadata": {
    "collapsed": true
   },
   "outputs": [
    {
     "data": {
      "image/png": "[encoded data removed]",
      "text/plain": [
       "<Figure size 864x432 with 1 Axes>"
      ]
     },
     "metadata": {
      "needs_background": "light"
     },
     "output_type": "display_data"
    }
   ],
   "source": [
    "fig, ax = plt.subplots(figsize=(12,6))\n",
    "plt.plot(df['Month'], df['science: (United States)'])\n",
    "\n",
    "x_labels = []\n",
    "for i in range(0, len(df['month'])):\n",
    "    if(i%24 == 0):\n",
    "        x_labels.append(df['Month'][i])\n",
    "plt.xticks(np.arange(3, 185, 24), x_labels)\n",
    "plt.title('Google Searches for \"science\" from 2004-2019')\n",
    "plt.xlabel('[Year , Month]')\n",
    "plt.ylabel('Rate of searches for \"science\"')\n",
    "plt.show()"
   ]
  },
  {
   "cell_type": "markdown",
   "metadata": {},
   "source": [
    "**Part C:** Does your plot from Part B suggest that there is some annual cycle to the interest in science? During which months is interest in science highest? What about lowest? Justify your answers using your plot, **and** by computing the mean interest in science for each month. So, compute 12 values and report them in a table. Do **not** just spit out a horizontal list of 12 numbers. That would be yucky to try to read, and we're scientists, dammit.\n",
    "\n",
    "What do you think accounts for the drop(s) in interest in science during those month(s)? Recall that these data are from the United States."
   ]
  },
  {
   "cell_type": "markdown",
   "metadata": {},
   "source": [
    "Our line plot from Part B suggests that there is in fact some annual cycle to the interest in science. \n",
    "\n",
    "One possibe explanation for the behavior of our graph could reflect attendance to school. For example:\n",
    "\n",
    "- Mean search rate for \"science\" decreases heavily from May to July, which could be a result of schools letting out for the summer and less homework/study searches. \n",
    "\n",
    "- Mean search rate for \"science\" increases significantly from August to October, possibly reflecting students returning to school, therefore increasing searches for \"science\"\n",
    "\n",
    "- Lastly, there is a sharp decline in the mean search rate for \"science\" that occurs between December and Janurary. This data is from the United States, where Christmas is a national holiday, and therefore likey explains the rapid decrease in search rate; The search rate picks back up after New Years -- probably from people going back to school/work -- which continues to increase until around May, at which point the cycle restarts. \n",
    "\n",
    "We can calculate the true mean search rates for \"science\" for each month to see if our intuition is correct:"
   ]
  },
  {
   "cell_type": "code",
   "execution_count": 7,
   "metadata": {},
   "outputs": [
    {
     "name": "stdout",
     "output_type": "stream",
     "text": [
      "Janurary: 60.9375\n",
      "Feburary: 58.5625\n",
      "March: 55.8125\n",
      "April: 55.13333333333333\n",
      "May: 49.733333333333334\n",
      "June: 39.53333333333333\n",
      "July: 36.2\n",
      "August: 45.46666666666667\n",
      "September: 59.13333333333333\n",
      "October: 56.53333333333333\n",
      "November: 54.0\n",
      "December: 46.93333333333333\n"
     ]
    }
   ],
   "source": [
    "#Function to calculate mean search rate for a given month:\n",
    "def mean_rate(month_num):\n",
    "    count, sum = 0, 0\n",
    "    for i in range(0, len(df['month'])):\n",
    "        if(df['month'][i] == month_num):\n",
    "            sum += df['science: (United States)'][i]\n",
    "            count += 1\n",
    "    mean = sum/count\n",
    "    return mean\n",
    "\n",
    "for i in range(1, 13):\n",
    "    month_list = ['placeholder_to_match_indeces', 'Janurary:', 'Feburary:', 'March:', 'April:', 'May:', 'June:', 'July:', 'August:', 'September:', 'October:', 'November:', 'December:']\n",
    "    print(month_list[i], mean_rate(i))"
   ]
  },
  {
   "cell_type": "markdown",
   "metadata": {},
   "source": [
    "**Part D:** (Spoiler alert!) Since there seems to be an annual cycle, one of the fundamental assumptions of our simple linear regression model is not satisfied. Namely, it is not the case that the model-data residuals, $\\epsilon_i$, are independent of one another.\n",
    "\n",
    "So, we need to process our data a bit further before fitting a regression model. One way to address this is to take the mean of all the data each year and use for analysis the time series of annual mean interest in science. Create a new Pandas DataFrame that consists only of two columns:\n",
    "* `year`, and\n",
    "* `interest`, the mean interest in science from the twelve months in that year."
   ]
  },
  {
   "cell_type": "code",
   "execution_count": 8,
   "metadata": {
    "collapsed": true
   },
   "outputs": [
    {
     "data": {
      "text/html": [
       "<div>\n",
       "<style scoped>\n",
       "    .dataframe tbody tr th:only-of-type {\n",
       "        vertical-align: middle;\n",
       "    }\n",
       "\n",
       "    .dataframe tbody tr th {\n",
       "        vertical-align: top;\n",
       "    }\n",
       "\n",
       "    .dataframe thead th {\n",
       "        text-align: right;\n",
       "    }\n",
       "</style>\n",
       "<table border=\"1\" class=\"dataframe\">\n",
       "  <thead>\n",
       "    <tr style=\"text-align: right;\">\n",
       "      <th></th>\n",
       "      <th>year</th>\n",
       "      <th>interest</th>\n",
       "    </tr>\n",
       "  </thead>\n",
       "  <tbody>\n",
       "    <tr>\n",
       "      <th>0</th>\n",
       "      <td>2004</td>\n",
       "      <td>77.333333</td>\n",
       "    </tr>\n",
       "    <tr>\n",
       "      <th>1</th>\n",
       "      <td>2005</td>\n",
       "      <td>62.833333</td>\n",
       "    </tr>\n",
       "    <tr>\n",
       "      <th>2</th>\n",
       "      <td>2006</td>\n",
       "      <td>56.750000</td>\n",
       "    </tr>\n",
       "    <tr>\n",
       "      <th>3</th>\n",
       "      <td>2007</td>\n",
       "      <td>52.750000</td>\n",
       "    </tr>\n",
       "    <tr>\n",
       "      <th>4</th>\n",
       "      <td>2008</td>\n",
       "      <td>48.666667</td>\n",
       "    </tr>\n",
       "    <tr>\n",
       "      <th>5</th>\n",
       "      <td>2009</td>\n",
       "      <td>47.000000</td>\n",
       "    </tr>\n",
       "    <tr>\n",
       "      <th>6</th>\n",
       "      <td>2010</td>\n",
       "      <td>42.333333</td>\n",
       "    </tr>\n",
       "    <tr>\n",
       "      <th>7</th>\n",
       "      <td>2011</td>\n",
       "      <td>42.750000</td>\n",
       "    </tr>\n",
       "    <tr>\n",
       "      <th>8</th>\n",
       "      <td>2012</td>\n",
       "      <td>40.333333</td>\n",
       "    </tr>\n",
       "    <tr>\n",
       "      <th>9</th>\n",
       "      <td>2013</td>\n",
       "      <td>40.166667</td>\n",
       "    </tr>\n",
       "    <tr>\n",
       "      <th>10</th>\n",
       "      <td>2014</td>\n",
       "      <td>41.416667</td>\n",
       "    </tr>\n",
       "    <tr>\n",
       "      <th>11</th>\n",
       "      <td>2015</td>\n",
       "      <td>41.500000</td>\n",
       "    </tr>\n",
       "    <tr>\n",
       "      <th>12</th>\n",
       "      <td>2016</td>\n",
       "      <td>37.916667</td>\n",
       "    </tr>\n",
       "    <tr>\n",
       "      <th>13</th>\n",
       "      <td>2017</td>\n",
       "      <td>39.083333</td>\n",
       "    </tr>\n",
       "    <tr>\n",
       "      <th>14</th>\n",
       "      <td>2018</td>\n",
       "      <td>36.166667</td>\n",
       "    </tr>\n",
       "  </tbody>\n",
       "</table>\n",
       "</div>"
      ],
      "text/plain": [
       "    year   interest\n",
       "0   2004  77.333333\n",
       "1   2005  62.833333\n",
       "2   2006  56.750000\n",
       "3   2007  52.750000\n",
       "4   2008  48.666667\n",
       "5   2009  47.000000\n",
       "6   2010  42.333333\n",
       "7   2011  42.750000\n",
       "8   2012  40.333333\n",
       "9   2013  40.166667\n",
       "10  2014  41.416667\n",
       "11  2015  41.500000\n",
       "12  2016  37.916667\n",
       "13  2017  39.083333\n",
       "14  2018  36.166667"
      ]
     },
     "execution_count": 8,
     "metadata": {},
     "output_type": "execute_result"
    }
   ],
   "source": [
    "years = [2004, 2005, 2006, 2007, 2008, 2009, 2010, 2011, 2012, 2013, 2014, 2015, 2016, 2017, 2018]\n",
    "res = pd.DataFrame()\n",
    "res['year']= years\n",
    "check, sum_means = 0, 0\n",
    "annual_interests = []\n",
    "\n",
    "for i in range(0, len(df['year'])-2):\n",
    "    if(years[check] == df['year'][i]):\n",
    "        sum_means += df['science: (United States)'][i]\n",
    "    else: #New Year\n",
    "        annual_mean = sum_means/12\n",
    "        annual_interests.append(annual_mean)\n",
    "        check += 1\n",
    "        sum_means = 0\n",
    "res['interest'] = annual_interests\n",
    "res"
   ]
  },
  {
   "cell_type": "markdown",
   "metadata": {},
   "source": [
    "- Note that 2019 was excluded from our SLR model, as we did not have access to data from the entire year, which could cause bias/skew."
   ]
  },
  {
   "cell_type": "markdown",
   "metadata": {},
   "source": [
    "**Part E:** Perform a simple linear regression with `year` as the feature and `interest` as the response (mean annual interest in science).  Report the estimated regression model in the form $Y = \\alpha + \\beta x$. Do all computations in Python. \n",
    "\n",
    "Then make a scatter plot of the mean annual interest in science as a function of year, and overlay the estimated regression line. Label your axes and provide a legend."
   ]
  },
  {
   "cell_type": "code",
   "execution_count": 9,
   "metadata": {},
   "outputs": [
    {
     "data": {
      "image/png": "[encoded data removed]",
      "text/plain": [
       "<Figure size 864x432 with 1 Axes>"
      ]
     },
     "metadata": {
      "needs_background": "light"
     },
     "output_type": "display_data"
    }
   ],
   "source": [
    "slope, intercept, r_value, p_value, std_err = stats.linregress(res['year'], res['interest'])\n",
    "fig, ax = plt.subplots(figsize=(12,6))\n",
    "plt.scatter(res['year'], res['interest'], label='Original Data')\n",
    "plt.plot(res['year'], intercept + slope*res['year'], 'r', label='Estimated SLR Model')\n",
    "plt.title('Annual Mean Search Rate for \"science\" Modeled Against Years Using SLR')\n",
    "plt.xlabel('[ Year ]')\n",
    "plt.ylabel('Rate of searches for \"science\"')\n",
    "plt.legend()\n",
    "plt.show()"
   ]
  },
  {
   "cell_type": "markdown",
   "metadata": {},
   "source": [
    "**Part F**: Give a physical interpretation of the coefficient $\\hat{\\beta}$, estimated from your model. Include addressing whether the relationship between time and interest in science is positive or negative. Fully justify your responses."
   ]
  },
  {
   "cell_type": "markdown",
   "metadata": {},
   "source": [
    "Although $\\hat{\\beta}$ is not necessarily equal to the true slope of the true regression line ($\\beta$), our SLR model is the least-squares estimate, meaning that it was calculated such that residuals are minimized. Our model indicated a negative relationship between our feature and response, because $\\hat{\\beta} < 0$, this indicated that an increase in our feature (years) results in a decrease in our response (annual mean search rate for \"science\"). "
   ]
  },
  {
   "cell_type": "markdown",
   "metadata": {},
   "source": [
    "**Part G**: What interest in science does your simple linear regression model predict in the year 2030? What about in 2050? What are potential drawbacks to this model for interest in science?"
   ]
  },
  {
   "cell_type": "code",
   "execution_count": 10,
   "metadata": {
    "collapsed": true
   },
   "outputs": [
    {
     "name": "stdout",
     "output_type": "stream",
     "text": [
      "SLR model prediction for 2030 5.92708333333394\n",
      "SLR model prediction for 2050 -37.44791666666606\n"
     ]
    }
   ],
   "source": [
    "slr_2030 = intercept + slope*2030\n",
    "slr_2050 = intercept + slope * 2050\n",
    "print(\"SLR model prediction for 2030\",slr_2030)\n",
    "print(\"SLR model prediction for 2050\",slr_2050)"
   ]
  },
  {
   "cell_type": "markdown",
   "metadata": {},
   "source": [
    "Here we can see one potential drawback to this model for the interest in science; the smallest that the search rate can be for anything is simply 0 (there are no searches for \"example\"), and any negative y-values would not make sense in this case. "
   ]
  },
  {
   "cell_type": "markdown",
   "metadata": {},
   "source": [
    "**Part H:** Compute a 66% confidence interval for the slope parameter, $\\beta$, ***by hand***. This means performing all calculations yourself in Python, as opposed to calling a simple Python function that gives you the result. Why is this a confidence interval for $\\beta$ and not for $\\hat{\\beta}$?"
   ]
  },
  {
   "cell_type": "code",
   "execution_count": 11,
   "metadata": {},
   "outputs": [
    {
     "data": {
      "text/plain": [
       "0.9936665816324544"
      ]
     },
     "execution_count": 11,
     "metadata": {},
     "output_type": "execute_result"
    }
   ],
   "source": [
    "stats.t.ppf(.83, 12)"
   ]
  },
  {
   "cell_type": "markdown",
   "metadata": {},
   "source": [
    "A 100(1 - $\\alpha$)% confidence interval for $\\beta$ is given by:\n",
    "\n",
    "$$\\hat{\\beta} \\pm t_{\\frac{\\alpha}{2}, n-2} * SE(\\hat{\\beta})$$\n",
    "$$and$$\n",
    "$$SE(\\hat{\\beta}) = \\frac{\\hat{\\sigma}}{\\sqrt{\\sum_i(x_i-\\bar{x})^2}}$$\n",
    "\n",
    "We know that:\n",
    "- $\\hat{\\beta} = -2.1687499999999997$\n",
    "- $SE(\\hat{\\beta}) = 0.3474446250492009$\n",
    "\n",
    "To Find $t_{\\frac{\\alpha}{2}, n-2}$:\n",
    "- $\\alpha = (1 - confidence) = (1-0.66) = 0.34$\n",
    "- $t_{\\frac{0.34}{2}, 14-2} = \\texttt{stats.t.ppf((1 - 0.17), df = 12)}$\n",
    "- $t_{0.17, 12} = 0.9936665816324544$\n",
    "\n",
    "So, a **66% Confidence Interval for the slope parameter:**\n",
    "$$\\hat{\\beta} \\pm t_{\\frac{\\alpha}{2}, n-2} * SE(\\hat{\\beta})$$\n",
    "\n",
    "$$ -2.1687499999999997 \\pm 0.9936665816324544 * 0.3474446250492009$$\n",
    "\n",
    "$$[-2.513994112879209, -1.8235058871207905]$$"
   ]
  },
  {
   "cell_type": "markdown",
   "metadata": {},
   "source": [
    "**Part I:** What proportion of the variation in mean annual interest in science is explained by your linear regression model?"
   ]
  },
  {
   "cell_type": "code",
   "execution_count": 12,
   "metadata": {
    "collapsed": true
   },
   "outputs": [
    {
     "name": "stdout",
     "output_type": "stream",
     "text": [
      "r-squared: 0.749820\n"
     ]
    }
   ],
   "source": [
    "print(\"r-squared: %f\" % r_value**2)"
   ]
  },
  {
   "cell_type": "markdown",
   "metadata": {},
   "source": [
    "The coeffecient of determination $R^2$ is the proportion of total variation in the mean annual interest in science that can be explained by the SLR model."
   ]
  },
  {
   "cell_type": "markdown",
   "metadata": {},
   "source": [
    "**Part J:** Make a scatter plot of the residuals from this simple linear regression model, relative to the annual mean interest data (and be sure to label your axes). Make a conjecture about what kind of additional feature, also based on `year`, should be added to improve the fit of the model. Note that this new model with have your new feature _and_ `year`, making it a _multiple linear regression_ model."
   ]
  },
  {
   "cell_type": "code",
   "execution_count": 13,
   "metadata": {
    "collapsed": true
   },
   "outputs": [
    {
     "data": {
      "image/png": "[encoded data removed]",
      "text/plain": [
       "<Figure size 432x288 with 1 Axes>"
      ]
     },
     "metadata": {
      "needs_background": "light"
     },
     "output_type": "display_data"
    }
   ],
   "source": [
    "residuals = []\n",
    "for i in range(0, 15):\n",
    "    expected = intercept + slope*res['year'][i]\n",
    "    actual = res['interest'][i]\n",
    "    temp = actual - expected\n",
    "    residuals.append(temp)\n",
    "plt.scatter(res['year'], residuals)\n",
    "plt.axhline(color='red')\n",
    "plt.title('Versus Fits')\n",
    "plt.ylabel('residual value (y_i - y.mean())')\n",
    "plt.xlabel('[ Year ]')\n",
    "plt.show()"
   ]
  },
  {
   "cell_type": "markdown",
   "metadata": {},
   "source": [
    "The distribution of our residual plot tells us that a non-linear regression model (MLR) might better describe the relationship between a given year and the annual mean search rate for \"science\". One possible solution could be to include a feature describing what percentage of searches did not come from students, which will help us better understand the cyclical behavior of the regression model. "
   ]
  },
  {
   "cell_type": "markdown",
   "metadata": {},
   "source": [
    "<br>\n",
    "\n",
    "---\n",
    "[Back to top](#top)\n",
    "<a id='p4'></a>\n",
    "\n",
    "### [20 points] Problem 4 - Choose-Your-Own Simple Linear Regression Adventure\n",
    "\n",
    "The interest in science data from the previous problem was from [Google Trends](https://trends.google.com/trends/?geo=US). From that main page, you can enter a particular search term and view the interest in that term over time. By default, the data displayed will be weekly data for the past year. You can ask for different time periods or regions as well (my link above defaults to the United States).\n",
    "\n",
    "**Part A:** Download data from Google Trends for a search term, region and time period of your choice. (Alternatively, you can also use data from whatever source you would like, as long as it is a time series.) Then:\n",
    "* clearly state what your search term, region and time period are (or fully describe your other data set),\n",
    "* load your data as a Pandas DataFrame, and\n",
    "* make a plot of the data over the entire time frame. Be sure to label your axes clearly.\n",
    "\n",
    "**NOTE:** be sure to **leave your plot cell executed** because you are not asked to host the data or provide the data set with the homework submission. If your plot is not readily visible when we open your notebook for grading, then you can earn a maximum of 10 points for this problem. "
   ]
  },
  {
   "cell_type": "markdown",
   "metadata": {},
   "source": [
    "Using the data from Google Trends:\n",
    "- Searches including \"Game of Thrones\"\n",
    "- Starting since season 1 premier (Apr. 2011)\n",
    "- In the United States"
   ]
  },
  {
   "cell_type": "code",
   "execution_count": 18,
   "metadata": {
    "collapsed": true
   },
   "outputs": [
    {
     "data": {
      "text/plain": [
       "[0, 12, 23, 36, 48, 60, 75, 96]"
      ]
     },
     "execution_count": 18,
     "metadata": {},
     "output_type": "execute_result"
    }
   ],
   "source": [
    "got = pd.read_csv('thronesData.csv', skiprows=2)\n",
    "GOT = pd.DataFrame(got, columns=['Month', 'Game of Thrones: (United States)'])\n",
    "\n",
    "airdates = ['2011-04', '2012-04', '2013-03', '2014-04', '2015-04', '2016-04', '2017-07', '2019-04']\n",
    "j = 0\n",
    "label_locs = []\n",
    "for i in range(0, len(GOT['Month'])):\n",
    "    if(GOT['Month'][i] ==  airdates[j]):\n",
    "        label_locs.append(i)\n",
    "        j += 1\n",
    "label_locs"
   ]
  },
  {
   "cell_type": "code",
   "execution_count": 19,
   "metadata": {},
   "outputs": [
    {
     "data": {
      "image/png": "[encoded data removed]",
      "text/plain": [
       "<Figure size 936x432 with 1 Axes>"
      ]
     },
     "metadata": {
      "needs_background": "light"
     },
     "output_type": "display_data"
    }
   ],
   "source": [
    "fig, ax = plt.subplots(figsize=(13,6))\n",
    "plt.plot(GOT['Month'], GOT['Game of Thrones: (United States)'])\n",
    "plt.xticks(label_locs, GOT['Month'][label_locs])\n",
    "plt.title('US Search Interest in GOT since season 1')\n",
    "plt.xlabel('Season Premier Air Dates')\n",
    "plt.ylabel('Rate of searches including \"Game of Thrones\"')\n",
    "plt.show()"
   ]
  },
  {
   "cell_type": "markdown",
   "metadata": {},
   "source": [
    "**Part B:** Based on your figure from Part A, formulate a hypothesis regarding whether or not a statistically significant linear trend exists. Clearly state your null and alternative hypotheses, and the level of significance you will use for this hypothesis test. If you have reason to believe some kind of a trend that is *not linear* exists, say so."
   ]
  },
  {
   "cell_type": "markdown",
   "metadata": {},
   "source": [
    "We will conduct our hypothesis test at the $\\alpha = 0.05$ significance level\n",
    "- $H_0: \\hat{\\beta} = 0$\n",
    "- $H_1: \\hat{\\beta} \\ne 0$\n",
    "We want to find significant evidence in favor of our alternative hypothesis, which claims that the slope of the SLR is not equal to zero, and therefore we can reject our null hypothesis because a significant linear relationship exists."
   ]
  },
  {
   "cell_type": "markdown",
   "metadata": {},
   "source": [
    "**Part C:** Perform any processing that you need to do in order to satisfy the assumptions of the simple linear regression model. If you do not do any processing, then explain why you believe your data set already satisfies these assumptions (and clearly state the assumptions)."
   ]
  },
  {
   "cell_type": "code",
   "execution_count": 20,
   "metadata": {
    "collapsed": true
   },
   "outputs": [
    {
     "name": "stdout",
     "output_type": "stream",
     "text": [
      "slope: 1.3587687137183033\n",
      "std_err: 0.6801010795264371\n"
     ]
    },
    {
     "data": {
      "text/plain": [
       "0.04858770277774732"
      ]
     },
     "execution_count": 20,
     "metadata": {},
     "output_type": "execute_result"
    }
   ],
   "source": [
    "dates = []\n",
    "for i in range(0, 97):\n",
    "    dates.append(dt.datetime.strptime(GOT['Month'][i], '%Y-%m').year)\n",
    "GOT['date'] = dates\n",
    "\n",
    "slope, intercept, r_value, p_value, std_err = stats.linregress(GOT['date'], GOT['Game of Thrones: (United States)'])\n",
    "print('slope:', slope)\n",
    "print('std_err:', std_err)\n",
    "p_value"
   ]
  },
  {
   "cell_type": "markdown",
   "metadata": {},
   "source": [
    "**Part D:** Compute **by hand** the p-value associated with the hypothesis test from Part B. Clearly state your conclusion. You may use `scipy.stats.linregress` to check your answer, and you may use Python as a calculator (and to get critical values, for example), but you need to show all your work by hand."
   ]
  },
  {
   "cell_type": "code",
   "execution_count": 21,
   "metadata": {},
   "outputs": [
    {
     "data": {
      "text/plain": [
       "0.04858770277774732"
      ]
     },
     "execution_count": 21,
     "metadata": {},
     "output_type": "execute_result"
    }
   ],
   "source": [
    "2 * stats.t.cdf(-1.99789230545617, 95)"
   ]
  },
  {
   "cell_type": "markdown",
   "metadata": {},
   "source": [
    "We've formulated our hypotheses as well as provided a significance level of $\\alpha = 0.05$. We also fit a line of regression between search rates and time, like in previous examples. \n",
    "\n",
    "Now, we must compute the test statstic to test our hypothesis, in order to later compute our p-value:\n",
    "- We use the t-distribution to get our test statistic:\n",
    "$$t = \\frac{\\hat{\\beta}-0}{SE(\\hat{\\beta})}$$\n",
    "\n",
    "$$t = \\frac{1.3587687137183033}{0.6801010795264371} = 1.99789230545617$$\n",
    "\n",
    "Finally, we must compute our p-value, which will coorespond to a two-tailed test, so:\n",
    "\n",
    "- $p-value = 2 * -|t_{\\frac{\\alpha}{2}, n-2}|= 2 * \\texttt{stats.t.cdf(-|t|, df = 95)} = 2 * 0.02429385138887366 = 0.04858770277774732$\n",
    "\n",
    "Our $p-value = 0.04858770277774732 \\le 0.05 = \\alpha$ so, we **Reject the null hypothesis**\n",
    "\n",
    "Since we found statistical evidence at the $\\alpha = 0.05$ significance level in favor of rejecting our null hypothesis, we can say with 95% confidence, that there does in fact exist a linear relationship between the rate of searches including \"Game of Thrones\" and the date. "
   ]
  },
  {
   "cell_type": "code",
   "execution_count": null,
   "metadata": {},
   "outputs": [],
   "source": []
  },
  {
   "cell_type": "code",
   "execution_count": null,
   "metadata": {},
   "outputs": [],
   "source": []
  }
 ],
 "metadata": {
  "kernelspec": {
   "display_name": "Python 3",
   "language": "python",
   "name": "python3"
  },
  "language_info": {
   "codemirror_mode": {
    "name": "ipython",
    "version": 3
   },
   "file_extension": ".py",
   "mimetype": "text/x-python",
   "name": "python",
   "nbconvert_exporter": "python",
   "pygments_lexer": "ipython3",
   "version": "3.7.1"
  }
 },
 "nbformat": 4,
 "nbformat_minor": 2
}
