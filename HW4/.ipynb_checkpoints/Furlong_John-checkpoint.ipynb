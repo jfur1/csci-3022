{
 "cells": [
  {
   "cell_type": "markdown",
   "metadata": {},
   "source": [
    "<a/ id='top'></a>\n",
    "# Homework 4: Confidence intervals, hypothesis testing, and p-values\n",
    "***\n",
    "\n",
    "**Name**: John Furlong\n",
    "\n",
    "***\n",
    "\n",
    "This assignment is due on Moodle by **5 PM on Friday 5 April**. Your solutions to theoretical questions should be done in Markdown/MathJax directly below the associated question.  Your solutions to computational questions should include any specified Python code and results as well as written commentary on your conclusions.  Remember that you are encouraged to discuss the problems with your instructors and classmates, but **you must write all code and solutions on your own**. \n",
    "\n",
    "**NOTES**: \n",
    "\n",
    "- Any relevant data sets should be available under the **Data** module on Canvas, as well as in the zipped folder in which you obtained this assignment. \n",
    "- Do **NOT** load or use any Python packages that are not available in Anaconda 3.6. \n",
    "- Because you can technically evaluate notebook cells in a non-linear order, it's a good idea to do Kernel $\\rightarrow$ Restart & Run All as a check before submitting your solutions.  That way if we need to run your code you will know that it will work as expected. \n",
    "- It is **bad form** to make your reader interpret numerical output from your code.  If a question asks you to compute some value from the data you should show your code output **AND** write a summary of the results in Markdown directly below your code. \n",
    "- You **MUST** leave all of your notebook cells **evaluated** so the graders do not need to re-evaluate them. For 100+ students, this extra time adds up, and makes the graders' lives unnecessarily more difficult.\n",
    "- This probably goes without saying, but... For any question that asks you to calculate something, you **must show all work and justify your answers to receive credit**. Sparse or nonexistent work will receive sparse or nonexistent credit. \n",
    "- Submit only this Jupyter notebook to Canvas.  Do not compress it using tar, rar, zip, etc. \n",
    "\n",
    "---\n",
    "**Shortcuts:**  [Problem 1](#p1) | [Problem 2](#p2) | [Problem 3](#p3) | [Problem 4](#p4) | [Problem 5](#p5)  \n",
    "\n",
    "---"
   ]
  },
  {
   "cell_type": "code",
   "execution_count": 1,
   "metadata": {
    "collapsed": true,
    "scrolled": true
   },
   "outputs": [],
   "source": [
    "import numpy as np\n",
    "import math\n",
    "import scipy.stats as stats\n",
    "import matplotlib.pyplot as plt\n",
    "import pandas as pd\n",
    "%matplotlib inline"
   ]
  },
  {
   "cell_type": "markdown",
   "metadata": {},
   "source": [
    "<br>\n",
    "\n",
    "---\n",
    "<a/ id='p1'></a>\n",
    "[Back to top](#top)\n",
    "### [20 points] Problem 1 - Exploring Confidence Intervals \n",
    "\n",
    "The [Gumbel](https://en.wikipedia.org/wiki/Gumbel_distribution) distribution is one of several distributions frequently used to model environmental extremes (for example, extreme temperatures and sea levels).  It is also fairly asymmetric, and thus interesting for investigating confidence intervals.  It is implemented in scipy.stats as [gumbel_r](https://docs.scipy.org/doc/scipy/reference/generated/scipy.stats.gumbel_r.html), where the appendix \"\\_r\" denotes the right-skewed version of the Gumbel distribution (as opposed to the left-skewed)."
   ]
  },
  {
   "cell_type": "markdown",
   "metadata": {},
   "source": [
    "**Part A**: Complete the following code cell to plot a histogram of 100 realizations from the Gumbel distribution with parameters $\\mu=8$ (location) and $\\beta=2$ (scale).  Be sure to leave this cell executed before turning in your assignment! Make your histogram faces coral with gray edges."
   ]
  },
  {
   "cell_type": "code",
   "execution_count": 2,
   "metadata": {},
   "outputs": [
    {
     "name": "stdout",
     "output_type": "stream",
     "text": [
      "Empirical Mean:  9.195385814082728\n"
     ]
    },
    {
     "data": {
      "text/plain": [
       "(array([ 5., 12., 19., 23., 14.,  9.,  6.,  7.,  4.,  1.]),\n",
       " array([ 5.27884866,  6.2716999 ,  7.26455115,  8.25740239,  9.25025363,\n",
       "        10.24310488, 11.23595612, 12.22880737, 13.22165861, 14.21450986,\n",
       "        15.2073611 ]),\n",
       " <a list of 10 Patch objects>)"
      ]
     },
     "execution_count": 2,
     "metadata": {},
     "output_type": "execute_result"
    },
    {
     "data": {
      "image/png": "[encoded data removed]",
      "text/plain": [
       "<Figure size 576x288 with 1 Axes>"
      ]
     },
     "metadata": {
      "needs_background": "light"
     },
     "output_type": "display_data"
    }
   ],
   "source": [
    "mu = 8\n",
    "beta = 2\n",
    "n_sample = 100\n",
    "x = stats.gumbel_r.rvs(mu, beta, n_sample)\n",
    "\n",
    "fig, ax = plt.subplots(nrows=1, ncols=1, figsize=(8,4))\n",
    "\n",
    "# Your code goes here!\n",
    "mean = x.mean()\n",
    "print(\"Empirical Mean: \", mean)\n",
    "\n",
    "plt.hist(x, color=\"coral\", edgecolor=\"grey\")\n"
   ]
  },
  {
   "cell_type": "markdown",
   "metadata": {},
   "source": [
    "**Part B:** Look up the analytical mean and variance of the Gumbel distribution with parameters $\\mu=8$ and $\\beta=2$ and calculate them here by hand.  Note that the Euler–Mascheroni constant can be accessed via `np.euler_gamma`. Note that the version of the Gumbel we are using is *right-skewed*, and is the version used to model maximal extreme events.\n",
    "\n",
    "Use the empirical mean from your sample in **Part A**, and the true variance of the Gumbel distribution to compute by hand a 95% confidence interval for the mean."
   ]
  },
  {
   "cell_type": "code",
   "execution_count": 3,
   "metadata": {},
   "outputs": [
    {
     "name": "stdout",
     "output_type": "stream",
     "text": [
      "Actual mean:  9.154431329803066\n",
      "variance:  4.1887902047863905\n"
     ]
    }
   ],
   "source": [
    "#Calculating Analytical Mean and Variance:\n",
    "mean = 8 + np.euler_gamma * 2\n",
    "print(\"Actual mean: \", mean)\n",
    "\n",
    "variance = ((np.pi*2)/6)*4\n",
    "print(\"variance: \", variance)\n"
   ]
  },
  {
   "cell_type": "markdown",
   "metadata": {},
   "source": [
    "Analytical (Actual) Mean of the Gumbel Distribution with parameters $\\mu = 8$ and $\\beta = 2$:\n",
    "\n",
    "$E(\\bar X) = \\mu + \\gamma \\beta$ where $\\gamma \\approx 0.5772$ is the Euler-Mascheronni Constant\n",
    "\n",
    "$E(\\bar X) = 8 + 0.5772 * 2$\n",
    "\n",
    "**Analytical (Actual) Mean**: $E(\\bar X) = 9.154431329803066$\n",
    "\n",
    "Analytical Variance of the Gumbel DIstribution with parameters $\\mu = 8$ and $\\beta = 2$:\n",
    "\n",
    "Variance $ = \\frac{\\pi^2}{6}{\\beta^2}$\n",
    "\n",
    "Variance $ = \\frac{\\pi^2}{6}{2^2}$\n",
    "\n",
    "**Analytical (Actual) Variance** $\\approx 4.1887902047863905$\n",
    "\n",
    "95% Confidence Interval of the Mean using empirical data:\n",
    "\n",
    "Confidence Interval = $\\bar X \\pm Z_\\frac{\\alpha}{2} \\frac{\\sigma}{\\sqrt{n}}$\n",
    "\n",
    "$\\sigma = \\sqrt{Variance} = \\sqrt{4.1887902047863905} \\approx 2.0466534159$\n",
    "\n",
    "95% CI $\\rightarrow = 1 - \\alpha = 1 - .95 = .05$\n",
    "\n",
    "$Z_\\frac{\\alpha}{2} = \\phi(1 - \\frac{.05}{2}) = \\phi(0.975) = \\pm 1.96$\n",
    "\n",
    "So, 95% CI is given by:\n",
    "\n",
    "$8.9456086931196 \\pm 1.96 * \\frac{2.0466534159}{\\sqrt{100}}$\n",
    "\n",
    "**95% CI for the Mean: [8.5444646236, 9.3467527626]**"
   ]
  },
  {
   "cell_type": "markdown",
   "metadata": {},
   "source": [
    "**Part C:  A theoretical interlude.** When Amy, the famous hedgehog data scientist, ran her solution code for **Part B**, she obtained a 95% confidence interval of $[8.81, 9.82]$ for the mean of the $Gum(\\mu=8, \\beta=2)$ distribution. For each of the following, explain why or why not the situation described is correct, given the technical definition of a 95% confidence interval we went over in class.\n",
    "\n",
    "**(i)** If you had no other evidence regarding true mean of the $Gum(\\mu=8, \\beta=2)$ distribution, you could say there is a 95% chance that its true mean falls between 8.81 and 9.82.\n",
    "\n",
    "**(ii)** If a class of 100 students all construct 95% confidence intervals for the mean of the $Gum(\\mu=8, \\beta=2)$ distribution, then we expect about 95 of their CIs to contain the true mean, and about 5 of them to miss the true mean.\n",
    "\n",
    "**(iii)** If we sample 100 random variables from the $Gum(\\mu=8, \\beta=2)$ distribution, then roughly 95% of them will be between 8.81 and 9.82."
   ]
  },
  {
   "cell_type": "markdown",
   "metadata": {},
   "source": [
    "**(i)** If we had no other evidence regarding the true mean of the $Gum(\\mu=8, \\beta=2)$ distribution, we could say there is a 95% chance that its true mean falls between 8.81 and 9.82. Amy's confidence interval tells her that she can be 95% confident that the true population mean lies within her 95% confidence interval. \n",
    "\n",
    "**(ii)** This is true. In a repeated sampling, 95% of all confidence intervals obtained will contain the true population mean, while the other 5% will not. \n",
    "\n",
    "**(iii)** This is incorrect. The only random variable that is used in our confidence interval calculation is the population mean; we also run repeated simulations of large sample sizes to obtain our random population means. The confidence interval says nothing about one particular interval. "
   ]
  },
  {
   "cell_type": "markdown",
   "metadata": {},
   "source": [
    "**Part D:** In this part you'll write a function to investigate the _coverage properties_ of a confidence interval for the mean of the Gumbel distribution. Complete the following function to randomly sample $m=500$ sample means with sample size $n=100$ for the Gumbel distribution with parameters $\\mu=8$ and $\\beta=2$.  For each random sample, compute the 66% confidence interval for the mean. Note that you actually know the variance for the true population distribution, $\\sigma^2$ from Part B.  Your function should do two things: \n",
    "\n",
    "1. Report the proportion of confidence intervals that successfully cover the true mean of the distribution \n",
    "2. Make a plot of 50 randomly selected confidence intervals. Overlay the intervals on the line $y=\\textrm{True mean}$ (from **Part B**). Color confidence intervals steelblue if they cover the true mean, and coral if they don't.  \n",
    "\n",
    "Be sure to leave this cell executed before turning in your assignment!"
   ]
  },
  {
   "cell_type": "code",
   "execution_count": 4,
   "metadata": {},
   "outputs": [
    {
     "data": {
      "text/plain": [
       "0.9541652531461943"
      ]
     },
     "execution_count": 4,
     "metadata": {},
     "output_type": "execute_result"
    }
   ],
   "source": [
    "stats.norm.ppf(.83)"
   ]
  },
  {
   "cell_type": "code",
   "execution_count": 5,
   "metadata": {
    "collapsed": true
   },
   "outputs": [
    {
     "name": "stdout",
     "output_type": "stream",
     "text": [
      "Proportion of confidence intervals that cover the true mean:  57.99999999999999 %\n"
     ]
    },
    {
     "data": {
      "image/png": "[encoded data removed]",
      "text/plain": [
       "<Figure size 504x360 with 1 Axes>"
      ]
     },
     "metadata": {
      "needs_background": "light"
     },
     "output_type": "display_data"
    }
   ],
   "source": [
    "# GIVEN CODE:\n",
    "\n",
    "def confidence_intervals(m=500, n=100):\n",
    "    mu = 8\n",
    "    beta = 2\n",
    "    sum = 0.0\n",
    "    upper, lower = 0.0, 0.0\n",
    "    z1 = 0.9541652531461943\n",
    "    z2 = 2.0466534159/10\n",
    "    z = z1 * z2\n",
    "    lower_bounds = []\n",
    "    upper_bounds = []\n",
    "    x_means = []\n",
    "    successes = 0\n",
    "    TrueMean = 9.154431329803066\n",
    "    x_mean = 0.0\n",
    "    \n",
    "    for i in range(0, 500):\n",
    "        x = stats.gumbel_r.rvs(mu, beta, n)\n",
    "        \n",
    "        x_mean = x.mean()\n",
    "        \n",
    "        upper = x_mean + z\n",
    "        lower = x_mean - z\n",
    "        lower_bounds.append(lower)\n",
    "        upper_bounds.append(upper)\n",
    "        x_means.append(x_mean)\n",
    "        lower = 0.0\n",
    "        upper = 0.0\n",
    "        x_mean = 0.0\n",
    "        sum = 0.0\n",
    "    \n",
    "    fig, ax = plt.subplots(nrows=1, ncols=1, figsize=(7,5))\n",
    "    plt.axhline(y=9.154431329803066, color='r', linestyle='-')\n",
    "    ax.set_xlim([0, 50])\n",
    "    ax.set_ylim([8.25, 10])\n",
    "\n",
    "    for i in range(0, 50):\n",
    "        n = np.random.randint(0, 500)\n",
    "        error = upper_bounds[n] - x_means[n]\n",
    "        if(upper_bounds[n] >= TrueMean and lower_bounds[n] <= TrueMean):\n",
    "            ax.errorbar(x=i, y=x_means[n], yerr=error, fmt='o', color=\"steelblue\")\n",
    "            successes = successes + 1\n",
    "        else:\n",
    "            ax.errorbar(x=i, y=x_means[n], yerr=error, fmt='o', color=\"coral\")\n",
    "    prop = successes/50 * 100\n",
    "    print(\"Proportion of confidence intervals that cover the true mean: \", prop, '%')\n",
    "    \n",
    "confidence_intervals()\n",
    "\n"
   ]
  },
  {
   "cell_type": "markdown",
   "metadata": {},
   "source": [
    "**Part E:** Does the proportion of confidence intervals that cover the true mean of the distribution agree with the theory described in class?  Justify your conclusion. "
   ]
  },
  {
   "cell_type": "markdown",
   "metadata": {},
   "source": [
    "The proportion of confidence intervals that cover the true mean of our gumbel distribution follows the theory described in class. With a sample size of 50 66% confidence intervals, we expect .66 * 50 = 33 of them to contain the true mean, which occurs in our random sampling. "
   ]
  },
  {
   "cell_type": "markdown",
   "metadata": {},
   "source": [
    "---\n",
    "\n",
    "<a id='p2'></a>\n",
    "[Back to top](#top)\n",
    "\n",
    "### [20 points] Problem 2 - Taco Town!!\n",
    "\n",
    "You're an intern in the office of the City of Boulder's official Food Rater, and in order to support her in her extremely important job, you have to determine whether Taco Bell or Del Taco has the empirically better tacos. \n",
    "\n",
    "\"Don't worry,\" you tell your boss. \"I'll have you know I graduated top of my class from CU Boulder, and I've been involved in numerous data science operations on difficult data sets - many of which are hedgehog-related - and I have over 300 confirmed confidence intervals. I am trained in Numpy and Pandas and I'm the top data scientist in the entire campus.\"\n",
    "\n",
    "\"Weird flex but OK,\" your boss responds, and gives you the data. The data set consists of 100 diners who ate both Taco Bell and Del Taco, and rated their meal enjoyment at each. As is often the case with fast food taco establishments, each diner ate alone and each meal was followed by about 3 weeks of intense therapy, so the diners and meals may all be considered to be independent of one another. The meal enjoyment ratings are in units of *mehs*, where lower values denote more disgust and a worse meal, and higher values are better."
   ]
  },
  {
   "cell_type": "markdown",
   "metadata": {},
   "source": [
    "**Part A:** Import the data set `taco_time.csv` as a Pandas DataFrame.\n",
    "\n",
    "Then, plot a density histogram of the data. Include both Taco Bell and Del Taco on the same set of axes. Be sure to label your axes, and make the histogram faces slightly transparent and include a legend, so we can tell the two data sets apart. Use colors for each restaurant that are representative of that restaurant's logo or branding.\n",
    "\n",
    "Finally, formulate a hypothesis about which restaurant has the higher mean meal enjoyment."
   ]
  },
  {
   "cell_type": "code",
   "execution_count": 6,
   "metadata": {
    "collapsed": true
   },
   "outputs": [
    {
     "data": {
      "text/plain": [
       "<matplotlib.legend.Legend at 0x1a1e138cf8>"
      ]
     },
     "execution_count": 6,
     "metadata": {},
     "output_type": "execute_result"
    },
    {
     "data": {
      "image/png": "[encoded data removed]",
      "text/plain": [
       "<Figure size 432x288 with 1 Axes>"
      ]
     },
     "metadata": {
      "needs_background": "light"
     },
     "output_type": "display_data"
    }
   ],
   "source": [
    "tacoBell = []\n",
    "delTaco = []\n",
    "data = pd.read_csv(\"taco_time.csv\", delimiter=\",\", usecols=[\"Taco Bell\", \"Del Taco\"])\n",
    "\n",
    "data[\"Taco Bell\"].hist(alpha=0.5, label=\"Taco Bell\", density=True)\n",
    "data[\"Del Taco\"].hist(alpha=0.5, label=\"Del Taco\", density=True)\n",
    "\n",
    "plt.title(\"Density Histogram of MME\")\n",
    "plt.xlabel(\"Mean Meal Enjoyment\")\n",
    "plt.ylabel(\"Density\")\n",
    "plt.legend()"
   ]
  },
  {
   "cell_type": "markdown",
   "metadata": {},
   "source": [
    "Based off of our density histogram comparing the mean meal enjoyment between the two restaurants, it would appear that Taco Bell's customers experience higher levels of meal enjoyment on average."
   ]
  },
  {
   "cell_type": "markdown",
   "metadata": {},
   "source": [
    "**Part B:** Compute a 95% confidence interval for the mean enjoyment of Taco Bell meals, and a separate 95% confidence interval for the mean enjoyment of Del Taco meals. You can use Python as a calculator, but the set-up and groundwork for your computation should be in Markdown/MathJax.\n",
    "\n",
    "Based on those confidence intervals, can we conclude that the means are different at the 95% level of confidence?"
   ]
  },
  {
   "cell_type": "markdown",
   "metadata": {},
   "source": [
    "95% Confidence Interval for Mean Meal Enjoyment:\n",
    "- $CI = \\bar X \\pm Z_\\frac{\\alpha}{2} \\frac{\\sigma}{\\sqrt{n}}$"
   ]
  },
  {
   "cell_type": "code",
   "execution_count": 7,
   "metadata": {},
   "outputs": [
    {
     "name": "stdout",
     "output_type": "stream",
     "text": [
      "95% CI for Meal Meal Enjoyment at Taco Bell:  [-0.4826621650808355, 0.2552785098513555]\n",
      "95% CI for Meal Meal Enjoyment at Del Taco:  [-1.2086386346552451, -0.46005575758884776]\n"
     ]
    }
   ],
   "source": [
    "CI_t = []\n",
    "tacoBellMean = data[\"Taco Bell\"].mean(axis=0)\n",
    "tacoBellStd = data[\"Taco Bell\"].std()\n",
    "tacos = tacoBellStd/10\n",
    "tacoBellLower = tacoBellMean - 1.96 * tacos\n",
    "tacoBellUpper = tacoBellMean + 1.96 * tacos\n",
    "CI_t.append(tacoBellLower)\n",
    "CI_t.append(tacoBellUpper)\n",
    "print(\"95% CI for Meal Meal Enjoyment at Taco Bell: \", CI_t)\n",
    "\n",
    "CI_d = []\n",
    "delTacoMean = data[\"Del Taco\"].mean(axis=0)\n",
    "delTacoStd = data[\"Del Taco\"].std()\n",
    "tacos = delTacoStd/10\n",
    "delTacoLower = delTacoMean - 1.96 * tacos\n",
    "delTacoUpper = delTacoMean + 1.96 * tacos\n",
    "CI_d.append(delTacoLower)\n",
    "CI_d.append(delTacoUpper)\n",
    "print(\"95% CI for Meal Meal Enjoyment at Del Taco: \", CI_d)\n"
   ]
  },
  {
   "cell_type": "markdown",
   "metadata": {},
   "source": [
    "**Part C:** Compute a 95% confidence interval for the difference between the mean enjoyment of Taco Bell and Del Taco food. "
   ]
  },
  {
   "cell_type": "markdown",
   "metadata": {},
   "source": [
    "95% Confidence Interval for the difference between Mean Meal Enjoyment:\n",
    "\n",
    "$\\bar X - \\bar Y \\pm Z_\\frac{\\alpha}{2} \\sqrt{\\frac{\\sigma_1^2}{m} + \\frac{\\sigma_2^2}{n}}$"
   ]
  },
  {
   "cell_type": "code",
   "execution_count": 8,
   "metadata": {},
   "outputs": [
    {
     "name": "stdout",
     "output_type": "stream",
     "text": [
      "95% Confidence Interval for the difference in Mean Meal Enjoyment: [0.19507645826727826, 1.2462342787473348]\n"
     ]
    }
   ],
   "source": [
    "x_bar = tacoBellMean = data[\"Taco Bell\"].mean()\n",
    "y_bar = delTacoMean = data[\"Del Taco\"].mean()\n",
    "diff = x_bar - y_bar\n",
    "z = 1.96\n",
    "n, m = 100, 100\n",
    "CI = []\n",
    "sigma_x = data[\"Taco Bell\"].std()\n",
    "sigma_y = data[\"Del Taco\"].std()\n",
    "sum1 = (sigma_x**2)/100\n",
    "sum2 = (sigma_y**2)/100\n",
    "sum3 = sum1 + sum2\n",
    "sum = math.sqrt(sum3)\n",
    "\n",
    "lower = diff - z * sum\n",
    "upper = diff + z * sum\n",
    "\n",
    "CI.append(lower)\n",
    "CI.append(upper)\n",
    "print(\"95% Confidence Interval for the difference in Mean Meal Enjoyment:\", CI)\n",
    "\n",
    "\n"
   ]
  },
  {
   "cell_type": "markdown",
   "metadata": {},
   "source": [
    "**Part D:** Comment on how the results from this two-sample confidence interval compare to the results from the separate one-sample confidence intervals. In 1-2 sentences, discuss how these results confirm, disprove, or otherwise relate to your hypothesis from Part A."
   ]
  },
  {
   "cell_type": "markdown",
   "metadata": {},
   "source": [
    "Our confidence interval for the difference in mean meal enjoyment tells us that after repeated sampling, there is a 95% chance that the difference in meal enjoyment between Taco Bell and Del Taco lies between .19 and 1.25 on average. The confidence interval does not tell us which restaurant is more preferrable; however, if we look at our two confidence intervals for the average meal enjoyment at each restaurant independently, we can see that Taco Bell appears to be more preferrable. There is a 95% chance that Taco Bell's customer mean meal enjoyment will lie between -.48 and .26 while the condfidence interval for the mean of Del Taco tells us there is a 95% chance that mean meal enjoyment is negative. "
   ]
  },
  {
   "cell_type": "markdown",
   "metadata": {},
   "source": [
    "---\n",
    "[Back to top](#top)\n",
    "<a id='p3'></a>\n",
    "\n",
    "### [20 points] Problem 3 - Evaluating Vehicle Performance \n",
    "\n",
    "A [1983 study](http://citeseerx.ist.psu.edu/viewdoc/download?doi=10.1.1.34.6358&rep=rep1&type=pdf) evaluated the gas mileage of a variety of cars manufactured between 1970 and 1983. The study also compiled other interesting attributes for each vehicle, but we will focus on the number of cylinders in the engine for this problem. More information on the data is available [here](https://archive.ics.uci.edu/ml/machine-learning-databases/auto-mpg/). Gas mileage is measured in miles-per-gallon, or mpg.\n",
    "\n",
    "**Part A:** Read the data set and store as a Pandas DataFrame. You will need figure out what additional arguments to `pd.read_csv()` must be provided in order to read the data set properly, based on what represents a separation between two columns of data.\n",
    "\n",
    "Then, be sure to give all of the columns informative names, if they do not already have some.\n",
    "\n",
    "Finally, use `drop_na()` to drop any rows with missing values. Missing values are reported with a \"?\"."
   ]
  },
  {
   "cell_type": "code",
   "execution_count": 9,
   "metadata": {
    "collapsed": true
   },
   "outputs": [
    {
     "data": {
      "text/html": [
       "<div>\n",
       "<style scoped>\n",
       "    .dataframe tbody tr th:only-of-type {\n",
       "        vertical-align: middle;\n",
       "    }\n",
       "\n",
       "    .dataframe tbody tr th {\n",
       "        vertical-align: top;\n",
       "    }\n",
       "\n",
       "    .dataframe thead th {\n",
       "        text-align: right;\n",
       "    }\n",
       "</style>\n",
       "<table border=\"1\" class=\"dataframe\">\n",
       "  <thead>\n",
       "    <tr style=\"text-align: right;\">\n",
       "      <th></th>\n",
       "      <th>Mpg</th>\n",
       "      <th>Cylinders</th>\n",
       "      <th>Displacement</th>\n",
       "      <th>Horsepower</th>\n",
       "      <th>Weight</th>\n",
       "      <th>Acceleration</th>\n",
       "      <th>Model Year</th>\n",
       "      <th>Origin</th>\n",
       "      <th>Car Name</th>\n",
       "    </tr>\n",
       "  </thead>\n",
       "  <tbody>\n",
       "    <tr>\n",
       "      <th>0</th>\n",
       "      <td>15.0</td>\n",
       "      <td>8</td>\n",
       "      <td>350.0</td>\n",
       "      <td>165.0</td>\n",
       "      <td>3693.0</td>\n",
       "      <td>11.5</td>\n",
       "      <td>70</td>\n",
       "      <td>1</td>\n",
       "      <td>buick skylark 320</td>\n",
       "    </tr>\n",
       "    <tr>\n",
       "      <th>1</th>\n",
       "      <td>18.0</td>\n",
       "      <td>8</td>\n",
       "      <td>318.0</td>\n",
       "      <td>150.0</td>\n",
       "      <td>3436.0</td>\n",
       "      <td>11.0</td>\n",
       "      <td>70</td>\n",
       "      <td>1</td>\n",
       "      <td>plymouth satellite</td>\n",
       "    </tr>\n",
       "    <tr>\n",
       "      <th>2</th>\n",
       "      <td>16.0</td>\n",
       "      <td>8</td>\n",
       "      <td>304.0</td>\n",
       "      <td>150.0</td>\n",
       "      <td>3433.0</td>\n",
       "      <td>12.0</td>\n",
       "      <td>70</td>\n",
       "      <td>1</td>\n",
       "      <td>amc rebel sst</td>\n",
       "    </tr>\n",
       "    <tr>\n",
       "      <th>3</th>\n",
       "      <td>17.0</td>\n",
       "      <td>8</td>\n",
       "      <td>302.0</td>\n",
       "      <td>140.0</td>\n",
       "      <td>3449.0</td>\n",
       "      <td>10.5</td>\n",
       "      <td>70</td>\n",
       "      <td>1</td>\n",
       "      <td>ford torino</td>\n",
       "    </tr>\n",
       "    <tr>\n",
       "      <th>4</th>\n",
       "      <td>15.0</td>\n",
       "      <td>8</td>\n",
       "      <td>429.0</td>\n",
       "      <td>198.0</td>\n",
       "      <td>4341.0</td>\n",
       "      <td>10.0</td>\n",
       "      <td>70</td>\n",
       "      <td>1</td>\n",
       "      <td>ford galaxie 500</td>\n",
       "    </tr>\n",
       "    <tr>\n",
       "      <th>5</th>\n",
       "      <td>14.0</td>\n",
       "      <td>8</td>\n",
       "      <td>454.0</td>\n",
       "      <td>220.0</td>\n",
       "      <td>4354.0</td>\n",
       "      <td>9.0</td>\n",
       "      <td>70</td>\n",
       "      <td>1</td>\n",
       "      <td>chevrolet impala</td>\n",
       "    </tr>\n",
       "    <tr>\n",
       "      <th>6</th>\n",
       "      <td>14.0</td>\n",
       "      <td>8</td>\n",
       "      <td>440.0</td>\n",
       "      <td>215.0</td>\n",
       "      <td>4312.0</td>\n",
       "      <td>8.5</td>\n",
       "      <td>70</td>\n",
       "      <td>1</td>\n",
       "      <td>plymouth fury iii</td>\n",
       "    </tr>\n",
       "    <tr>\n",
       "      <th>7</th>\n",
       "      <td>14.0</td>\n",
       "      <td>8</td>\n",
       "      <td>455.0</td>\n",
       "      <td>225.0</td>\n",
       "      <td>4425.0</td>\n",
       "      <td>10.0</td>\n",
       "      <td>70</td>\n",
       "      <td>1</td>\n",
       "      <td>pontiac catalina</td>\n",
       "    </tr>\n",
       "    <tr>\n",
       "      <th>8</th>\n",
       "      <td>15.0</td>\n",
       "      <td>8</td>\n",
       "      <td>390.0</td>\n",
       "      <td>190.0</td>\n",
       "      <td>3850.0</td>\n",
       "      <td>8.5</td>\n",
       "      <td>70</td>\n",
       "      <td>1</td>\n",
       "      <td>amc ambassador dpl</td>\n",
       "    </tr>\n",
       "    <tr>\n",
       "      <th>9</th>\n",
       "      <td>15.0</td>\n",
       "      <td>8</td>\n",
       "      <td>383.0</td>\n",
       "      <td>170.0</td>\n",
       "      <td>3563.0</td>\n",
       "      <td>10.0</td>\n",
       "      <td>70</td>\n",
       "      <td>1</td>\n",
       "      <td>dodge challenger se</td>\n",
       "    </tr>\n",
       "    <tr>\n",
       "      <th>10</th>\n",
       "      <td>14.0</td>\n",
       "      <td>8</td>\n",
       "      <td>340.0</td>\n",
       "      <td>160.0</td>\n",
       "      <td>3609.0</td>\n",
       "      <td>8.0</td>\n",
       "      <td>70</td>\n",
       "      <td>1</td>\n",
       "      <td>plymouth 'cuda 340</td>\n",
       "    </tr>\n",
       "    <tr>\n",
       "      <th>11</th>\n",
       "      <td>15.0</td>\n",
       "      <td>8</td>\n",
       "      <td>400.0</td>\n",
       "      <td>150.0</td>\n",
       "      <td>3761.0</td>\n",
       "      <td>9.5</td>\n",
       "      <td>70</td>\n",
       "      <td>1</td>\n",
       "      <td>chevrolet monte carlo</td>\n",
       "    </tr>\n",
       "    <tr>\n",
       "      <th>12</th>\n",
       "      <td>14.0</td>\n",
       "      <td>8</td>\n",
       "      <td>455.0</td>\n",
       "      <td>225.0</td>\n",
       "      <td>3086.0</td>\n",
       "      <td>10.0</td>\n",
       "      <td>70</td>\n",
       "      <td>1</td>\n",
       "      <td>buick estate wagon (sw)</td>\n",
       "    </tr>\n",
       "    <tr>\n",
       "      <th>13</th>\n",
       "      <td>24.0</td>\n",
       "      <td>4</td>\n",
       "      <td>113.0</td>\n",
       "      <td>95.00</td>\n",
       "      <td>2372.0</td>\n",
       "      <td>15.0</td>\n",
       "      <td>70</td>\n",
       "      <td>3</td>\n",
       "      <td>toyota corona mark ii</td>\n",
       "    </tr>\n",
       "    <tr>\n",
       "      <th>14</th>\n",
       "      <td>22.0</td>\n",
       "      <td>6</td>\n",
       "      <td>198.0</td>\n",
       "      <td>95.00</td>\n",
       "      <td>2833.0</td>\n",
       "      <td>15.5</td>\n",
       "      <td>70</td>\n",
       "      <td>1</td>\n",
       "      <td>plymouth duster</td>\n",
       "    </tr>\n",
       "    <tr>\n",
       "      <th>15</th>\n",
       "      <td>18.0</td>\n",
       "      <td>6</td>\n",
       "      <td>199.0</td>\n",
       "      <td>97.00</td>\n",
       "      <td>2774.0</td>\n",
       "      <td>15.5</td>\n",
       "      <td>70</td>\n",
       "      <td>1</td>\n",
       "      <td>amc hornet</td>\n",
       "    </tr>\n",
       "    <tr>\n",
       "      <th>16</th>\n",
       "      <td>21.0</td>\n",
       "      <td>6</td>\n",
       "      <td>200.0</td>\n",
       "      <td>85.00</td>\n",
       "      <td>2587.0</td>\n",
       "      <td>16.0</td>\n",
       "      <td>70</td>\n",
       "      <td>1</td>\n",
       "      <td>ford maverick</td>\n",
       "    </tr>\n",
       "    <tr>\n",
       "      <th>17</th>\n",
       "      <td>27.0</td>\n",
       "      <td>4</td>\n",
       "      <td>97.0</td>\n",
       "      <td>88.00</td>\n",
       "      <td>2130.0</td>\n",
       "      <td>14.5</td>\n",
       "      <td>70</td>\n",
       "      <td>3</td>\n",
       "      <td>datsun pl510</td>\n",
       "    </tr>\n",
       "    <tr>\n",
       "      <th>18</th>\n",
       "      <td>26.0</td>\n",
       "      <td>4</td>\n",
       "      <td>97.0</td>\n",
       "      <td>46.00</td>\n",
       "      <td>1835.0</td>\n",
       "      <td>20.5</td>\n",
       "      <td>70</td>\n",
       "      <td>2</td>\n",
       "      <td>volkswagen 1131 deluxe sedan</td>\n",
       "    </tr>\n",
       "    <tr>\n",
       "      <th>19</th>\n",
       "      <td>25.0</td>\n",
       "      <td>4</td>\n",
       "      <td>110.0</td>\n",
       "      <td>87.00</td>\n",
       "      <td>2672.0</td>\n",
       "      <td>17.5</td>\n",
       "      <td>70</td>\n",
       "      <td>2</td>\n",
       "      <td>peugeot 504</td>\n",
       "    </tr>\n",
       "    <tr>\n",
       "      <th>20</th>\n",
       "      <td>24.0</td>\n",
       "      <td>4</td>\n",
       "      <td>107.0</td>\n",
       "      <td>90.00</td>\n",
       "      <td>2430.0</td>\n",
       "      <td>14.5</td>\n",
       "      <td>70</td>\n",
       "      <td>2</td>\n",
       "      <td>audi 100 ls</td>\n",
       "    </tr>\n",
       "    <tr>\n",
       "      <th>21</th>\n",
       "      <td>25.0</td>\n",
       "      <td>4</td>\n",
       "      <td>104.0</td>\n",
       "      <td>95.00</td>\n",
       "      <td>2375.0</td>\n",
       "      <td>17.5</td>\n",
       "      <td>70</td>\n",
       "      <td>2</td>\n",
       "      <td>saab 99e</td>\n",
       "    </tr>\n",
       "    <tr>\n",
       "      <th>22</th>\n",
       "      <td>26.0</td>\n",
       "      <td>4</td>\n",
       "      <td>121.0</td>\n",
       "      <td>113.0</td>\n",
       "      <td>2234.0</td>\n",
       "      <td>12.5</td>\n",
       "      <td>70</td>\n",
       "      <td>2</td>\n",
       "      <td>bmw 2002</td>\n",
       "    </tr>\n",
       "    <tr>\n",
       "      <th>23</th>\n",
       "      <td>21.0</td>\n",
       "      <td>6</td>\n",
       "      <td>199.0</td>\n",
       "      <td>90.00</td>\n",
       "      <td>2648.0</td>\n",
       "      <td>15.0</td>\n",
       "      <td>70</td>\n",
       "      <td>1</td>\n",
       "      <td>amc gremlin</td>\n",
       "    </tr>\n",
       "    <tr>\n",
       "      <th>24</th>\n",
       "      <td>10.0</td>\n",
       "      <td>8</td>\n",
       "      <td>360.0</td>\n",
       "      <td>215.0</td>\n",
       "      <td>4615.0</td>\n",
       "      <td>14.0</td>\n",
       "      <td>70</td>\n",
       "      <td>1</td>\n",
       "      <td>ford f250</td>\n",
       "    </tr>\n",
       "    <tr>\n",
       "      <th>25</th>\n",
       "      <td>10.0</td>\n",
       "      <td>8</td>\n",
       "      <td>307.0</td>\n",
       "      <td>200.0</td>\n",
       "      <td>4376.0</td>\n",
       "      <td>15.0</td>\n",
       "      <td>70</td>\n",
       "      <td>1</td>\n",
       "      <td>chevy c20</td>\n",
       "    </tr>\n",
       "    <tr>\n",
       "      <th>26</th>\n",
       "      <td>11.0</td>\n",
       "      <td>8</td>\n",
       "      <td>318.0</td>\n",
       "      <td>210.0</td>\n",
       "      <td>4382.0</td>\n",
       "      <td>13.5</td>\n",
       "      <td>70</td>\n",
       "      <td>1</td>\n",
       "      <td>dodge d200</td>\n",
       "    </tr>\n",
       "    <tr>\n",
       "      <th>27</th>\n",
       "      <td>9.0</td>\n",
       "      <td>8</td>\n",
       "      <td>304.0</td>\n",
       "      <td>193.0</td>\n",
       "      <td>4732.0</td>\n",
       "      <td>18.5</td>\n",
       "      <td>70</td>\n",
       "      <td>1</td>\n",
       "      <td>hi 1200d</td>\n",
       "    </tr>\n",
       "    <tr>\n",
       "      <th>28</th>\n",
       "      <td>27.0</td>\n",
       "      <td>4</td>\n",
       "      <td>97.0</td>\n",
       "      <td>88.00</td>\n",
       "      <td>2130.0</td>\n",
       "      <td>14.5</td>\n",
       "      <td>71</td>\n",
       "      <td>3</td>\n",
       "      <td>datsun pl510</td>\n",
       "    </tr>\n",
       "    <tr>\n",
       "      <th>29</th>\n",
       "      <td>28.0</td>\n",
       "      <td>4</td>\n",
       "      <td>140.0</td>\n",
       "      <td>90.00</td>\n",
       "      <td>2264.0</td>\n",
       "      <td>15.5</td>\n",
       "      <td>71</td>\n",
       "      <td>1</td>\n",
       "      <td>chevrolet vega 2300</td>\n",
       "    </tr>\n",
       "    <tr>\n",
       "      <th>30</th>\n",
       "      <td>25.0</td>\n",
       "      <td>4</td>\n",
       "      <td>113.0</td>\n",
       "      <td>95.00</td>\n",
       "      <td>2228.0</td>\n",
       "      <td>14.0</td>\n",
       "      <td>71</td>\n",
       "      <td>3</td>\n",
       "      <td>toyota corona</td>\n",
       "    </tr>\n",
       "    <tr>\n",
       "      <th>32</th>\n",
       "      <td>19.0</td>\n",
       "      <td>6</td>\n",
       "      <td>232.0</td>\n",
       "      <td>100.0</td>\n",
       "      <td>2634.0</td>\n",
       "      <td>13.0</td>\n",
       "      <td>71</td>\n",
       "      <td>1</td>\n",
       "      <td>amc gremlin</td>\n",
       "    </tr>\n",
       "    <tr>\n",
       "      <th>33</th>\n",
       "      <td>16.0</td>\n",
       "      <td>6</td>\n",
       "      <td>225.0</td>\n",
       "      <td>105.0</td>\n",
       "      <td>3439.0</td>\n",
       "      <td>15.5</td>\n",
       "      <td>71</td>\n",
       "      <td>1</td>\n",
       "      <td>plymouth satellite custom</td>\n",
       "    </tr>\n",
       "    <tr>\n",
       "      <th>34</th>\n",
       "      <td>17.0</td>\n",
       "      <td>6</td>\n",
       "      <td>250.0</td>\n",
       "      <td>100.0</td>\n",
       "      <td>3329.0</td>\n",
       "      <td>15.5</td>\n",
       "      <td>71</td>\n",
       "      <td>1</td>\n",
       "      <td>chevrolet chevelle malibu</td>\n",
       "    </tr>\n",
       "    <tr>\n",
       "      <th>35</th>\n",
       "      <td>19.0</td>\n",
       "      <td>6</td>\n",
       "      <td>250.0</td>\n",
       "      <td>88.00</td>\n",
       "      <td>3302.0</td>\n",
       "      <td>15.5</td>\n",
       "      <td>71</td>\n",
       "      <td>1</td>\n",
       "      <td>ford torino 500</td>\n",
       "    </tr>\n",
       "  </tbody>\n",
       "</table>\n",
       "</div>"
      ],
      "text/plain": [
       "     Mpg  Cylinders  Displacement Horsepower  Weight  Acceleration  \\\n",
       "0   15.0          8         350.0      165.0  3693.0          11.5   \n",
       "1   18.0          8         318.0      150.0  3436.0          11.0   \n",
       "2   16.0          8         304.0      150.0  3433.0          12.0   \n",
       "3   17.0          8         302.0      140.0  3449.0          10.5   \n",
       "4   15.0          8         429.0      198.0  4341.0          10.0   \n",
       "5   14.0          8         454.0      220.0  4354.0           9.0   \n",
       "6   14.0          8         440.0      215.0  4312.0           8.5   \n",
       "7   14.0          8         455.0      225.0  4425.0          10.0   \n",
       "8   15.0          8         390.0      190.0  3850.0           8.5   \n",
       "9   15.0          8         383.0      170.0  3563.0          10.0   \n",
       "10  14.0          8         340.0      160.0  3609.0           8.0   \n",
       "11  15.0          8         400.0      150.0  3761.0           9.5   \n",
       "12  14.0          8         455.0      225.0  3086.0          10.0   \n",
       "13  24.0          4         113.0      95.00  2372.0          15.0   \n",
       "14  22.0          6         198.0      95.00  2833.0          15.5   \n",
       "15  18.0          6         199.0      97.00  2774.0          15.5   \n",
       "16  21.0          6         200.0      85.00  2587.0          16.0   \n",
       "17  27.0          4          97.0      88.00  2130.0          14.5   \n",
       "18  26.0          4          97.0      46.00  1835.0          20.5   \n",
       "19  25.0          4         110.0      87.00  2672.0          17.5   \n",
       "20  24.0          4         107.0      90.00  2430.0          14.5   \n",
       "21  25.0          4         104.0      95.00  2375.0          17.5   \n",
       "22  26.0          4         121.0      113.0  2234.0          12.5   \n",
       "23  21.0          6         199.0      90.00  2648.0          15.0   \n",
       "24  10.0          8         360.0      215.0  4615.0          14.0   \n",
       "25  10.0          8         307.0      200.0  4376.0          15.0   \n",
       "26  11.0          8         318.0      210.0  4382.0          13.5   \n",
       "27   9.0          8         304.0      193.0  4732.0          18.5   \n",
       "28  27.0          4          97.0      88.00  2130.0          14.5   \n",
       "29  28.0          4         140.0      90.00  2264.0          15.5   \n",
       "30  25.0          4         113.0      95.00  2228.0          14.0   \n",
       "32  19.0          6         232.0      100.0  2634.0          13.0   \n",
       "33  16.0          6         225.0      105.0  3439.0          15.5   \n",
       "34  17.0          6         250.0      100.0  3329.0          15.5   \n",
       "35  19.0          6         250.0      88.00  3302.0          15.5   \n",
       "\n",
       "    Model Year  Origin                      Car Name  \n",
       "0           70       1             buick skylark 320  \n",
       "1           70       1            plymouth satellite  \n",
       "2           70       1                 amc rebel sst  \n",
       "3           70       1                   ford torino  \n",
       "4           70       1              ford galaxie 500  \n",
       "5           70       1              chevrolet impala  \n",
       "6           70       1             plymouth fury iii  \n",
       "7           70       1              pontiac catalina  \n",
       "8           70       1            amc ambassador dpl  \n",
       "9           70       1           dodge challenger se  \n",
       "10          70       1            plymouth 'cuda 340  \n",
       "11          70       1         chevrolet monte carlo  \n",
       "12          70       1       buick estate wagon (sw)  \n",
       "13          70       3         toyota corona mark ii  \n",
       "14          70       1               plymouth duster  \n",
       "15          70       1                    amc hornet  \n",
       "16          70       1                 ford maverick  \n",
       "17          70       3                  datsun pl510  \n",
       "18          70       2  volkswagen 1131 deluxe sedan  \n",
       "19          70       2                   peugeot 504  \n",
       "20          70       2                   audi 100 ls  \n",
       "21          70       2                      saab 99e  \n",
       "22          70       2                      bmw 2002  \n",
       "23          70       1                   amc gremlin  \n",
       "24          70       1                     ford f250  \n",
       "25          70       1                     chevy c20  \n",
       "26          70       1                    dodge d200  \n",
       "27          70       1                      hi 1200d  \n",
       "28          71       3                  datsun pl510  \n",
       "29          71       1           chevrolet vega 2300  \n",
       "30          71       3                 toyota corona  \n",
       "32          71       1                   amc gremlin  \n",
       "33          71       1     plymouth satellite custom  \n",
       "34          71       1     chevrolet chevelle malibu  \n",
       "35          71       1               ford torino 500  "
      ]
     },
     "execution_count": 9,
     "metadata": {},
     "output_type": "execute_result"
    }
   ],
   "source": [
    "dfMPG = pd.read_csv('auto-mpg.data', delimiter= '\\s+', index_col=False) # TODO - need extra arguments to read correctly\n",
    "dfMPG.columns = [\"Mpg\", \"Cylinders\", \"Displacement\", \"Horsepower\", \"Weight\", \"Acceleration\", \"Model Year\", \"Origin\", \"Car Name\"]\n",
    "# More processing code should go here!\n",
    "\n",
    "indexDrops = dfMPG[dfMPG[\"Horsepower\"] == '?'].index\n",
    "dfMPG.drop(indexDrops, inplace = True)\n",
    "dfMPG.head(35)"
   ]
  },
  {
   "cell_type": "markdown",
   "metadata": {},
   "source": [
    "**Part B**: Assuming the data in this sample are representative of cars from the 1970-1983 time period, find a 90% confidence interval for the mean gas mileage (mpg) of all vehicles from this period. Can we conclude that the mean gas mileage is higher than 20 mpg? Be sure to show all calculations in Python. "
   ]
  },
  {
   "cell_type": "markdown",
   "metadata": {},
   "source": [
    "90% Confidence Interval for the Mean MPG:\n",
    "\n",
    "Confidence Interval = $\\bar X \\pm Z_\\frac{\\alpha}{2} \\frac{\\sigma}{\\sqrt{n}}$\n",
    "\n",
    "90% CI $\\rightarrow$ 1 - .9 = .1 \n",
    "\n",
    "$Z_\\frac{\\alpha}{2} = \\phi(1 - \\frac{.1}{2}) = \\phi(.95) = \\pm 1.645$\n",
    "\n",
    "Confidence Interval = $\\bar X \\pm {1.645} \\frac{\\sigma}{\\sqrt{n}}$\n"
   ]
  },
  {
   "cell_type": "code",
   "execution_count": 10,
   "metadata": {},
   "outputs": [
    {
     "name": "stdout",
     "output_type": "stream",
     "text": [
      "[22.810170227619313, 24.109522867009847]\n"
     ]
    }
   ],
   "source": [
    "mpgMean = dfMPG[\"Mpg\"].mean()\n",
    "mpgStd = dfMPG[\"Mpg\"].std()\n",
    "mpgN = dfMPG[\"Mpg\"].count()\n",
    "mpgZ = stats.norm.ppf(.95)\n",
    "SD = mpgStd/math.sqrt(mpgN)\n",
    "mpgCI= []\n",
    "mpgX = (mpgZ * SD)\n",
    "\n",
    "lowerX = mpgMean - mpgX\n",
    "upperX = mpgMean + mpgX\n",
    "\n",
    "mpgCI.append(lowerX)\n",
    "mpgCI.append(upperX)\n",
    "print(mpgCI)"
   ]
  },
  {
   "cell_type": "markdown",
   "metadata": {},
   "source": [
    "We cannot definitively conclude that out mean gas mileage is 20mpg; however, a 90% confidence interval does allow us to conclude that from a repeated sampling with n > 30, we expect 90% of the samples to contain the true mean MPG. A counter example to disprove this conclusion would be the case that 90% of the sample values are greater than 22mpg, but there could exist one car with such a low mpg that the mean still remains below 22mpg although 90% of the samples contain the true mean. "
   ]
  },
  {
   "cell_type": "markdown",
   "metadata": {},
   "source": [
    "**Part C**: You are considering buying a new car, but since [gas prices have recently increased dramatically](https://www.energy.gov/eere/vehicles/fact-915-march-7-2016-average-historical-annual-gasoline-pump-price-1929-2015), you are concerned about getting good fuel economy.\n",
    "\n",
    "Using an appropriate *hypothesis test*, can you conclude at the $\\alpha=0.01$ significance level that the mean gas mileage for vehicles with 4 or 6 cylinder engines is more than 10 mpg better than the mean gas mileage for vehicles with 8 cylinder engines? You may consider two populations here: those vehicles with 4 or 6 cylinders, and those vehicles with 8 cylinders in their engines. Be sure to clearly describe your hypotheses and methodology, and show all relevant computations in Python. "
   ]
  },
  {
   "cell_type": "markdown",
   "metadata": {},
   "source": [
    "$\\alpha = 0.01$\n",
    "\n",
    "Let $\\mu_1$ be the mean gas mileage for cars with 4 or 6 cyclinders and let $\\mu_2$ be the mean gas mileage for cars with 8 cylinders. \n",
    "\n",
    "$H_0 : \\mu_1 - \\mu_2 = 10$\n",
    "\n",
    "$H_1 : \\mu_1 - \\mu_2 > 10$\n",
    "\n",
    "Test Statistic (Assuming H_0 is true): $ Z = \\frac{(\\mu_1 - \\mu_2) - 10}{\\sqrt{\\frac{\\sigma_1^2}{m} + \\frac{\\sigma_2^2}{n}}}$"
   ]
  },
  {
   "cell_type": "code",
   "execution_count": 11,
   "metadata": {},
   "outputs": [
    {
     "data": {
      "text/html": [
       "<div>\n",
       "<style scoped>\n",
       "    .dataframe tbody tr th:only-of-type {\n",
       "        vertical-align: middle;\n",
       "    }\n",
       "\n",
       "    .dataframe tbody tr th {\n",
       "        vertical-align: top;\n",
       "    }\n",
       "\n",
       "    .dataframe thead th {\n",
       "        text-align: right;\n",
       "    }\n",
       "</style>\n",
       "<table border=\"1\" class=\"dataframe\">\n",
       "  <thead>\n",
       "    <tr style=\"text-align: right;\">\n",
       "      <th></th>\n",
       "      <th>Mpg</th>\n",
       "      <th>Displacement</th>\n",
       "      <th>Weight</th>\n",
       "      <th>Acceleration</th>\n",
       "      <th>Model Year</th>\n",
       "      <th>Origin</th>\n",
       "    </tr>\n",
       "    <tr>\n",
       "      <th>Cylinders</th>\n",
       "      <th></th>\n",
       "      <th></th>\n",
       "      <th></th>\n",
       "      <th></th>\n",
       "      <th></th>\n",
       "      <th></th>\n",
       "    </tr>\n",
       "  </thead>\n",
       "  <tbody>\n",
       "    <tr>\n",
       "      <th>3</th>\n",
       "      <td>20.550000</td>\n",
       "      <td>72.500000</td>\n",
       "      <td>2398.500000</td>\n",
       "      <td>13.250000</td>\n",
       "      <td>75.500000</td>\n",
       "      <td>3.000000</td>\n",
       "    </tr>\n",
       "    <tr>\n",
       "      <th>4</th>\n",
       "      <td>29.283920</td>\n",
       "      <td>109.670854</td>\n",
       "      <td>2305.110553</td>\n",
       "      <td>16.581910</td>\n",
       "      <td>77.030151</td>\n",
       "      <td>2.000000</td>\n",
       "    </tr>\n",
       "    <tr>\n",
       "      <th>5</th>\n",
       "      <td>27.366667</td>\n",
       "      <td>145.000000</td>\n",
       "      <td>3103.333333</td>\n",
       "      <td>18.633333</td>\n",
       "      <td>79.000000</td>\n",
       "      <td>2.000000</td>\n",
       "    </tr>\n",
       "    <tr>\n",
       "      <th>6</th>\n",
       "      <td>19.973494</td>\n",
       "      <td>218.361446</td>\n",
       "      <td>3202.120482</td>\n",
       "      <td>16.254217</td>\n",
       "      <td>75.951807</td>\n",
       "      <td>1.192771</td>\n",
       "    </tr>\n",
       "    <tr>\n",
       "      <th>8</th>\n",
       "      <td>14.933333</td>\n",
       "      <td>345.382353</td>\n",
       "      <td>4120.705882</td>\n",
       "      <td>12.964706</td>\n",
       "      <td>73.941176</td>\n",
       "      <td>1.000000</td>\n",
       "    </tr>\n",
       "  </tbody>\n",
       "</table>\n",
       "</div>"
      ],
      "text/plain": [
       "                 Mpg  Displacement       Weight  Acceleration  Model Year  \\\n",
       "Cylinders                                                                   \n",
       "3          20.550000     72.500000  2398.500000     13.250000   75.500000   \n",
       "4          29.283920    109.670854  2305.110553     16.581910   77.030151   \n",
       "5          27.366667    145.000000  3103.333333     18.633333   79.000000   \n",
       "6          19.973494    218.361446  3202.120482     16.254217   75.951807   \n",
       "8          14.933333    345.382353  4120.705882     12.964706   73.941176   \n",
       "\n",
       "             Origin  \n",
       "Cylinders            \n",
       "3          3.000000  \n",
       "4          2.000000  \n",
       "5          2.000000  \n",
       "6          1.192771  \n",
       "8          1.000000  "
      ]
     },
     "execution_count": 11,
     "metadata": {},
     "output_type": "execute_result"
    }
   ],
   "source": [
    "dfMPG.groupby(\"Cylinders\").mean()"
   ]
  },
  {
   "cell_type": "code",
   "execution_count": 12,
   "metadata": {},
   "outputs": [
    {
     "data": {
      "text/html": [
       "<div>\n",
       "<style scoped>\n",
       "    .dataframe tbody tr th:only-of-type {\n",
       "        vertical-align: middle;\n",
       "    }\n",
       "\n",
       "    .dataframe tbody tr th {\n",
       "        vertical-align: top;\n",
       "    }\n",
       "\n",
       "    .dataframe thead th {\n",
       "        text-align: right;\n",
       "    }\n",
       "</style>\n",
       "<table border=\"1\" class=\"dataframe\">\n",
       "  <thead>\n",
       "    <tr style=\"text-align: right;\">\n",
       "      <th></th>\n",
       "      <th>Mpg</th>\n",
       "      <th>Displacement</th>\n",
       "      <th>Horsepower</th>\n",
       "      <th>Weight</th>\n",
       "      <th>Acceleration</th>\n",
       "      <th>Model Year</th>\n",
       "      <th>Origin</th>\n",
       "      <th>Car Name</th>\n",
       "    </tr>\n",
       "    <tr>\n",
       "      <th>Cylinders</th>\n",
       "      <th></th>\n",
       "      <th></th>\n",
       "      <th></th>\n",
       "      <th></th>\n",
       "      <th></th>\n",
       "      <th></th>\n",
       "      <th></th>\n",
       "      <th></th>\n",
       "    </tr>\n",
       "  </thead>\n",
       "  <tbody>\n",
       "    <tr>\n",
       "      <th>3</th>\n",
       "      <td>4</td>\n",
       "      <td>4</td>\n",
       "      <td>4</td>\n",
       "      <td>4</td>\n",
       "      <td>4</td>\n",
       "      <td>4</td>\n",
       "      <td>4</td>\n",
       "      <td>4</td>\n",
       "    </tr>\n",
       "    <tr>\n",
       "      <th>4</th>\n",
       "      <td>199</td>\n",
       "      <td>199</td>\n",
       "      <td>199</td>\n",
       "      <td>199</td>\n",
       "      <td>199</td>\n",
       "      <td>199</td>\n",
       "      <td>199</td>\n",
       "      <td>199</td>\n",
       "    </tr>\n",
       "    <tr>\n",
       "      <th>5</th>\n",
       "      <td>3</td>\n",
       "      <td>3</td>\n",
       "      <td>3</td>\n",
       "      <td>3</td>\n",
       "      <td>3</td>\n",
       "      <td>3</td>\n",
       "      <td>3</td>\n",
       "      <td>3</td>\n",
       "    </tr>\n",
       "    <tr>\n",
       "      <th>6</th>\n",
       "      <td>83</td>\n",
       "      <td>83</td>\n",
       "      <td>83</td>\n",
       "      <td>83</td>\n",
       "      <td>83</td>\n",
       "      <td>83</td>\n",
       "      <td>83</td>\n",
       "      <td>83</td>\n",
       "    </tr>\n",
       "    <tr>\n",
       "      <th>8</th>\n",
       "      <td>102</td>\n",
       "      <td>102</td>\n",
       "      <td>102</td>\n",
       "      <td>102</td>\n",
       "      <td>102</td>\n",
       "      <td>102</td>\n",
       "      <td>102</td>\n",
       "      <td>102</td>\n",
       "    </tr>\n",
       "  </tbody>\n",
       "</table>\n",
       "</div>"
      ],
      "text/plain": [
       "           Mpg  Displacement  Horsepower  Weight  Acceleration  Model Year  \\\n",
       "Cylinders                                                                    \n",
       "3            4             4           4       4             4           4   \n",
       "4          199           199         199     199           199         199   \n",
       "5            3             3           3       3             3           3   \n",
       "6           83            83          83      83            83          83   \n",
       "8          102           102         102     102           102         102   \n",
       "\n",
       "           Origin  Car Name  \n",
       "Cylinders                    \n",
       "3               4         4  \n",
       "4             199       199  \n",
       "5               3         3  \n",
       "6              83        83  \n",
       "8             102       102  "
      ]
     },
     "execution_count": 12,
     "metadata": {},
     "output_type": "execute_result"
    }
   ],
   "source": [
    "dfMPG.groupby(\"Cylinders\").count()"
   ]
  },
  {
   "cell_type": "code",
   "execution_count": 13,
   "metadata": {},
   "outputs": [
    {
     "data": {
      "text/html": [
       "<div>\n",
       "<style scoped>\n",
       "    .dataframe tbody tr th:only-of-type {\n",
       "        vertical-align: middle;\n",
       "    }\n",
       "\n",
       "    .dataframe tbody tr th {\n",
       "        vertical-align: top;\n",
       "    }\n",
       "\n",
       "    .dataframe thead th {\n",
       "        text-align: right;\n",
       "    }\n",
       "</style>\n",
       "<table border=\"1\" class=\"dataframe\">\n",
       "  <thead>\n",
       "    <tr style=\"text-align: right;\">\n",
       "      <th></th>\n",
       "      <th>Mpg</th>\n",
       "      <th>Displacement</th>\n",
       "      <th>Weight</th>\n",
       "      <th>Acceleration</th>\n",
       "      <th>Model Year</th>\n",
       "      <th>Origin</th>\n",
       "    </tr>\n",
       "    <tr>\n",
       "      <th>Cylinders</th>\n",
       "      <th></th>\n",
       "      <th></th>\n",
       "      <th></th>\n",
       "      <th></th>\n",
       "      <th></th>\n",
       "      <th></th>\n",
       "    </tr>\n",
       "  </thead>\n",
       "  <tbody>\n",
       "    <tr>\n",
       "      <th>3</th>\n",
       "      <td>2.564501</td>\n",
       "      <td>5.000000</td>\n",
       "      <td>247.566153</td>\n",
       "      <td>0.500000</td>\n",
       "      <td>3.696846</td>\n",
       "      <td>0.000000</td>\n",
       "    </tr>\n",
       "    <tr>\n",
       "      <th>4</th>\n",
       "      <td>5.670546</td>\n",
       "      <td>21.376813</td>\n",
       "      <td>342.872223</td>\n",
       "      <td>2.383185</td>\n",
       "      <td>3.737484</td>\n",
       "      <td>0.834847</td>\n",
       "    </tr>\n",
       "    <tr>\n",
       "      <th>5</th>\n",
       "      <td>8.228204</td>\n",
       "      <td>33.286634</td>\n",
       "      <td>374.343870</td>\n",
       "      <td>2.369247</td>\n",
       "      <td>1.000000</td>\n",
       "      <td>0.000000</td>\n",
       "    </tr>\n",
       "    <tr>\n",
       "      <th>6</th>\n",
       "      <td>3.828809</td>\n",
       "      <td>32.427246</td>\n",
       "      <td>332.383425</td>\n",
       "      <td>2.031778</td>\n",
       "      <td>3.264381</td>\n",
       "      <td>0.551225</td>\n",
       "    </tr>\n",
       "    <tr>\n",
       "      <th>8</th>\n",
       "      <td>2.834069</td>\n",
       "      <td>46.853478</td>\n",
       "      <td>446.896772</td>\n",
       "      <td>2.233704</td>\n",
       "      <td>3.010949</td>\n",
       "      <td>0.000000</td>\n",
       "    </tr>\n",
       "  </tbody>\n",
       "</table>\n",
       "</div>"
      ],
      "text/plain": [
       "                Mpg  Displacement      Weight  Acceleration  Model Year  \\\n",
       "Cylinders                                                                 \n",
       "3          2.564501      5.000000  247.566153      0.500000    3.696846   \n",
       "4          5.670546     21.376813  342.872223      2.383185    3.737484   \n",
       "5          8.228204     33.286634  374.343870      2.369247    1.000000   \n",
       "6          3.828809     32.427246  332.383425      2.031778    3.264381   \n",
       "8          2.834069     46.853478  446.896772      2.233704    3.010949   \n",
       "\n",
       "             Origin  \n",
       "Cylinders            \n",
       "3          0.000000  \n",
       "4          0.834847  \n",
       "5          0.000000  \n",
       "6          0.551225  \n",
       "8          0.000000  "
      ]
     },
     "execution_count": 13,
     "metadata": {},
     "output_type": "execute_result"
    }
   ],
   "source": [
    "dfMPG.groupby(\"Cylinders\").std()"
   ]
  },
  {
   "cell_type": "markdown",
   "metadata": {},
   "source": [
    "$\\mu_1 = \\frac{29.283920 + 19.973494}{2}$\n",
    "\n",
    "$\\mu_1 = 24.628707$\n",
    "\n",
    "$\\mu_2 = 14.933$\n",
    "\n",
    "$\\sigma_1 = \\frac{(5.670546 + 3.828809)}{2} = 4.7496775$\n",
    "\n",
    "$\\sigma_2 = 2.834069$\n",
    "\n",
    "Test Statistic: $Z = \\frac{(24.628707 - 14.933)-10}{\\sqrt{\\frac{\\sigma_1^2}{m} + \\frac{\\sigma_2^2}{n}}} = \\frac{-0.304293}{\\sqrt{\\frac{4.7496775^2}{(199+83)} + \\frac{2.834069^2}{102}}} = \\frac{-0.304293}{\\sqrt{\\frac{22.559436354}{282} + \\frac{8.0319470968}{102}}} = \\frac{-0.304293}{\\sqrt{0.1587425806}} = \\frac{-0.304293}{0.3984251255} = -0.7637394846$\n",
    "\n",
    "$P-Value: 1 - \\phi(z) = 1 - \\phi(-0.7637394846) = 1 - 0.22251125292971047 = 0.7774887471$\n",
    "\n",
    "$0.7774887471 > 0.05 \\rightarrow $**Fail to Reject the Null**"
   ]
  },
  {
   "cell_type": "code",
   "execution_count": 14,
   "metadata": {},
   "outputs": [
    {
     "data": {
      "text/plain": [
       "0.22251125292971047"
      ]
     },
     "execution_count": 14,
     "metadata": {},
     "output_type": "execute_result"
    }
   ],
   "source": [
    "stats.norm.cdf(-0.7637394846)"
   ]
  },
  {
   "cell_type": "markdown",
   "metadata": {},
   "source": [
    "---\n",
    "[Back to top](#top)\n",
    "<a id='p4'></a>\n",
    "\n",
    "### [20 points] Problem 4 - Grab bag!\n",
    "\n"
   ]
  },
  {
   "cell_type": "markdown",
   "metadata": {},
   "source": [
    "<img src=\"http://blog.localditch.com/wp-content/uploads/2011/01/sonic4.jpg\" style=\"width: 400px;\"/>\n",
    "\n",
    "**Part A**: You work for an engineering firm that has been hired to construct a corkscrew-shaped looped path for hedgehogs to run on and collect gold rings. Thousands of hedgehogs will run along this path each day, so structural failure means injury or death for many wonderful little creatures. \n",
    "\n",
    "You are in charge of quality control for the average strength of carbon fiber that will be used to construct the corkscrew path. Thinking back fondly to your days in CSCI 3022, you set up a hypothesis test in which your alternative hypothesis is that the strength of the carbon fiber is below tolerance, and therefore unsafe. What is the null hypothesis? Would you rather have a low Type I error rate or a low Type II error rate? Explain."
   ]
  },
  {
   "cell_type": "markdown",
   "metadata": {},
   "source": [
    "The null hypothesis here is that the strength of the carbon fiber is equal to the tolerance, while the alternative hypothesis is that the strength is below tolerance, and therefore unsafe. Here, it is preferrable to have a low rate of type II errors, which occur when the null hypothesis is incorrectly not rejected, rather than a type I error. In this case, a type II error means that we fail to reject a bridge when we should have, while a type I error means that we reject a bridge that was actually safe. In other words, it's better to have a low rate of false negatives (Type II)  rather than a low rate of false positives (Type I) in this case."
   ]
  },
  {
   "cell_type": "markdown",
   "metadata": {},
   "source": [
    "**Part B**: Amy, the famous hedgehog data scientist, is working for the same engineering firm as you. She is a legend around the office! Word around the water cooler is that out of all of the 95% confidence intervals that Amy has constructed, 931 of them have turned out to actually capture the true population mean. Since Amy is a data science wizard and you can be sure she is constructing her confidence intervals correctly and collecting and using her data honestly, about how many 95% confidence intervals would you expect her to have constructed total? Explain your reasoning fully with words as well as some math."
   ]
  },
  {
   "cell_type": "markdown",
   "metadata": {},
   "source": [
    "In order for Amy to have calculated 931 confidence intervals that contain the true population mean, she would have to take enough 95% confidence intervals such that 95% of them contained the true mean. In other words, with n 95% confidence intervals, we expect .95 * n = 931 of them to contain the true mean. Solving for n using algebra, (931/.95), Amy would've needed to take n=980 95% confidence intervals in order to obtain 931 that contain the true population mean."
   ]
  },
  {
   "cell_type": "markdown",
   "metadata": {},
   "source": [
    "**Part C**: As part of an outreach program, you and Amy are visiting a local elementary school to talk to the students about data science. What a riot! One of the more astute students asks you a question: \"In general, which is wider: a 95% confidence interval or a 99% confidence interval?\"\n",
    "\n",
    "How would you explain this to these young students, who are not fluent in any kind of science? (So, for example, spouting off theory and words like \"mean\" and \"z critical value\" probably won't mean anything to them.)"
   ]
  },
  {
   "cell_type": "markdown",
   "metadata": {},
   "source": [
    "In general, a 99% confidence interval will be wider than a 95% confidence interval. This is not always the case however; the width of a condifence interval becomes squished as the size of your information gets really big, so there are cases where this is not always true. "
   ]
  },
  {
   "cell_type": "markdown",
   "metadata": {},
   "source": [
    "**Part D:** You observe a sample of 73 pygmy hedgehogs and find that 49 of them are fantastic pets. Then, you observe a sample of 58 long-eared hedgehogs and find that 51 of them are fantastic pets.\n",
    "\n",
    "Is there statistical evidence at the 0.05 significance level that the true proportion of long-eared hedgehogs that make fantastic pets is 10% higher than the true proportion of pygmy hedgehogs that make fantastic pets? Perform a test that computes and properly interprets a p-value."
   ]
  },
  {
   "cell_type": "code",
   "execution_count": 15,
   "metadata": {},
   "outputs": [
    {
     "data": {
      "text/plain": [
       "0.9973092969120215"
      ]
     },
     "execution_count": 15,
     "metadata": {},
     "output_type": "execute_result"
    }
   ],
   "source": [
    "stats.norm.cdf(2.7832696411)"
   ]
  },
  {
   "cell_type": "markdown",
   "metadata": {},
   "source": [
    "\n",
    "\n",
    "$(\\widehat{p_1} - \\widehat{p_2}) \\pm Z_\\frac{\\alpha}{2} \\sqrt{\\frac{{\\widehat{p_1}}(1-\\widehat{p_1})}{n_1} + \\frac{{\\widehat{p_2}}(1-\\widehat{p_2})}{n_2}}$\n",
    "\n",
    "Let $\\widehat{p_1}$ be the proportion of long-eared hedgehogs that make fantastic pets, while $\\widehat{p_2}$ is the proportion of pygmy hedgehods that make fantastic pets.\n",
    "\n",
    "$\\alpha = 0.05 \\rightarrow Z_\\frac{\\alpha}{2} = \\phi(1 - \\frac{.05}{2}) = \\phi(.975) = \\pm 0.8352198700196897$\n",
    "\n",
    "$H_0: \\widehat{p_1} - \\widehat{p_2} \\le .1$\n",
    "\n",
    "$H_1: \\widehat{p_1} - \\widehat{p_2} > .1$\n",
    "\n",
    "$\\widehat{p_1} = \\frac{51}{58} = 0.8793103448$ and $\\widehat{p_2} = \\frac{49}{73} = 0.6712328767$\n",
    "\n",
    "Sample Proportion: $ p = \\frac{(p_1 \\cdot n_1)+(p_2 \\cdot n_2)}{n_1 + n_2} = \\frac{(0.8793103448 \\cdot 58)+(0.6712328767 \\cdot 73)}{(58+73)} = \\frac{(50.9999999984 + 48.9999999991)}{131} = 0.7633587786$\n",
    "\n",
    "Standard Error (SE): $\\sqrt{p(1-p)(\\frac{1}{n_1} + \\frac{1}{n_2})} = \\sqrt{0.7633587786(1-0.7633587786)(\\frac{1}{58} + \\frac{1}{73})} = \\sqrt{0.005589069942} = 0.07476008254$\n",
    "\n",
    "Z$= \\frac{(p_1 - p_2)}{SE} = \\frac{(0.8793103448 - 0.6712328767)}{0.07476008254} = 2.7832696411$\n",
    "\n",
    "p-value is the probability that the z-score is greater than $2.7832696411$\n",
    "\n",
    "p-value $= (1 - \\phi(2.7832696411)) = (1 - 0.9973092969120215) = 0.002690703088$\n",
    "\n",
    "p-value $= 0.002690703088 < .05 = \\alpha$\n",
    "\n",
    "**Since p-value < $\\alpha$ , we reject the Null Hypothesis $H_0$**\n",
    "\n"
   ]
  },
  {
   "cell_type": "markdown",
   "metadata": {},
   "source": [
    "**Part E**: Let $X$ be a normally-distributed random variable representing the difficulty of a homework problem in CSCI 3022. You draw from it more times than you care to count during the Spring 2019 semester and get the following values, stored in the numpy array **toughness**, below. Compute a 90% confidence interval for the _standard deviation_ in problem toughness."
   ]
  },
  {
   "cell_type": "code",
   "execution_count": 16,
   "metadata": {
    "collapsed": true
   },
   "outputs": [],
   "source": [
    "toughness = np.array([7.7778,6.9459,5.8248,9.1111,6.0180,5.0898,7.0380,8.9273,2.9614,5.8387,6.0231])"
   ]
  },
  {
   "cell_type": "markdown",
   "metadata": {},
   "source": [
    "90% CI for the standard deviation in problem toughness:\n",
    "\n",
    "$\\alpha = 0.1 \\rightarrow \\frac{\\alpha}{2} = 0.05$\n",
    "\n",
    "$n = 10$ \n",
    "\n",
    "$s^2 = \\text{toughness.std()}^2 = 2.7903374923966946$\n",
    "\n",
    "$X_{1-\\frac{\\alpha}{2},n-1}^2 = X_{.95,9}^2 =$ stats.chi2.ppf(.05, 9) = 3.3251128430668158\n",
    "\n",
    "$X_{\\frac{\\alpha}{2},n-1}^2 = X_{.05,9}^2 =$ stats.chi2.ppf(.95, 9) = 16.918977604620448\n",
    "\n",
    "$\\frac{(10-1)2.7903374923966946}{16.918977604620448} < \\sigma^2 < \\frac{(10-1)2.7903374923966946}{3.3251128430668158} = 1.4843117603 < \\sigma^2 < 7.5525368963$\n",
    "\n",
    "$\\sqrt{1.4843117603} < \\sqrt{\\sigma^2} < \\sqrt{7.5525368963} = 1.2183233398 < \\sigma < 2.7481879296$\n",
    "\n",
    "90% confidence interval for the standard deviation in problem toughness:\n",
    "**[1.2183233398, 2.7481879296]**"
   ]
  },
  {
   "cell_type": "code",
   "execution_count": 17,
   "metadata": {},
   "outputs": [
    {
     "data": {
      "text/plain": [
       "3.3251128430668158"
      ]
     },
     "execution_count": 17,
     "metadata": {},
     "output_type": "execute_result"
    }
   ],
   "source": [
    "stats.chi2.ppf(.05, 9)"
   ]
  },
  {
   "cell_type": "code",
   "execution_count": 18,
   "metadata": {},
   "outputs": [
    {
     "data": {
      "text/plain": [
       "16.918977604620448"
      ]
     },
     "execution_count": 18,
     "metadata": {},
     "output_type": "execute_result"
    }
   ],
   "source": [
    "stats.chi2.ppf(.95, 9)"
   ]
  },
  {
   "cell_type": "code",
   "execution_count": 19,
   "metadata": {},
   "outputs": [
    {
     "name": "stdout",
     "output_type": "stream",
     "text": [
      "standard deviation: 1.6704303315004474\n",
      "variance: 2.7903374923966946\n"
     ]
    }
   ],
   "source": [
    "dev = toughness.std()\n",
    "print(\"standard deviation:\", dev)\n",
    "var = dev**2\n",
    "print(\"variance:\", var)"
   ]
  },
  {
   "cell_type": "markdown",
   "metadata": {},
   "source": [
    "---\n",
    "\n",
    "<a id='p5'></a>\n",
    "[Back to top](#top)\n",
    "\n",
    "### [20 points] Problem 5 - Lies, damned lies, and statistics\n",
    "\n",
    "![frazz](http://3.bp.blogspot.com/-SbQUWRfHFXk/VdN8YWAy0WI/AAAAAAAAJLw/Ij5E0CbYk6g/s1600/lies3.gif)\n",
    "\n",
    "Legend of your Data Science prowess has spread o'er the land. You have been contacted by a shadowy organization to assess whether there is statistical evidence for sea-level rise in the area of Key West, Florida. You obtain from the University of Hawaii Sea Level Center's [gigantic repository of sea-level data](https://uhslc.soest.hawaii.edu/data/?rq) the daily mean sea levels file included in the zip folder for this assignment. The columns are, in order, the year, month, day-of-month and measured sea level (in millimeters)."
   ]
  },
  {
   "cell_type": "markdown",
   "metadata": {},
   "source": [
    "**Part A:** Load the data `sealevel_keywest.csv` into a Pandas DataFrame. Rename the columns as something meaningful in the context of this problem. Print to the screen the first 7 rows from your updated DataFrame."
   ]
  },
  {
   "cell_type": "code",
   "execution_count": 20,
   "metadata": {
    "collapsed": true
   },
   "outputs": [
    {
     "data": {
      "text/html": [
       "<div>\n",
       "<style scoped>\n",
       "    .dataframe tbody tr th:only-of-type {\n",
       "        vertical-align: middle;\n",
       "    }\n",
       "\n",
       "    .dataframe tbody tr th {\n",
       "        vertical-align: top;\n",
       "    }\n",
       "\n",
       "    .dataframe thead th {\n",
       "        text-align: right;\n",
       "    }\n",
       "</style>\n",
       "<table border=\"1\" class=\"dataframe\">\n",
       "  <thead>\n",
       "    <tr style=\"text-align: right;\">\n",
       "      <th></th>\n",
       "      <th>Year</th>\n",
       "      <th>Month</th>\n",
       "      <th>Day-Of-Month</th>\n",
       "      <th>Measured Sea Level (mm)</th>\n",
       "    </tr>\n",
       "  </thead>\n",
       "  <tbody>\n",
       "    <tr>\n",
       "      <th>0</th>\n",
       "      <td>1913</td>\n",
       "      <td>1</td>\n",
       "      <td>21</td>\n",
       "      <td>1439</td>\n",
       "    </tr>\n",
       "    <tr>\n",
       "      <th>1</th>\n",
       "      <td>1913</td>\n",
       "      <td>1</td>\n",
       "      <td>22</td>\n",
       "      <td>1444</td>\n",
       "    </tr>\n",
       "    <tr>\n",
       "      <th>2</th>\n",
       "      <td>1913</td>\n",
       "      <td>1</td>\n",
       "      <td>23</td>\n",
       "      <td>1489</td>\n",
       "    </tr>\n",
       "    <tr>\n",
       "      <th>3</th>\n",
       "      <td>1913</td>\n",
       "      <td>1</td>\n",
       "      <td>24</td>\n",
       "      <td>1474</td>\n",
       "    </tr>\n",
       "    <tr>\n",
       "      <th>4</th>\n",
       "      <td>1913</td>\n",
       "      <td>1</td>\n",
       "      <td>25</td>\n",
       "      <td>1442</td>\n",
       "    </tr>\n",
       "    <tr>\n",
       "      <th>5</th>\n",
       "      <td>1913</td>\n",
       "      <td>1</td>\n",
       "      <td>26</td>\n",
       "      <td>1467</td>\n",
       "    </tr>\n",
       "    <tr>\n",
       "      <th>6</th>\n",
       "      <td>1913</td>\n",
       "      <td>1</td>\n",
       "      <td>27</td>\n",
       "      <td>1478</td>\n",
       "    </tr>\n",
       "  </tbody>\n",
       "</table>\n",
       "</div>"
      ],
      "text/plain": [
       "   Year  Month  Day-Of-Month  Measured Sea Level (mm)\n",
       "0  1913      1            21                     1439\n",
       "1  1913      1            22                     1444\n",
       "2  1913      1            23                     1489\n",
       "3  1913      1            24                     1474\n",
       "4  1913      1            25                     1442\n",
       "5  1913      1            26                     1467\n",
       "6  1913      1            27                     1478"
      ]
     },
     "execution_count": 20,
     "metadata": {},
     "output_type": "execute_result"
    }
   ],
   "source": [
    "dfSea = pd.read_csv(\"sealevel_keywest.csv\")\n",
    "dfSea.columns = [\"Year\", \"Month\", \"Day-Of-Month\", \"Measured Sea Level (mm)\"]\n",
    "dfSea.head(7)"
   ]
  },
  {
   "cell_type": "markdown",
   "metadata": {},
   "source": [
    "**Part B:**  Plot the raw time series of sea levels. Be sure to label your axes, including units. For the $x$-axis, place the $x$ tick marks on January 2 of each year that is divisible by 10 (i.e., 1920, 1930, ...), and label with that year. You may need to do additional processing in order to grab these indices. "
   ]
  },
  {
   "cell_type": "code",
   "execution_count": 35,
   "metadata": {
    "collapsed": true
   },
   "outputs": [
    {
     "name": "stdout",
     "output_type": "stream",
     "text": [
      "[1920, 1930, 1940, 1950, 1960, 1970, 1980, 1990, 2000, 2010]\n"
     ]
    },
    {
     "data": {
      "text/plain": [
       "[<matplotlib.axis.XTick at 0x1a2023bc50>,\n",
       " <matplotlib.axis.XTick at 0x1a2023b5c0>,\n",
       " <matplotlib.axis.XTick at 0x1a2023b358>,\n",
       " <matplotlib.axis.XTick at 0x1a20aabc18>,\n",
       " <matplotlib.axis.XTick at 0x1a20ab5160>,\n",
       " <matplotlib.axis.XTick at 0x1a20aab978>,\n",
       " <matplotlib.axis.XTick at 0x1a20aa4550>,\n",
       " <matplotlib.axis.XTick at 0x1a2092eef0>,\n",
       " <matplotlib.axis.XTick at 0x1a20ab57b8>,\n",
       " <matplotlib.axis.XTick at 0x1a20ab5cc0>]"
      ]
     },
     "execution_count": 35,
     "metadata": {},
     "output_type": "execute_result"
    },
    {
     "data": {
      "image/png": "[encoded data removed]",
      "text/plain": [
       "<Figure size 432x288 with 1 Axes>"
      ]
     },
     "metadata": {
      "needs_background": "light"
     },
     "output_type": "display_data"
    }
   ],
   "source": [
    "\n",
    "x_ticks = []\n",
    "sea_levels= []\n",
    "for index, row in dfSea.iterrows():\n",
    "    if(int(row[\"Year\"])%10 == 0):\n",
    "        if(row[\"Month\"] == 1 and row[\"Day-Of-Month\"] == 2):\n",
    "            x_ticks.append(int(row[\"Year\"]))\n",
    "    sea_levels.append(row[\"Measured Sea Level (mm)\"]) \n",
    "print(x_ticks)\n",
    "dfSea.plot(kind=\"line\", x=\"Year\", y=\"Measured Sea Level (mm)\")\n",
    "ax.set_xticks(x_ticks)\n"
   ]
  },
  {
   "cell_type": "code",
   "execution_count": null,
   "metadata": {
    "collapsed": true
   },
   "outputs": [],
   "source": []
  },
  {
   "cell_type": "code",
   "execution_count": null,
   "metadata": {
    "collapsed": true
   },
   "outputs": [],
   "source": []
  },
  {
   "cell_type": "markdown",
   "metadata": {},
   "source": [
    "**Part C:** Your time series plot from Part B should look pretty funky. Namely, there are a bunch of spikes in it! What do you think these spikes represent?\n",
    "\n",
    "Now, clean your data set by doing the following:\n",
    "* Remove any data points associated with these spikes. You may need to look back to some of the earlier in-class notebooks and Pandas tutorials for how to drop data points from a Pandas DataFrame. \n",
    "* Include only the data point from the second day of each month.\n",
    "* Convert the sea-level data from millimeters to feet.\n",
    "\n",
    "Then, make a similar plot to Part B, but of your cleaned data set. Be sure to label axes (including units) and only label January 2 of each year that is divisible by 10."
   ]
  },
  {
   "cell_type": "code",
   "execution_count": null,
   "metadata": {
    "collapsed": true
   },
   "outputs": [],
   "source": []
  },
  {
   "cell_type": "markdown",
   "metadata": {},
   "source": [
    "**Part D:** Your mysterious employer owns a lot of beachfront property in Key West and does not want to see people shy away from buying real estate and spending time near the sea. So, they really want to convince others to that the mean sea level in Key West in not increasing. Toward this end, your employer wants to find a decade of data (11 years, including both end points) that has a mean sea level which is not statistically significantly different from the mean sea level in the decade 2000-2010 (including data from both 2000 and 2010). Your employer wants you to use the 99% confidence/1% significance level because it sounds catchy in a press release, and wants the *earliest* decade possible.\n",
    "\n",
    "Use your cleaned monthly data set from Part C to find the earliest decade for which you cannot conclude the mean sea level at Key West was statistically significantly different from the mean sea level in the 2000-2010 decade. You may want to write a helper function to compute the confidence intervals/perform the hypothesis test for you, because there are a LOT of possible 11-year periods to try.\n",
    "\n",
    "You may use either hypothesis tests or confidence intervals, but clearly state which method you will use, your results and show all work that leads to your conclusion. "
   ]
  },
  {
   "cell_type": "code",
   "execution_count": null,
   "metadata": {
    "collapsed": true
   },
   "outputs": [],
   "source": []
  }
 ],
 "metadata": {
  "kernelspec": {
   "display_name": "Python 3",
   "language": "python",
   "name": "python3"
  },
  "language_info": {
   "codemirror_mode": {
    "name": "ipython",
    "version": 3
   },
   "file_extension": ".py",
   "mimetype": "text/x-python",
   "name": "python",
   "nbconvert_exporter": "python",
   "pygments_lexer": "ipython3",
   "version": "3.7.1"
  }
 },
 "nbformat": 4,
 "nbformat_minor": 2
}
